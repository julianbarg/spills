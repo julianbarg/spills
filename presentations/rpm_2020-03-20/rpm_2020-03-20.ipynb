{
 "cells": [
  {
   "cell_type": "markdown",
   "metadata": {},
   "source": [
    "# Research Progress Meeting 2020-03-18\n",
    "<img src=\"https://upload.wikimedia.org/wikipedia/commons/f/fe/Oil_Siphon_%284885250078%29.jpg\" alt=\"Kalamazoo River oil spill\" style=\"width:45%\"> \n",
    "Image: Kalamazoo River oil spill"
   ]
  },
  {
   "cell_type": "markdown",
   "metadata": {
    "slideshow": {
     "slide_type": "subslide"
    }
   },
   "source": [
    "## Purpose\n",
    "\n",
    "My previous analyses focused mostly on incident counts and extends of pipeline networks. But both pipeline incidents and networks are heterogeneous. Many questions I received at the PhD Research Series focused on how much oil was being spilled, and whether leaks were being contained. Therefore, I now obtained data on both the amount of oil transported (in barrel-miles) and on the amount of oil spilled."
   ]
  },
  {
   "cell_type": "markdown",
   "metadata": {
    "slideshow": {
     "slide_type": "slide"
    }
   },
   "source": [
    "## Setup"
   ]
  },
  {
   "cell_type": "code",
   "execution_count": 1,
   "metadata": {
    "slideshow": {
     "slide_type": "subslide"
    }
   },
   "outputs": [
    {
     "name": "stderr",
     "output_type": "stream",
     "text": [
      "── \u001b[1mAttaching packages\u001b[22m ─────────────── tidyverse 1.3.0 ──\n",
      "\u001b[32m✔\u001b[39m \u001b[34mggplot2\u001b[39m 3.2.1     \u001b[32m✔\u001b[39m \u001b[34mpurrr  \u001b[39m 0.3.3\n",
      "\u001b[32m✔\u001b[39m \u001b[34mtibble \u001b[39m 2.1.3     \u001b[32m✔\u001b[39m \u001b[34mdplyr  \u001b[39m 0.8.3\n",
      "\u001b[32m✔\u001b[39m \u001b[34mtidyr  \u001b[39m 1.0.0     \u001b[32m✔\u001b[39m \u001b[34mstringr\u001b[39m 1.4.0\n",
      "\u001b[32m✔\u001b[39m \u001b[34mreadr  \u001b[39m 1.3.1     \u001b[32m✔\u001b[39m \u001b[34mforcats\u001b[39m 0.4.0\n",
      "── \u001b[1mConflicts\u001b[22m ────────────────── tidyverse_conflicts() ──\n",
      "\u001b[31m✖\u001b[39m \u001b[34mdplyr\u001b[39m::\u001b[32mfilter()\u001b[39m masks \u001b[34mstats\u001b[39m::filter()\n",
      "\u001b[31m✖\u001b[39m \u001b[34mdplyr\u001b[39m::\u001b[32mlag()\u001b[39m    masks \u001b[34mstats\u001b[39m::lag()\n",
      "\n",
      "Attaching package: ‘gridExtra’\n",
      "\n",
      "The following object is masked from ‘package:dplyr’:\n",
      "\n",
      "    combine\n",
      "\n"
     ]
    }
   ],
   "source": [
    "library(tidyverse)\n",
    "library(oildata)\n",
    "library(DataAnalysisTools)\n",
    "library(gridExtra)"
   ]
  },
  {
   "cell_type": "code",
   "execution_count": 2,
   "metadata": {},
   "outputs": [
    {
     "data": {
      "text/plain": [
       "[1] ‘1.0.9’"
      ]
     },
     "metadata": {},
     "output_type": "display_data"
    }
   ],
   "source": [
    "packageVersion(\"oildata\")"
   ]
  },
  {
   "cell_type": "code",
   "execution_count": 3,
   "metadata": {
    "slideshow": {
     "slide_type": "subslide"
    }
   },
   "outputs": [
    {
     "data": {
      "text/html": [
       "<table>\n",
       "<caption>A tibble: 6 × 27</caption>\n",
       "<thead>\n",
       "\t<tr><th scope=col>year</th><th scope=col>commodity</th><th scope=col>ID</th><th scope=col>name</th><th scope=col>offshore_share</th><th scope=col>on_offshore</th><th scope=col>hca</th><th scope=col>miles</th><th scope=col>volume_crude</th><th scope=col>volume_hvl</th><th scope=col>⋯</th><th scope=col>estimate_volume_all</th><th scope=col>volume_specific</th><th scope=col>estimate_volume_specific</th><th scope=col>incidents</th><th scope=col>significant_incidents</th><th scope=col>serious_incidents</th><th scope=col>incidents_volume</th><th scope=col>significant_incidents_volume</th><th scope=col>incidents_cost</th><th scope=col>significant_incidents_cost</th></tr>\n",
       "\t<tr><th scope=col>&lt;dbl&gt;</th><th scope=col>&lt;chr&gt;</th><th scope=col>&lt;chr&gt;</th><th scope=col>&lt;chr&gt;</th><th scope=col>&lt;dbl&gt;</th><th scope=col>&lt;chr&gt;</th><th scope=col>&lt;dbl&gt;</th><th scope=col>&lt;dbl&gt;</th><th scope=col>&lt;dbl&gt;</th><th scope=col>&lt;dbl&gt;</th><th scope=col>⋯</th><th scope=col>&lt;dbl&gt;</th><th scope=col>&lt;dbl&gt;</th><th scope=col>&lt;dbl&gt;</th><th scope=col>&lt;dbl&gt;</th><th scope=col>&lt;dbl&gt;</th><th scope=col>&lt;dbl&gt;</th><th scope=col>&lt;dbl&gt;</th><th scope=col>&lt;dbl&gt;</th><th scope=col>&lt;dbl&gt;</th><th scope=col>&lt;dbl&gt;</th></tr>\n",
       "</thead>\n",
       "<tbody>\n",
       "\t<tr><td>2008</td><td>crude</td><td>11733</td><td>Loop                </td><td>0.2008889</td><td>total   </td><td>38.25</td><td>112.5</td><td>40852116635</td><td> 0</td><td>⋯</td><td>40852116635</td><td>40852116635</td><td>40852116635</td><td>0</td><td>0</td><td>0</td><td>0</td><td>0</td><td>0</td><td>0</td></tr>\n",
       "\t<tr><td>2008</td><td>crude</td><td>11733</td><td>Loop                </td><td>0.2008889</td><td>offshore</td><td> 3.00</td><td> 22.6</td><td>         NA</td><td>NA</td><td>⋯</td><td> 8206736320</td><td>         NA</td><td> 8206736320</td><td>0</td><td>0</td><td>0</td><td>0</td><td>0</td><td>0</td><td>0</td></tr>\n",
       "\t<tr><td>2008</td><td>crude</td><td>11733</td><td>Loop                </td><td>0.2008889</td><td>onshore </td><td>35.25</td><td> 89.9</td><td>         NA</td><td>NA</td><td>⋯</td><td>32645380315</td><td>         NA</td><td>32645380315</td><td>0</td><td>0</td><td>0</td><td>0</td><td>0</td><td>0</td><td>0</td></tr>\n",
       "\t<tr><td>2008</td><td>hvl  </td><td>3156 </td><td>Davis Gas Processing</td><td>0.0000000</td><td>total   </td><td> 1.00</td><td> 30.0</td><td>          0</td><td>48</td><td>⋯</td><td>         48</td><td>         48</td><td>         48</td><td>0</td><td>0</td><td>0</td><td>0</td><td>0</td><td>0</td><td>0</td></tr>\n",
       "\t<tr><td>2008</td><td>hvl  </td><td>3156 </td><td>Davis Gas Processing</td><td>0.0000000</td><td>offshore</td><td> 0.00</td><td>  0.0</td><td>          0</td><td> 0</td><td>⋯</td><td>          0</td><td>          0</td><td>          0</td><td>0</td><td>0</td><td>0</td><td>0</td><td>0</td><td>0</td><td>0</td></tr>\n",
       "\t<tr><td>2008</td><td>hvl  </td><td>3156 </td><td>Davis Gas Processing</td><td>0.0000000</td><td>onshore </td><td> 1.00</td><td> 30.0</td><td>          0</td><td>48</td><td>⋯</td><td>         48</td><td>         48</td><td>         48</td><td>0</td><td>0</td><td>0</td><td>0</td><td>0</td><td>0</td><td>0</td></tr>\n",
       "</tbody>\n",
       "</table>\n"
      ],
      "text/latex": [
       "A tibble: 6 × 27\n",
       "\\begin{tabular}{r|lllllllllllllllllllllllllll}\n",
       " year & commodity & ID & name & offshore\\_share & on\\_offshore & hca & miles & volume\\_crude & volume\\_hvl & volume\\_rpp & volume\\_other & estimate\\_volume\\_crude & estimate\\_volume\\_hvl & estimate\\_volume\\_rpp & estimate\\_volume\\_other & volume\\_all & estimate\\_volume\\_all & volume\\_specific & estimate\\_volume\\_specific & incidents & significant\\_incidents & serious\\_incidents & incidents\\_volume & significant\\_incidents\\_volume & incidents\\_cost & significant\\_incidents\\_cost\\\\\n",
       " <dbl> & <chr> & <chr> & <chr> & <dbl> & <chr> & <dbl> & <dbl> & <dbl> & <dbl> & <dbl> & <dbl> & <dbl> & <dbl> & <dbl> & <dbl> & <dbl> & <dbl> & <dbl> & <dbl> & <dbl> & <dbl> & <dbl> & <dbl> & <dbl> & <dbl> & <dbl>\\\\\n",
       "\\hline\n",
       "\t 2008 & crude & 11733 & Loop                 & 0.2008889 & total    & 38.25 & 112.5 & 40852116635 &  0 &  0 &  0 & 40852116635 &  0 & 0 & 0 & 40852116635 & 40852116635 & 40852116635 & 40852116635 & 0 & 0 & 0 & 0 & 0 & 0 & 0\\\\\n",
       "\t 2008 & crude & 11733 & Loop                 & 0.2008889 & offshore &  3.00 &  22.6 &          NA & NA & NA & NA &  8206736320 &  0 & 0 & 0 &          NA &  8206736320 &          NA &  8206736320 & 0 & 0 & 0 & 0 & 0 & 0 & 0\\\\\n",
       "\t 2008 & crude & 11733 & Loop                 & 0.2008889 & onshore  & 35.25 &  89.9 &          NA & NA & NA & NA & 32645380315 &  0 & 0 & 0 &          NA & 32645380315 &          NA & 32645380315 & 0 & 0 & 0 & 0 & 0 & 0 & 0\\\\\n",
       "\t 2008 & hvl   & 3156  & Davis Gas Processing & 0.0000000 & total    &  1.00 &  30.0 &           0 & 48 &  0 &  0 &           0 & 48 & 0 & 0 &          48 &          48 &          48 &          48 & 0 & 0 & 0 & 0 & 0 & 0 & 0\\\\\n",
       "\t 2008 & hvl   & 3156  & Davis Gas Processing & 0.0000000 & offshore &  0.00 &   0.0 &           0 &  0 &  0 &  0 &           0 &  0 & 0 & 0 &           0 &           0 &           0 &           0 & 0 & 0 & 0 & 0 & 0 & 0 & 0\\\\\n",
       "\t 2008 & hvl   & 3156  & Davis Gas Processing & 0.0000000 & onshore  &  1.00 &  30.0 &           0 & 48 &  0 &  0 &           0 & 48 & 0 & 0 &          48 &          48 &          48 &          48 & 0 & 0 & 0 & 0 & 0 & 0 & 0\\\\\n",
       "\\end{tabular}\n"
      ],
      "text/markdown": [
       "\n",
       "A tibble: 6 × 27\n",
       "\n",
       "| year &lt;dbl&gt; | commodity &lt;chr&gt; | ID &lt;chr&gt; | name &lt;chr&gt; | offshore_share &lt;dbl&gt; | on_offshore &lt;chr&gt; | hca &lt;dbl&gt; | miles &lt;dbl&gt; | volume_crude &lt;dbl&gt; | volume_hvl &lt;dbl&gt; | ⋯ ⋯ | estimate_volume_all &lt;dbl&gt; | volume_specific &lt;dbl&gt; | estimate_volume_specific &lt;dbl&gt; | incidents &lt;dbl&gt; | significant_incidents &lt;dbl&gt; | serious_incidents &lt;dbl&gt; | incidents_volume &lt;dbl&gt; | significant_incidents_volume &lt;dbl&gt; | incidents_cost &lt;dbl&gt; | significant_incidents_cost &lt;dbl&gt; |\n",
       "|---|---|---|---|---|---|---|---|---|---|---|---|---|---|---|---|---|---|---|---|---|\n",
       "| 2008 | crude | 11733 | Loop                 | 0.2008889 | total    | 38.25 | 112.5 | 40852116635 |  0 | ⋯ | 40852116635 | 40852116635 | 40852116635 | 0 | 0 | 0 | 0 | 0 | 0 | 0 |\n",
       "| 2008 | crude | 11733 | Loop                 | 0.2008889 | offshore |  3.00 |  22.6 |          NA | NA | ⋯ |  8206736320 |          NA |  8206736320 | 0 | 0 | 0 | 0 | 0 | 0 | 0 |\n",
       "| 2008 | crude | 11733 | Loop                 | 0.2008889 | onshore  | 35.25 |  89.9 |          NA | NA | ⋯ | 32645380315 |          NA | 32645380315 | 0 | 0 | 0 | 0 | 0 | 0 | 0 |\n",
       "| 2008 | hvl   | 3156  | Davis Gas Processing | 0.0000000 | total    |  1.00 |  30.0 |           0 | 48 | ⋯ |          48 |          48 |          48 | 0 | 0 | 0 | 0 | 0 | 0 | 0 |\n",
       "| 2008 | hvl   | 3156  | Davis Gas Processing | 0.0000000 | offshore |  0.00 |   0.0 |           0 |  0 | ⋯ |           0 |           0 |           0 | 0 | 0 | 0 | 0 | 0 | 0 | 0 |\n",
       "| 2008 | hvl   | 3156  | Davis Gas Processing | 0.0000000 | onshore  |  1.00 |  30.0 |           0 | 48 | ⋯ |          48 |          48 |          48 | 0 | 0 | 0 | 0 | 0 | 0 | 0 |\n",
       "\n"
      ],
      "text/plain": [
       "  year commodity ID    name                 offshore_share on_offshore hca  \n",
       "1 2008 crude     11733 Loop                 0.2008889      total       38.25\n",
       "2 2008 crude     11733 Loop                 0.2008889      offshore     3.00\n",
       "3 2008 crude     11733 Loop                 0.2008889      onshore     35.25\n",
       "4 2008 hvl       3156  Davis Gas Processing 0.0000000      total        1.00\n",
       "5 2008 hvl       3156  Davis Gas Processing 0.0000000      offshore     0.00\n",
       "6 2008 hvl       3156  Davis Gas Processing 0.0000000      onshore      1.00\n",
       "  miles volume_crude volume_hvl ⋯ estimate_volume_all volume_specific\n",
       "1 112.5 40852116635   0         ⋯ 40852116635         40852116635    \n",
       "2  22.6          NA  NA         ⋯  8206736320                  NA    \n",
       "3  89.9          NA  NA         ⋯ 32645380315                  NA    \n",
       "4  30.0           0  48         ⋯          48                  48    \n",
       "5   0.0           0   0         ⋯           0                   0    \n",
       "6  30.0           0  48         ⋯          48                  48    \n",
       "  estimate_volume_specific incidents significant_incidents serious_incidents\n",
       "1 40852116635              0         0                     0                \n",
       "2  8206736320              0         0                     0                \n",
       "3 32645380315              0         0                     0                \n",
       "4          48              0         0                     0                \n",
       "5           0              0         0                     0                \n",
       "6          48              0         0                     0                \n",
       "  incidents_volume significant_incidents_volume incidents_cost\n",
       "1 0                0                            0             \n",
       "2 0                0                            0             \n",
       "3 0                0                            0             \n",
       "4 0                0                            0             \n",
       "5 0                0                            0             \n",
       "6 0                0                            0             \n",
       "  significant_incidents_cost\n",
       "1 0                         \n",
       "2 0                         \n",
       "3 0                         \n",
       "4 0                         \n",
       "5 0                         \n",
       "6 0                         "
      ]
     },
     "metadata": {},
     "output_type": "display_data"
    }
   ],
   "source": [
    "head(pipelines)"
   ]
  },
  {
   "cell_type": "markdown",
   "metadata": {
    "slideshow": {
     "slide_type": "subslide"
    }
   },
   "source": [
    "### Transform"
   ]
  },
  {
   "cell_type": "code",
   "execution_count": 4,
   "metadata": {},
   "outputs": [
    {
     "name": "stdout",
     "output_type": "stream",
     "text": [
      "Observations: 945\n",
      "Variables: 4\n",
      "Groups: year [15]\n",
      "$ year        \u001b[3m\u001b[38;5;246m<dbl>\u001b[39m\u001b[23m 2004, 2004, 2004, 2004, 2004, 2004, 2004, 2004, 2004, 200…\n",
      "$ on_offshore \u001b[3m\u001b[38;5;246m<chr>\u001b[39m\u001b[23m \"offshore\", \"offshore\", \"offshore\", \"offshore\", \"offshore…\n",
      "$ variable    \u001b[3m\u001b[38;5;246m<chr>\u001b[39m\u001b[23m \"hca\", \"miles\", \"volume_crude\", \"volume_hvl\", \"volume_rpp…\n",
      "$ value       \u001b[3m\u001b[38;5;246m<dbl>\u001b[39m\u001b[23m 1.000900e+03, 5.085560e+03, NA, NA, NA, NA, 1.675448e+11,…\n"
     ]
    }
   ],
   "source": [
    "pipelines_year <- pipelines %>%\n",
    "    filter(commodity %in% c(\"crude\", \"hvl\", \"rpp\")) %>%\n",
    "    group_by(year, on_offshore) %>%\n",
    "    summarize(!!! oildata::pipelines_consolidation) %>%\n",
    "    pivot_longer(cols = -c(year, on_offshore), names_to = \"variable\", values_to = \"value\")\n",
    "\n",
    "glimpse(pipelines_year)"
   ]
  },
  {
   "cell_type": "markdown",
   "metadata": {
    "slideshow": {
     "slide_type": "slide"
    }
   },
   "source": [
    "## About the data"
   ]
  },
  {
   "cell_type": "code",
   "execution_count": 5,
   "metadata": {
    "slideshow": {
     "slide_type": "subslide"
    }
   },
   "outputs": [
    {
     "data": {
      "text/html": [
       "<ol class=list-inline>\n",
       "\t<li>'hca'</li>\n",
       "\t<li>'miles'</li>\n",
       "\t<li>'volume_crude'</li>\n",
       "\t<li>'volume_hvl'</li>\n",
       "\t<li>'volume_rpp'</li>\n",
       "\t<li>'volume_other'</li>\n",
       "\t<li>'estimate_volume_crude'</li>\n",
       "\t<li>'estimate_volume_hvl'</li>\n",
       "\t<li>'estimate_volume_rpp'</li>\n",
       "\t<li>'estimate_volume_other'</li>\n",
       "\t<li>'volume_all'</li>\n",
       "\t<li>'estimate_volume_all'</li>\n",
       "\t<li>'volume_specific'</li>\n",
       "\t<li>'estimate_volume_specific'</li>\n",
       "\t<li>'incidents'</li>\n",
       "\t<li>'significant_incidents'</li>\n",
       "\t<li>'serious_incidents'</li>\n",
       "\t<li>'incidents_volume'</li>\n",
       "\t<li>'significant_incidents_volume'</li>\n",
       "\t<li>'incidents_cost'</li>\n",
       "\t<li>'significant_incidents_cost'</li>\n",
       "</ol>\n"
      ],
      "text/latex": [
       "\\begin{enumerate*}\n",
       "\\item 'hca'\n",
       "\\item 'miles'\n",
       "\\item 'volume\\_crude'\n",
       "\\item 'volume\\_hvl'\n",
       "\\item 'volume\\_rpp'\n",
       "\\item 'volume\\_other'\n",
       "\\item 'estimate\\_volume\\_crude'\n",
       "\\item 'estimate\\_volume\\_hvl'\n",
       "\\item 'estimate\\_volume\\_rpp'\n",
       "\\item 'estimate\\_volume\\_other'\n",
       "\\item 'volume\\_all'\n",
       "\\item 'estimate\\_volume\\_all'\n",
       "\\item 'volume\\_specific'\n",
       "\\item 'estimate\\_volume\\_specific'\n",
       "\\item 'incidents'\n",
       "\\item 'significant\\_incidents'\n",
       "\\item 'serious\\_incidents'\n",
       "\\item 'incidents\\_volume'\n",
       "\\item 'significant\\_incidents\\_volume'\n",
       "\\item 'incidents\\_cost'\n",
       "\\item 'significant\\_incidents\\_cost'\n",
       "\\end{enumerate*}\n"
      ],
      "text/markdown": [
       "1. 'hca'\n",
       "2. 'miles'\n",
       "3. 'volume_crude'\n",
       "4. 'volume_hvl'\n",
       "5. 'volume_rpp'\n",
       "6. 'volume_other'\n",
       "7. 'estimate_volume_crude'\n",
       "8. 'estimate_volume_hvl'\n",
       "9. 'estimate_volume_rpp'\n",
       "10. 'estimate_volume_other'\n",
       "11. 'volume_all'\n",
       "12. 'estimate_volume_all'\n",
       "13. 'volume_specific'\n",
       "14. 'estimate_volume_specific'\n",
       "15. 'incidents'\n",
       "16. 'significant_incidents'\n",
       "17. 'serious_incidents'\n",
       "18. 'incidents_volume'\n",
       "19. 'significant_incidents_volume'\n",
       "20. 'incidents_cost'\n",
       "21. 'significant_incidents_cost'\n",
       "\n",
       "\n"
      ],
      "text/plain": [
       " [1] \"hca\"                          \"miles\"                       \n",
       " [3] \"volume_crude\"                 \"volume_hvl\"                  \n",
       " [5] \"volume_rpp\"                   \"volume_other\"                \n",
       " [7] \"estimate_volume_crude\"        \"estimate_volume_hvl\"         \n",
       " [9] \"estimate_volume_rpp\"          \"estimate_volume_other\"       \n",
       "[11] \"volume_all\"                   \"estimate_volume_all\"         \n",
       "[13] \"volume_specific\"              \"estimate_volume_specific\"    \n",
       "[15] \"incidents\"                    \"significant_incidents\"       \n",
       "[17] \"serious_incidents\"            \"incidents_volume\"            \n",
       "[19] \"significant_incidents_volume\" \"incidents_cost\"              \n",
       "[21] \"significant_incidents_cost\"  "
      ]
     },
     "metadata": {},
     "output_type": "display_data"
    }
   ],
   "source": [
    "unique(pipelines_year$variable)"
   ]
  },
  {
   "cell_type": "markdown",
   "metadata": {
    "slideshow": {
     "slide_type": "fragment"
    }
   },
   "source": [
    "## Volume estimates\n",
    "\n",
    "Prior to 2010, the PHMSA does not differentiate betwen on and offshroe pipeline miles. They do however provide separate columns on what volume is transported onshore and offshore. For the purpose of this inquiry, I constructed columns which contain the actual values for 2010 onward (or where available) and an approximation for other values. The approximation takes the value of the share of offshore (or onshore) to total pipeline miles multiplied by the total volume transported.\n",
    "\n",
    "$v_{est\\_off} = \\frac{miles_{off}}{miles_{on} + miles_{off}} * v_{total}$"
   ]
  },
  {
   "cell_type": "markdown",
   "metadata": {
    "slideshow": {
     "slide_type": "slide"
    }
   },
   "source": [
    "## How much oil is being transported and spilled?"
   ]
  },
  {
   "cell_type": "markdown",
   "metadata": {
    "slideshow": {
     "slide_type": "subslide"
    }
   },
   "source": [
    "### Looking at both onshore and offshore"
   ]
  },
  {
   "cell_type": "markdown",
   "metadata": {
    "slideshow": {
     "slide_type": "fragment"
    }
   },
   "source": [
    "#### Pipeline network"
   ]
  },
  {
   "cell_type": "code",
   "execution_count": 6,
   "metadata": {},
   "outputs": [],
   "source": [
    "overview <- pipelines_year %>%\n",
    "    filter(variable %in% c(\"miles\", \"volume_all\", \"estimate_volume_all\", \"estimate_volume_specific\")) %>%\n",
    "    ggplot(aes(x = year, y = value)) +\n",
    "        facet_wrap(on_offshore ~ variable, scales = \"free\") +\n",
    "        geom_line()\n",
    "\n",
    "options(repr.plot.width=8, repr.plot.height=6)"
   ]
  },
  {
   "cell_type": "code",
   "execution_count": 7,
   "metadata": {
    "slideshow": {
     "slide_type": "subslide"
    }
   },
   "outputs": [
    {
     "data": {
      "image/png": "[encoded data removed]",
      "text/plain": [
       "plot without title"
      ]
     },
     "metadata": {},
     "output_type": "display_data"
    }
   ],
   "source": [
    "overview"
   ]
  },
  {
   "cell_type": "markdown",
   "metadata": {
    "slideshow": {
     "slide_type": "subslide"
    }
   },
   "source": [
    "We can see that the volume of oil transported does not at all follow a trend that is parallel to the number of pipeline miles. That might be both because of uncertainty in eventual output of oil wells, and because pipelines have different throughput (i.e., different diameter). \n",
    "\n",
    "One piece of good news is that estimate_volume_specific is very close to estimate_volume_all, so we will not have to worry about the difference between the two too much. The divergence comes about e.g., when a crude oil pipeline is used to temporarily transport crude."
   ]
  },
  {
   "cell_type": "markdown",
   "metadata": {
    "slideshow": {
     "slide_type": "subslide"
    }
   },
   "source": [
    "#### Details"
   ]
  },
  {
   "cell_type": "code",
   "execution_count": 8,
   "metadata": {
    "slideshow": {
     "slide_type": "fragment"
    }
   },
   "outputs": [],
   "source": [
    "details_v_m <- pipelines_year %>%\n",
    "    filter(on_offshore %in% c(\"total\")) %>%\n",
    "    filter(variable %in% c(\"miles\", \"estimate_volume_all\")) %>%\n",
    "    ggplot(aes(x = year, y = value)) +\n",
    "        facet_wrap(on_offshore ~ variable, scales = \"free\") +\n",
    "        geom_line() + \n",
    "        scale_y_continuous(limits = c(0, NA))\n",
    "        \n",
    "\n",
    "options(repr.plot.width=8, repr.plot.height=4)"
   ]
  },
  {
   "cell_type": "code",
   "execution_count": 9,
   "metadata": {
    "slideshow": {
     "slide_type": "subslide"
    }
   },
   "outputs": [
    {
     "data": {
      "image/png": "[encoded data removed]",
      "text/plain": [
       "plot without title"
      ]
     },
     "metadata": {},
     "output_type": "display_data"
    }
   ],
   "source": [
    "details_v_m"
   ]
  },
  {
   "cell_type": "markdown",
   "metadata": {},
   "source": [
    "The comparison shows that the uptick in volume transported is much more significant than that in pipeline miles. Existing pipelines are used to transport more oil, or pipelines with larger diameters are used, supposedly because of the fracking boom."
   ]
  }
 ],
 "metadata": {
  "jupytext": {
   "formats": "ipynb,Rmd"
  },
  "kernelspec": {
   "display_name": "R 3.6.1",
   "language": "R",
   "name": "ir361"
  },
  "language_info": {
   "codemirror_mode": "r",
   "file_extension": ".r",
   "mimetype": "text/x-r-source",
   "name": "R",
   "pygments_lexer": "r",
   "version": "3.6.3"
  }
 },
 "nbformat": 4,
 "nbformat_minor": 4
}
