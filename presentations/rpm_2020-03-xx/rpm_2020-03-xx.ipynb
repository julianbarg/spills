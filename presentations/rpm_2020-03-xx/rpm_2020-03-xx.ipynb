{
 "cells": [
  {
   "cell_type": "markdown",
   "metadata": {},
   "source": [
    "# Research Progress Meeting 2020-03-xx"
   ]
  },
  {
   "cell_type": "markdown",
   "metadata": {},
   "source": [
    "## Let's see how spills develop in terms of other performance metrics"
   ]
  },
  {
   "cell_type": "markdown",
   "metadata": {
    "slideshow": {
     "slide_type": "slide"
    }
   },
   "source": [
    "## Setup"
   ]
  },
  {
   "cell_type": "code",
   "execution_count": 1,
   "metadata": {
    "slideshow": {
     "slide_type": "subslide"
    }
   },
   "outputs": [
    {
     "name": "stderr",
     "output_type": "stream",
     "text": [
      "── \u001b[1mAttaching packages\u001b[22m ─────────────── tidyverse 1.3.0 ──\n",
      "\u001b[32m✔\u001b[39m \u001b[34mggplot2\u001b[39m 3.2.1     \u001b[32m✔\u001b[39m \u001b[34mpurrr  \u001b[39m 0.3.3\n",
      "\u001b[32m✔\u001b[39m \u001b[34mtibble \u001b[39m 2.1.3     \u001b[32m✔\u001b[39m \u001b[34mdplyr  \u001b[39m 0.8.3\n",
      "\u001b[32m✔\u001b[39m \u001b[34mtidyr  \u001b[39m 1.0.0     \u001b[32m✔\u001b[39m \u001b[34mstringr\u001b[39m 1.4.0\n",
      "\u001b[32m✔\u001b[39m \u001b[34mreadr  \u001b[39m 1.3.1     \u001b[32m✔\u001b[39m \u001b[34mforcats\u001b[39m 0.4.0\n",
      "── \u001b[1mConflicts\u001b[22m ────────────────── tidyverse_conflicts() ──\n",
      "\u001b[31m✖\u001b[39m \u001b[34mdplyr\u001b[39m::\u001b[32mfilter()\u001b[39m masks \u001b[34mstats\u001b[39m::filter()\n",
      "\u001b[31m✖\u001b[39m \u001b[34mdplyr\u001b[39m::\u001b[32mlag()\u001b[39m    masks \u001b[34mstats\u001b[39m::lag()\n"
     ]
    }
   ],
   "source": [
    "library(tidyverse)\n",
    "library(oildata)\n",
    "library(DataAnalysisTools)"
   ]
  },
  {
   "cell_type": "code",
   "execution_count": 2,
   "metadata": {},
   "outputs": [
    {
     "data": {
      "text/plain": [
       "[1] ‘0.10.7’"
      ]
     },
     "metadata": {},
     "output_type": "display_data"
    }
   ],
   "source": [
    "packageVersion(\"oildata\")"
   ]
  },
  {
   "cell_type": "code",
   "execution_count": 3,
   "metadata": {},
   "outputs": [
    {
     "data": {
      "text/html": [
       "<table>\n",
       "<caption>A tibble: 6 × 14</caption>\n",
       "<thead>\n",
       "\t<tr><th scope=col>year</th><th scope=col>commodity</th><th scope=col>ID</th><th scope=col>name</th><th scope=col>on_offshore</th><th scope=col>hca</th><th scope=col>miles</th><th scope=col>incidents</th><th scope=col>significant_incidents</th><th scope=col>serious_incidents</th><th scope=col>incidents_volume</th><th scope=col>significant_incidents_volume</th><th scope=col>incidents_cost</th><th scope=col>significant_incidents_cost</th></tr>\n",
       "\t<tr><th scope=col>&lt;dbl&gt;</th><th scope=col>&lt;chr&gt;</th><th scope=col>&lt;chr&gt;</th><th scope=col>&lt;chr&gt;</th><th scope=col>&lt;chr&gt;</th><th scope=col>&lt;dbl&gt;</th><th scope=col>&lt;dbl&gt;</th><th scope=col>&lt;dbl&gt;</th><th scope=col>&lt;dbl&gt;</th><th scope=col>&lt;dbl&gt;</th><th scope=col>&lt;dbl&gt;</th><th scope=col>&lt;dbl&gt;</th><th scope=col>&lt;dbl&gt;</th><th scope=col>&lt;dbl&gt;</th></tr>\n",
       "</thead>\n",
       "<tbody>\n",
       "\t<tr><td>2008</td><td>crude  </td><td>11733</td><td>Loop                </td><td>offshore</td><td> 3.00</td><td>22.60</td><td>0</td><td>0</td><td>0</td><td>0</td><td>0</td><td>0</td><td>0</td></tr>\n",
       "\t<tr><td>2008</td><td>crude  </td><td>11733</td><td>Loop                </td><td>onshore </td><td>35.25</td><td>89.90</td><td>0</td><td>0</td><td>0</td><td>0</td><td>0</td><td>0</td><td>0</td></tr>\n",
       "\t<tr><td>2008</td><td>hvl    </td><td>3156 </td><td>Davis Gas Processing</td><td>offshore</td><td> 0.00</td><td> 0.00</td><td>0</td><td>0</td><td>0</td><td>0</td><td>0</td><td>0</td><td>0</td></tr>\n",
       "\t<tr><td>2008</td><td>hvl    </td><td>3156 </td><td>Davis Gas Processing</td><td>onshore </td><td> 1.00</td><td>30.00</td><td>0</td><td>0</td><td>0</td><td>0</td><td>0</td><td>0</td><td>0</td></tr>\n",
       "\t<tr><td>2008</td><td>non_hvl</td><td>31721</td><td>Pipeline Technology </td><td>offshore</td><td> 0.00</td><td> 0.00</td><td>0</td><td>0</td><td>0</td><td>0</td><td>0</td><td>0</td><td>0</td></tr>\n",
       "\t<tr><td>2008</td><td>non_hvl</td><td>31721</td><td>Pipeline Technology </td><td>onshore </td><td>21.93</td><td>21.93</td><td>0</td><td>0</td><td>0</td><td>0</td><td>0</td><td>0</td><td>0</td></tr>\n",
       "</tbody>\n",
       "</table>\n"
      ],
      "text/latex": [
       "A tibble: 6 × 14\n",
       "\\begin{tabular}{r|llllllllllllll}\n",
       " year & commodity & ID & name & on\\_offshore & hca & miles & incidents & significant\\_incidents & serious\\_incidents & incidents\\_volume & significant\\_incidents\\_volume & incidents\\_cost & significant\\_incidents\\_cost\\\\\n",
       " <dbl> & <chr> & <chr> & <chr> & <chr> & <dbl> & <dbl> & <dbl> & <dbl> & <dbl> & <dbl> & <dbl> & <dbl> & <dbl>\\\\\n",
       "\\hline\n",
       "\t 2008 & crude   & 11733 & Loop                 & offshore &  3.00 & 22.60 & 0 & 0 & 0 & 0 & 0 & 0 & 0\\\\\n",
       "\t 2008 & crude   & 11733 & Loop                 & onshore  & 35.25 & 89.90 & 0 & 0 & 0 & 0 & 0 & 0 & 0\\\\\n",
       "\t 2008 & hvl     & 3156  & Davis Gas Processing & offshore &  0.00 &  0.00 & 0 & 0 & 0 & 0 & 0 & 0 & 0\\\\\n",
       "\t 2008 & hvl     & 3156  & Davis Gas Processing & onshore  &  1.00 & 30.00 & 0 & 0 & 0 & 0 & 0 & 0 & 0\\\\\n",
       "\t 2008 & non\\_hvl & 31721 & Pipeline Technology  & offshore &  0.00 &  0.00 & 0 & 0 & 0 & 0 & 0 & 0 & 0\\\\\n",
       "\t 2008 & non\\_hvl & 31721 & Pipeline Technology  & onshore  & 21.93 & 21.93 & 0 & 0 & 0 & 0 & 0 & 0 & 0\\\\\n",
       "\\end{tabular}\n"
      ],
      "text/markdown": [
       "\n",
       "A tibble: 6 × 14\n",
       "\n",
       "| year &lt;dbl&gt; | commodity &lt;chr&gt; | ID &lt;chr&gt; | name &lt;chr&gt; | on_offshore &lt;chr&gt; | hca &lt;dbl&gt; | miles &lt;dbl&gt; | incidents &lt;dbl&gt; | significant_incidents &lt;dbl&gt; | serious_incidents &lt;dbl&gt; | incidents_volume &lt;dbl&gt; | significant_incidents_volume &lt;dbl&gt; | incidents_cost &lt;dbl&gt; | significant_incidents_cost &lt;dbl&gt; |\n",
       "|---|---|---|---|---|---|---|---|---|---|---|---|---|---|\n",
       "| 2008 | crude   | 11733 | Loop                 | offshore |  3.00 | 22.60 | 0 | 0 | 0 | 0 | 0 | 0 | 0 |\n",
       "| 2008 | crude   | 11733 | Loop                 | onshore  | 35.25 | 89.90 | 0 | 0 | 0 | 0 | 0 | 0 | 0 |\n",
       "| 2008 | hvl     | 3156  | Davis Gas Processing | offshore |  0.00 |  0.00 | 0 | 0 | 0 | 0 | 0 | 0 | 0 |\n",
       "| 2008 | hvl     | 3156  | Davis Gas Processing | onshore  |  1.00 | 30.00 | 0 | 0 | 0 | 0 | 0 | 0 | 0 |\n",
       "| 2008 | non_hvl | 31721 | Pipeline Technology  | offshore |  0.00 |  0.00 | 0 | 0 | 0 | 0 | 0 | 0 | 0 |\n",
       "| 2008 | non_hvl | 31721 | Pipeline Technology  | onshore  | 21.93 | 21.93 | 0 | 0 | 0 | 0 | 0 | 0 | 0 |\n",
       "\n"
      ],
      "text/plain": [
       "  year commodity ID    name                 on_offshore hca   miles incidents\n",
       "1 2008 crude     11733 Loop                 offshore     3.00 22.60 0        \n",
       "2 2008 crude     11733 Loop                 onshore     35.25 89.90 0        \n",
       "3 2008 hvl       3156  Davis Gas Processing offshore     0.00  0.00 0        \n",
       "4 2008 hvl       3156  Davis Gas Processing onshore      1.00 30.00 0        \n",
       "5 2008 non_hvl   31721 Pipeline Technology  offshore     0.00  0.00 0        \n",
       "6 2008 non_hvl   31721 Pipeline Technology  onshore     21.93 21.93 0        \n",
       "  significant_incidents serious_incidents incidents_volume\n",
       "1 0                     0                 0               \n",
       "2 0                     0                 0               \n",
       "3 0                     0                 0               \n",
       "4 0                     0                 0               \n",
       "5 0                     0                 0               \n",
       "6 0                     0                 0               \n",
       "  significant_incidents_volume incidents_cost significant_incidents_cost\n",
       "1 0                            0              0                         \n",
       "2 0                            0              0                         \n",
       "3 0                            0              0                         \n",
       "4 0                            0              0                         \n",
       "5 0                            0              0                         \n",
       "6 0                            0              0                         "
      ]
     },
     "metadata": {},
     "output_type": "display_data"
    }
   ],
   "source": [
    "head(pipelines)"
   ]
  },
  {
   "cell_type": "code",
   "execution_count": 4,
   "metadata": {
    "slideshow": {
     "slide_type": "subslide"
    }
   },
   "outputs": [
    {
     "name": "stdout",
     "output_type": "stream",
     "text": [
      "Observations: 6,754\n",
      "Variables: 13\n",
      "Groups: year, commodity [69]\n",
      "$ year                         \u001b[3m\u001b[38;5;246m<dbl>\u001b[39m\u001b[23m 2004, 2004, 2004, 2004, 2004, 2004, 2004…\n",
      "$ commodity                    \u001b[3m\u001b[38;5;246m<chr>\u001b[39m\u001b[23m \"CO2 OR OTHER\", \"CO2 OR OTHER\", \"CO2 OR …\n",
      "$ ID                           \u001b[3m\u001b[38;5;246m<chr>\u001b[39m\u001b[23m \"30656\", \"30657\", \"31013\", \"31178\", \"314…\n",
      "$ hca                          \u001b[3m\u001b[38;5;246m<dbl>\u001b[39m\u001b[23m 19.00, 40.00, 0.00, 0.00, 1.00, 0.00, 0.…\n",
      "$ miles                        \u001b[3m\u001b[38;5;246m<dbl>\u001b[39m\u001b[23m 408.00, 462.00, 121.00, 17.00, 20.00, 11…\n",
      "$ incidents                    \u001b[3m\u001b[38;5;246m<dbl>\u001b[39m\u001b[23m 0, 0, 0, 0, 0, 0, 0, 0, 0, 0, 0, 0, 0, 0…\n",
      "$ significant_incidents        \u001b[3m\u001b[38;5;246m<dbl>\u001b[39m\u001b[23m 0, 0, 0, 0, 0, 0, 0, 0, 0, 0, 0, 0, 0, 0…\n",
      "$ serious_incidents            \u001b[3m\u001b[38;5;246m<dbl>\u001b[39m\u001b[23m 0, 0, 0, 0, 0, 0, 0, 0, 0, 0, 0, 0, 0, 0…\n",
      "$ incidents_volume             \u001b[3m\u001b[38;5;246m<dbl>\u001b[39m\u001b[23m 0, 0, 0, 0, 0, 0, 0, 0, 0, 0, 0, 0, 0, 0…\n",
      "$ significant_incidents_volume \u001b[3m\u001b[38;5;246m<dbl>\u001b[39m\u001b[23m 0, 0, 0, 0, 0, 0, 0, 0, 0, 0, 0, 0, 0, 0…\n",
      "$ incidents_cost               \u001b[3m\u001b[38;5;246m<dbl>\u001b[39m\u001b[23m 0.0, 0.0, 0.0, 0.0, 0.0, 0.0, 0.0, 0.0, …\n",
      "$ significant_incidents_cost   \u001b[3m\u001b[38;5;246m<dbl>\u001b[39m\u001b[23m 0.0, 0.0, 0.0, 0.0, 0.0, 0.0, 0.0, 0.0, …\n",
      "$ on_offshore                  \u001b[3m\u001b[38;5;246m<chr>\u001b[39m\u001b[23m \"total\", \"total\", \"total\", \"total\", \"tot…\n"
     ]
    }
   ],
   "source": [
    "total <- pipelines %>%\n",
    "    group_by(year, commodity, ID) %>%\n",
    "    summarize(!!! pipelines_consolidation) %>%\n",
    "    mutate(on_offshore = \"total\")\n",
    "\n",
    "glimpse(total)"
   ]
  },
  {
   "cell_type": "code",
   "execution_count": 5,
   "metadata": {},
   "outputs": [],
   "source": [
    "pipelines <- pipelines %>%\n",
    "    bind_rows(total)"
   ]
  },
  {
   "cell_type": "markdown",
   "metadata": {
    "slideshow": {
     "slide_type": "slide"
    }
   },
   "source": [
    "## Overview"
   ]
  },
  {
   "cell_type": "code",
   "execution_count": 6,
   "metadata": {
    "slideshow": {
     "slide_type": "subslide"
    }
   },
   "outputs": [
    {
     "name": "stdout",
     "output_type": "stream",
     "text": [
      "Observations: 405\n",
      "Variables: 4\n",
      "Groups: year [15]\n",
      "$ year        \u001b[3m\u001b[38;5;246m<dbl>\u001b[39m\u001b[23m 2004, 2004, 2004, 2004, 2004, 2004, 2004, 2004, 2004, 200…\n",
      "$ on_offshore \u001b[3m\u001b[38;5;246m<chr>\u001b[39m\u001b[23m \"offshore\", \"offshore\", \"offshore\", \"offshore\", \"offshore…\n",
      "$ variable    \u001b[3m\u001b[38;5;246m<chr>\u001b[39m\u001b[23m \"hca\", \"miles\", \"incidents\", \"significant_incidents\", \"se…\n",
      "$ value       \u001b[3m\u001b[38;5;246m<dbl>\u001b[39m\u001b[23m 998.90, 5089.56, 13.00, 10.00, 0.00, 11916.35, 11916.16, …\n"
     ]
    }
   ],
   "source": [
    "pipelines_year <- pipelines %>%\n",
    "    group_by(year, on_offshore) %>%\n",
    "    summarize(!!! oildata::pipelines_consolidation) %>%\n",
    "    pivot_longer(cols = -c(year, on_offshore), names_to = \"variable\", values_to = \"value\")\n",
    "\n",
    "glimpse(pipelines_year)"
   ]
  },
  {
   "cell_type": "code",
   "execution_count": 7,
   "metadata": {
    "slideshow": {
     "slide_type": "subslide"
    }
   },
   "outputs": [
    {
     "data": {
      "text/html": [
       "<ol class=list-inline>\n",
       "\t<li>'hca'</li>\n",
       "\t<li>'miles'</li>\n",
       "\t<li>'incidents'</li>\n",
       "\t<li>'significant_incidents'</li>\n",
       "\t<li>'serious_incidents'</li>\n",
       "\t<li>'incidents_volume'</li>\n",
       "\t<li>'significant_incidents_volume'</li>\n",
       "\t<li>'incidents_cost'</li>\n",
       "\t<li>'significant_incidents_cost'</li>\n",
       "</ol>\n"
      ],
      "text/latex": [
       "\\begin{enumerate*}\n",
       "\\item 'hca'\n",
       "\\item 'miles'\n",
       "\\item 'incidents'\n",
       "\\item 'significant\\_incidents'\n",
       "\\item 'serious\\_incidents'\n",
       "\\item 'incidents\\_volume'\n",
       "\\item 'significant\\_incidents\\_volume'\n",
       "\\item 'incidents\\_cost'\n",
       "\\item 'significant\\_incidents\\_cost'\n",
       "\\end{enumerate*}\n"
      ],
      "text/markdown": [
       "1. 'hca'\n",
       "2. 'miles'\n",
       "3. 'incidents'\n",
       "4. 'significant_incidents'\n",
       "5. 'serious_incidents'\n",
       "6. 'incidents_volume'\n",
       "7. 'significant_incidents_volume'\n",
       "8. 'incidents_cost'\n",
       "9. 'significant_incidents_cost'\n",
       "\n",
       "\n"
      ],
      "text/plain": [
       "[1] \"hca\"                          \"miles\"                       \n",
       "[3] \"incidents\"                    \"significant_incidents\"       \n",
       "[5] \"serious_incidents\"            \"incidents_volume\"            \n",
       "[7] \"significant_incidents_volume\" \"incidents_cost\"              \n",
       "[9] \"significant_incidents_cost\"  "
      ]
     },
     "metadata": {},
     "output_type": "display_data"
    }
   ],
   "source": [
    "unique(pipelines_year$variable)"
   ]
  },
  {
   "cell_type": "code",
   "execution_count": 8,
   "metadata": {
    "slideshow": {
     "slide_type": "subslide"
    }
   },
   "outputs": [],
   "source": [
    "overview <- pipelines_year %>%\n",
    "    filter(variable %in% c(\"miles\", \"significant_incidents\", \"incidents_cost\", \"incidents_volume\")) %>%\n",
    "    ggplot(aes(x = year, y = value)) +\n",
    "        facet_wrap(on_offshore ~ variable, scales = \"free\") +\n",
    "        geom_line()\n",
    "\n",
    "options(repr.plot.width=8, repr.plot.height=6)"
   ]
  },
  {
   "cell_type": "code",
   "execution_count": 9,
   "metadata": {
    "slideshow": {
     "slide_type": "subslide"
    }
   },
   "outputs": [
    {
     "data": {
      "image/png": "[encoded data removed]",
      "text/plain": [
       "plot without title"
      ]
     },
     "metadata": {},
     "output_type": "display_data"
    }
   ],
   "source": [
    "overview"
   ]
  },
  {
   "cell_type": "markdown",
   "metadata": {},
   "source": [
    "All cost in 1984 dollars. Volume spilled in gallons."
   ]
  },
  {
   "cell_type": "markdown",
   "metadata": {
    "slideshow": {
     "slide_type": "subslide"
    }
   },
   "source": [
    "### What is that cost spike in 2009 for *onshore*?!"
   ]
  },
  {
   "cell_type": "code",
   "execution_count": 10,
   "metadata": {},
   "outputs": [
    {
     "data": {
      "text/html": [
       "<table>\n",
       "<caption>A tibble: 1 × 23</caption>\n",
       "<thead>\n",
       "\t<tr><th scope=col>DATAFILE_AS_OF</th><th scope=col>significant</th><th scope=col>serious</th><th scope=col>ID</th><th scope=col>name</th><th scope=col>year</th><th scope=col>lat</th><th scope=col>long</th><th scope=col>cost</th><th scope=col>cost_1984</th><th scope=col>⋯</th><th scope=col>installation_year</th><th scope=col>FATAL</th><th scope=col>INJURE</th><th scope=col>cause</th><th scope=col>CAUSE_DETAILS</th><th scope=col>MAP_CAUSE</th><th scope=col>MAP_SUBCAUSE</th><th scope=col>SPILL_TYPE_CATEGORY</th><th scope=col>volume</th><th scope=col>date</th></tr>\n",
       "\t<tr><th scope=col>&lt;dttm&gt;</th><th scope=col>&lt;lgl&gt;</th><th scope=col>&lt;lgl&gt;</th><th scope=col>&lt;dbl&gt;</th><th scope=col>&lt;chr&gt;</th><th scope=col>&lt;dbl&gt;</th><th scope=col>&lt;chr&gt;</th><th scope=col>&lt;chr&gt;</th><th scope=col>&lt;dbl&gt;</th><th scope=col>&lt;dbl&gt;</th><th scope=col>⋯</th><th scope=col>&lt;dbl&gt;</th><th scope=col>&lt;dbl&gt;</th><th scope=col>&lt;dbl&gt;</th><th scope=col>&lt;chr&gt;</th><th scope=col>&lt;chr&gt;</th><th scope=col>&lt;chr&gt;</th><th scope=col>&lt;chr&gt;</th><th scope=col>&lt;chr&gt;</th><th scope=col>&lt;dbl&gt;</th><th scope=col>&lt;date&gt;</th></tr>\n",
       "</thead>\n",
       "<tbody>\n",
       "\t<tr><td>2020-01-30 04:18:51</td><td>TRUE</td><td>FALSE</td><td>11169</td><td>Enbridge Energy, Limited Partnership</td><td>2010</td><td>42.24329</td><td>-84.97251</td><td>840526118</td><td>460446182</td><td>⋯</td><td>1969</td><td>NA</td><td>NA</td><td>material</td><td>ENVIRONMENTAL CRACKING-RELATED</td><td>MATERIAL/WELD/EQUIP FAILURE</td><td>ENVIRONMENTAL CRACKING-RELATED</td><td>LARGE</td><td>20082</td><td>2010-07-25</td></tr>\n",
       "</tbody>\n",
       "</table>\n"
      ],
      "text/latex": [
       "A tibble: 1 × 23\n",
       "\\begin{tabular}{r|lllllllllllllllllllllll}\n",
       " DATAFILE\\_AS\\_OF & significant & serious & ID & name & year & lat & long & cost & cost\\_1984 & TOTAL\\_COST\\_CURRENT & commodity & on\\_offshore & installation\\_year & FATAL & INJURE & cause & CAUSE\\_DETAILS & MAP\\_CAUSE & MAP\\_SUBCAUSE & SPILL\\_TYPE\\_CATEGORY & volume & date\\\\\n",
       " <dttm> & <lgl> & <lgl> & <dbl> & <chr> & <dbl> & <chr> & <chr> & <dbl> & <dbl> & <dbl> & <chr> & <chr> & <dbl> & <dbl> & <dbl> & <chr> & <chr> & <chr> & <chr> & <chr> & <dbl> & <date>\\\\\n",
       "\\hline\n",
       "\t 2020-01-30 04:18:51 & TRUE & FALSE & 11169 & Enbridge Energy, Limited Partnership & 2010 & 42.24329 & -84.97251 & 840526118 & 460446182 & 983088852 & crude & onshore & 1969 & NA & NA & material & ENVIRONMENTAL CRACKING-RELATED & MATERIAL/WELD/EQUIP FAILURE & ENVIRONMENTAL CRACKING-RELATED & LARGE & 20082 & 2010-07-25\\\\\n",
       "\\end{tabular}\n"
      ],
      "text/markdown": [
       "\n",
       "A tibble: 1 × 23\n",
       "\n",
       "| DATAFILE_AS_OF &lt;dttm&gt; | significant &lt;lgl&gt; | serious &lt;lgl&gt; | ID &lt;dbl&gt; | name &lt;chr&gt; | year &lt;dbl&gt; | lat &lt;chr&gt; | long &lt;chr&gt; | cost &lt;dbl&gt; | cost_1984 &lt;dbl&gt; | ⋯ ⋯ | installation_year &lt;dbl&gt; | FATAL &lt;dbl&gt; | INJURE &lt;dbl&gt; | cause &lt;chr&gt; | CAUSE_DETAILS &lt;chr&gt; | MAP_CAUSE &lt;chr&gt; | MAP_SUBCAUSE &lt;chr&gt; | SPILL_TYPE_CATEGORY &lt;chr&gt; | volume &lt;dbl&gt; | date &lt;date&gt; |\n",
       "|---|---|---|---|---|---|---|---|---|---|---|---|---|---|---|---|---|---|---|---|---|\n",
       "| 2020-01-30 04:18:51 | TRUE | FALSE | 11169 | Enbridge Energy, Limited Partnership | 2010 | 42.24329 | -84.97251 | 840526118 | 460446182 | ⋯ | 1969 | NA | NA | material | ENVIRONMENTAL CRACKING-RELATED | MATERIAL/WELD/EQUIP FAILURE | ENVIRONMENTAL CRACKING-RELATED | LARGE | 20082 | 2010-07-25 |\n",
       "\n"
      ],
      "text/plain": [
       "  DATAFILE_AS_OF      significant serious ID   \n",
       "1 2020-01-30 04:18:51 TRUE        FALSE   11169\n",
       "  name                                 year lat      long      cost     \n",
       "1 Enbridge Energy, Limited Partnership 2010 42.24329 -84.97251 840526118\n",
       "  cost_1984 ⋯ installation_year FATAL INJURE cause   \n",
       "1 460446182 ⋯ 1969              NA    NA     material\n",
       "  CAUSE_DETAILS                  MAP_CAUSE                  \n",
       "1 ENVIRONMENTAL CRACKING-RELATED MATERIAL/WELD/EQUIP FAILURE\n",
       "  MAP_SUBCAUSE                   SPILL_TYPE_CATEGORY volume date      \n",
       "1 ENVIRONMENTAL CRACKING-RELATED LARGE               20082  2010-07-25"
      ]
     },
     "metadata": {},
     "output_type": "display_data"
    }
   ],
   "source": [
    "subset(incidents, on_offshore == \"onshore\" & cost_1984 > 1e+8, -narrative)"
   ]
  },
  {
   "cell_type": "markdown",
   "metadata": {},
   "source": [
    "It is the Kalamazoo River oil spill.\n",
    "\n",
    "https://en.wikipedia.org/wiki/Kalamazoo_River_oil_spill"
   ]
  },
  {
   "cell_type": "code",
   "execution_count": 11,
   "metadata": {
    "slideshow": {
     "slide_type": "subslide"
    }
   },
   "outputs": [
    {
     "data": {
      "text/html": [
       "<table class=\"table\" style=\"font-size: 14px; margin-left: auto; margin-right: auto;\">\n",
       " <thead>\n",
       "  <tr>\n",
       "   <th style=\"text-align:left;\"> x </th>\n",
       "  </tr>\n",
       " </thead>\n",
       "<tbody>\n",
       "  <tr>\n",
       "   <td style=\"text-align:left;\"> On july 26, 2010, enbridge confirmed a mainline rupture on line 6b at mp608.2452.  During the investigation it was determined that the rupture occurred simultaneously with a scheduled pipeline shutdown.  As a result of the incident phmsa issued a corrective action order that ordered the pipeline to remain shut down until such time that the activities outlined in the cao were satisfied.  Enbridge satisfied all conditions of the cao and received approval from phmsa to resume operations on september 27, 2010 at which time enbridge successfully restarted the line.      Of further note, while the telephonic report to the nrc is stated as 13:33 on july 26, 2010, enbridge made a call to nrc and was on hold for a period of time.  Enbridge then hung up the call and called again at which time it was on hold for a further period of time.  The stated 13:33 reflects the time that enbridge was able to provide verbal notification of the incident.    The release was initially estimated at 19,500 barrels of which an undetermined amount entered the talmadge creek and ultimately the kalamazoo river.  The amount of estimated product released in or reaching water has not yet been confirmed and is based upon a calculation provided by an external consultant.  The amount of oil that reached water is subject to further investigation.  Enbridge is currently reviewing several methodologies to calculate this volume, and will communicate the methodology and subsequent volume to phmsa upon completion.     The section that failed has been sent to a laboratory for a metallurgical analysis, under the direction of ntsb. Pending the results of metallurgical testing and failure investigations, enbridge is unable to provide complete and final data for this original report submission. Information contained in this report is to be considered estimated until supplemental and final reports are filed. Ntsb, phmsa and enbridge investigations into this accident have commenced. As this investigation is ongoing, the primary and secondary cause(s) have not been finalized.    To date, enbridge has not found any potable water sources (public or private) with drinking water contamination that has been verifiably linked to the enbridge release. The assessment of all drinking water sources in the affected area is ongoing. Enbridge is in the process of sampling drinking water sources and is working directly with state and local public health officials in evaluating drinking water from potable wells to ensure public health.    Enbridge estimated that it will incur aggregate charges between $300 million and $400 million. These charges include emergency response, environmental remediation and cleanup activities associated with the crude oil release, costs to repair the pipeline and related inspection costs, potential claims by third parties, and lost revenue. We continue to work to accurately project the total cost of the leak and its remediation, however we are unable to break it down into the specific detail requested in this form due to the complexity of the efforts.    As further information becomes known, supplemental reports will be filed as required.    See attached uploaded file for supplemental narrative as of december 20, 2010.  See attached uploaded file for supplemental narrative as of february 22, 2011.  See attached uploaded file for supplemental narrative as of march 6, 2012.  See attached uploaded file for supplemental narrative as of june 28, 2013. </td>\n",
       "  </tr>\n",
       "</tbody>\n",
       "</table>"
      ]
     },
     "metadata": {},
     "output_type": "display_data"
    }
   ],
   "source": [
    "subset(incidents, round(cost_1984) == 460446182)$narrative %>%\n",
    "    jupyter_styling(font_size = 14)"
   ]
  },
  {
   "cell_type": "markdown",
   "metadata": {
    "slideshow": {
     "slide_type": "subslide"
    }
   },
   "source": [
    "### What happened with offshore in '04?"
   ]
  },
  {
   "cell_type": "code",
   "execution_count": 12,
   "metadata": {},
   "outputs": [
    {
     "data": {
      "text/html": [
       "<table>\n",
       "<caption>A tibble: 2 × 20</caption>\n",
       "<thead>\n",
       "\t<tr><th scope=col>serious</th><th scope=col>ID</th><th scope=col>name</th><th scope=col>year</th><th scope=col>lat</th><th scope=col>long</th><th scope=col>cost</th><th scope=col>cost_1984</th><th scope=col>commodity</th><th scope=col>on_offshore</th><th scope=col>installation_year</th><th scope=col>FATAL</th><th scope=col>INJURE</th><th scope=col>cause</th><th scope=col>CAUSE_DETAILS</th><th scope=col>MAP_CAUSE</th><th scope=col>MAP_SUBCAUSE</th><th scope=col>SPILL_TYPE_CATEGORY</th><th scope=col>volume</th><th scope=col>date</th></tr>\n",
       "\t<tr><th scope=col>&lt;lgl&gt;</th><th scope=col>&lt;dbl&gt;</th><th scope=col>&lt;chr&gt;</th><th scope=col>&lt;dbl&gt;</th><th scope=col>&lt;chr&gt;</th><th scope=col>&lt;chr&gt;</th><th scope=col>&lt;dbl&gt;</th><th scope=col>&lt;dbl&gt;</th><th scope=col>&lt;chr&gt;</th><th scope=col>&lt;chr&gt;</th><th scope=col>&lt;dbl&gt;</th><th scope=col>&lt;dbl&gt;</th><th scope=col>&lt;dbl&gt;</th><th scope=col>&lt;chr&gt;</th><th scope=col>&lt;chr&gt;</th><th scope=col>&lt;chr&gt;</th><th scope=col>&lt;chr&gt;</th><th scope=col>&lt;chr&gt;</th><th scope=col>&lt;dbl&gt;</th><th scope=col>&lt;date&gt;</th></tr>\n",
       "</thead>\n",
       "<tbody>\n",
       "\t<tr><td>FALSE</td><td>30969</td><td>Main Pass Oil Gathering System</td><td>2004</td><td>NA</td><td>NA</td><td>17600200</td><td>10968391</td><td>crude</td><td>offshore</td><td>1996</td><td>0</td><td>0</td><td>natural forces</td><td>HIGH WINDS    </td><td>NATURAL FORCE DAMAGE</td><td>HIGH WINDS    </td><td>LARGE</td><td>5</td><td>2004-10-25</td></tr>\n",
       "\t<tr><td>FALSE</td><td> 2731</td><td>Chevron Pipe Line             </td><td>2004</td><td>NA</td><td>NA</td><td>24000200</td><td>14956852</td><td>crude</td><td>offshore</td><td>  NA</td><td>0</td><td>0</td><td>natural forces</td><td>EARTH MOVEMENT</td><td>NATURAL FORCE DAMAGE</td><td>EARTH MOVEMENT</td><td>LARGE</td><td>4</td><td>2004-10-17</td></tr>\n",
       "</tbody>\n",
       "</table>\n"
      ],
      "text/latex": [
       "A tibble: 2 × 20\n",
       "\\begin{tabular}{r|llllllllllllllllllll}\n",
       " serious & ID & name & year & lat & long & cost & cost\\_1984 & commodity & on\\_offshore & installation\\_year & FATAL & INJURE & cause & CAUSE\\_DETAILS & MAP\\_CAUSE & MAP\\_SUBCAUSE & SPILL\\_TYPE\\_CATEGORY & volume & date\\\\\n",
       " <lgl> & <dbl> & <chr> & <dbl> & <chr> & <chr> & <dbl> & <dbl> & <chr> & <chr> & <dbl> & <dbl> & <dbl> & <chr> & <chr> & <chr> & <chr> & <chr> & <dbl> & <date>\\\\\n",
       "\\hline\n",
       "\t FALSE & 30969 & Main Pass Oil Gathering System & 2004 & NA & NA & 17600200 & 10968391 & crude & offshore & 1996 & 0 & 0 & natural forces & HIGH WINDS     & NATURAL FORCE DAMAGE & HIGH WINDS     & LARGE & 5 & 2004-10-25\\\\\n",
       "\t FALSE &  2731 & Chevron Pipe Line              & 2004 & NA & NA & 24000200 & 14956852 & crude & offshore &   NA & 0 & 0 & natural forces & EARTH MOVEMENT & NATURAL FORCE DAMAGE & EARTH MOVEMENT & LARGE & 4 & 2004-10-17\\\\\n",
       "\\end{tabular}\n"
      ],
      "text/markdown": [
       "\n",
       "A tibble: 2 × 20\n",
       "\n",
       "| serious &lt;lgl&gt; | ID &lt;dbl&gt; | name &lt;chr&gt; | year &lt;dbl&gt; | lat &lt;chr&gt; | long &lt;chr&gt; | cost &lt;dbl&gt; | cost_1984 &lt;dbl&gt; | commodity &lt;chr&gt; | on_offshore &lt;chr&gt; | installation_year &lt;dbl&gt; | FATAL &lt;dbl&gt; | INJURE &lt;dbl&gt; | cause &lt;chr&gt; | CAUSE_DETAILS &lt;chr&gt; | MAP_CAUSE &lt;chr&gt; | MAP_SUBCAUSE &lt;chr&gt; | SPILL_TYPE_CATEGORY &lt;chr&gt; | volume &lt;dbl&gt; | date &lt;date&gt; |\n",
       "|---|---|---|---|---|---|---|---|---|---|---|---|---|---|---|---|---|---|---|---|\n",
       "| FALSE | 30969 | Main Pass Oil Gathering System | 2004 | NA | NA | 17600200 | 10968391 | crude | offshore | 1996 | 0 | 0 | natural forces | HIGH WINDS     | NATURAL FORCE DAMAGE | HIGH WINDS     | LARGE | 5 | 2004-10-25 |\n",
       "| FALSE |  2731 | Chevron Pipe Line              | 2004 | NA | NA | 24000200 | 14956852 | crude | offshore |   NA | 0 | 0 | natural forces | EARTH MOVEMENT | NATURAL FORCE DAMAGE | EARTH MOVEMENT | LARGE | 4 | 2004-10-17 |\n",
       "\n"
      ],
      "text/plain": [
       "  serious ID    name                           year lat long cost     cost_1984\n",
       "1 FALSE   30969 Main Pass Oil Gathering System 2004 NA  NA   17600200 10968391 \n",
       "2 FALSE    2731 Chevron Pipe Line              2004 NA  NA   24000200 14956852 \n",
       "  commodity on_offshore installation_year FATAL INJURE cause         \n",
       "1 crude     offshore    1996              0     0      natural forces\n",
       "2 crude     offshore      NA              0     0      natural forces\n",
       "  CAUSE_DETAILS  MAP_CAUSE            MAP_SUBCAUSE   SPILL_TYPE_CATEGORY volume\n",
       "1 HIGH WINDS     NATURAL FORCE DAMAGE HIGH WINDS     LARGE               5     \n",
       "2 EARTH MOVEMENT NATURAL FORCE DAMAGE EARTH MOVEMENT LARGE               4     \n",
       "  date      \n",
       "1 2004-10-25\n",
       "2 2004-10-17"
      ]
     },
     "metadata": {},
     "output_type": "display_data"
    }
   ],
   "source": [
    "subset(incidents, on_offshore == \"offshore\" & cost_1984 > 1e+7, -c(narrative, DATAFILE_AS_OF, significant, TOTAL_COST_CURRENT))"
   ]
  },
  {
   "cell_type": "code",
   "execution_count": 13,
   "metadata": {
    "slideshow": {
     "slide_type": "subslide"
    }
   },
   "outputs": [
    {
     "data": {
      "text/html": [
       "<span style=white-space:pre-wrap>'The subject pipeline was unintentionally moved by a underwater mud-slide that was generated by wave action by hurricane ivan.  The pipeline was torn in two by the forces of the mud-slide.  The seperation took place in south pass 38.  The pipeline was eventually located on october 18, 2004.    The leak duration in part g, item 3 is listed as 0-days and 0-hours because when the pipe was seperated it was shut-in for hurricane ivan and the spill was instantaneous.'</span>"
      ],
      "text/latex": [
       "'The subject pipeline was unintentionally moved by a underwater mud-slide that was generated by wave action by hurricane ivan.  The pipeline was torn in two by the forces of the mud-slide.  The seperation took place in south pass 38.  The pipeline was eventually located on october 18, 2004.    The leak duration in part g, item 3 is listed as 0-days and 0-hours because when the pipe was seperated it was shut-in for hurricane ivan and the spill was instantaneous.'"
      ],
      "text/markdown": [
       "<span style=white-space:pre-wrap>'The subject pipeline was unintentionally moved by a underwater mud-slide that was generated by wave action by hurricane ivan.  The pipeline was torn in two by the forces of the mud-slide.  The seperation took place in south pass 38.  The pipeline was eventually located on october 18, 2004.    The leak duration in part g, item 3 is listed as 0-days and 0-hours because when the pipe was seperated it was shut-in for hurricane ivan and the spill was instantaneous.'</span>"
      ],
      "text/plain": [
       "[1] \"The subject pipeline was unintentionally moved by a underwater mud-slide that was generated by wave action by hurricane ivan.  The pipeline was torn in two by the forces of the mud-slide.  The seperation took place in south pass 38.  The pipeline was eventually located on october 18, 2004.    The leak duration in part g, item 3 is listed as 0-days and 0-hours because when the pipe was seperated it was shut-in for hurricane ivan and the spill was instantaneous.\""
      ]
     },
     "metadata": {},
     "output_type": "display_data"
    }
   ],
   "source": [
    "subset(incidents, round(cost_1984) == 14956852)$narrative"
   ]
  },
  {
   "cell_type": "code",
   "execution_count": 14,
   "metadata": {
    "slideshow": {
     "slide_type": "subslide"
    }
   },
   "outputs": [
    {
     "data": {
      "text/html": [
       "<span style=white-space:pre-wrap>'During post-storm impact from hurricane ivan visible oil sheens were observed and reported near bp\\'s main pass oil gathering pipeline in the vicinity of main pass block 69.  The oil sheens reported on 10-1-04 were fingerprinted and later confirmed as product transported in shell\\'s 18\" pipeline.  During bp\\'s post-storm assessments for the main pass oil gathering pipeline it was also confirmed that required separation was lost between the main pass oil gathering pipeline and shell\\'s 18\" pipeline in the vicinity of main pass block 69.  It was during the operation of separating these two pipelines that the release from the main pass oil gathering pipeline occurred. The 10-26-04 leak was confirmed during a lifting of shell\\'s equilon 18\" pipeline which was was located above and physically contacting the main pass oil gathering pipeline.  Just prior to the lifting of the shell pipeline, divers had removed the shell pipeline concrete coating with waterblasting equipment.  The bare portion of the lower main pass oil gathering pipeline was then examined and identified as having small pinholes in the vicinity of the contact point between the two pipelines, thus allowing crude oil to be released to receiving waters.  During this operation recovery equipment was in place and collecting all crude oil being released from the pipeline.'</span>"
      ],
      "text/latex": [
       "'During post-storm impact from hurricane ivan visible oil sheens were observed and reported near bp\\textbackslash{}'s main pass oil gathering pipeline in the vicinity of main pass block 69.  The oil sheens reported on 10-1-04 were fingerprinted and later confirmed as product transported in shell\\textbackslash{}'s 18\" pipeline.  During bp\\textbackslash{}'s post-storm assessments for the main pass oil gathering pipeline it was also confirmed that required separation was lost between the main pass oil gathering pipeline and shell\\textbackslash{}'s 18\" pipeline in the vicinity of main pass block 69.  It was during the operation of separating these two pipelines that the release from the main pass oil gathering pipeline occurred. The 10-26-04 leak was confirmed during a lifting of shell\\textbackslash{}'s equilon 18\" pipeline which was was located above and physically contacting the main pass oil gathering pipeline.  Just prior to the lifting of the shell pipeline, divers had removed the shell pipeline concrete coating with waterblasting equipment.  The bare portion of the lower main pass oil gathering pipeline was then examined and identified as having small pinholes in the vicinity of the contact point between the two pipelines, thus allowing crude oil to be released to receiving waters.  During this operation recovery equipment was in place and collecting all crude oil being released from the pipeline.'"
      ],
      "text/markdown": [
       "<span style=white-space:pre-wrap>'During post-storm impact from hurricane ivan visible oil sheens were observed and reported near bp\\'s main pass oil gathering pipeline in the vicinity of main pass block 69.  The oil sheens reported on 10-1-04 were fingerprinted and later confirmed as product transported in shell\\'s 18\" pipeline.  During bp\\'s post-storm assessments for the main pass oil gathering pipeline it was also confirmed that required separation was lost between the main pass oil gathering pipeline and shell\\'s 18\" pipeline in the vicinity of main pass block 69.  It was during the operation of separating these two pipelines that the release from the main pass oil gathering pipeline occurred. The 10-26-04 leak was confirmed during a lifting of shell\\'s equilon 18\" pipeline which was was located above and physically contacting the main pass oil gathering pipeline.  Just prior to the lifting of the shell pipeline, divers had removed the shell pipeline concrete coating with waterblasting equipment.  The bare portion of the lower main pass oil gathering pipeline was then examined and identified as having small pinholes in the vicinity of the contact point between the two pipelines, thus allowing crude oil to be released to receiving waters.  During this operation recovery equipment was in place and collecting all crude oil being released from the pipeline.'</span>"
      ],
      "text/plain": [
       "[1] \"During post-storm impact from hurricane ivan visible oil sheens were observed and reported near bp's main pass oil gathering pipeline in the vicinity of main pass block 69.  The oil sheens reported on 10-1-04 were fingerprinted and later confirmed as product transported in shell's 18\\\" pipeline.  During bp's post-storm assessments for the main pass oil gathering pipeline it was also confirmed that required separation was lost between the main pass oil gathering pipeline and shell's 18\\\" pipeline in the vicinity of main pass block 69.  It was during the operation of separating these two pipelines that the release from the main pass oil gathering pipeline occurred. The 10-26-04 leak was confirmed during a lifting of shell's equilon 18\\\" pipeline which was was located above and physically contacting the main pass oil gathering pipeline.  Just prior to the lifting of the shell pipeline, divers had removed the shell pipeline concrete coating with waterblasting equipment.  The bare portion of the lower main pass oil gathering pipeline was then examined and identified as having small pinholes in the vicinity of the contact point between the two pipelines, thus allowing crude oil to be released to receiving waters.  During this operation recovery equipment was in place and collecting all crude oil being released from the pipeline.\""
      ]
     },
     "metadata": {},
     "output_type": "display_data"
    }
   ],
   "source": [
    "subset(incidents, round(cost_1984) == 10968391)$narrative"
   ]
  },
  {
   "cell_type": "markdown",
   "metadata": {
    "jupyter": {
     "source_hidden": true
    },
    "slideshow": {
     "slide_type": "subslide"
    }
   },
   "source": [
    "* The Chevron incident is the direct result of Hurricane Ivan in 2004:\n",
    "    * https://en.wikipedia.org/wiki/Hurricane_Ivan\n",
    "    * https://www.nytimes.com/2005/08/05/business/gulf-hurricanes-arelatest-kink-in-oil-chain.html\n",
    "* Less information can be found on the damage to BP's offshore pipeline, but it is related to Hurrican Ivan also. The Hurricane cause earth movement, which for instance caused the Taylor Oil Spill. The Taylor platform used to belong to BP, so it seems likely that the same event also damaged a pipeline of BP in the area.\n",
    "    * https://en.wikipedia.org/wiki/Taylor_oil_spill"
   ]
  },
  {
   "cell_type": "markdown",
   "metadata": {
    "slideshow": {
     "slide_type": "slide"
    }
   },
   "source": [
    "## Volume spilled"
   ]
  }
 ],
 "metadata": {
  "jupytext": {
   "formats": "ipynb,Rmd"
  },
  "kernelspec": {
   "display_name": "R 3.6.1",
   "language": "R",
   "name": "ir361"
  },
  "language_info": {
   "codemirror_mode": "r",
   "file_extension": ".r",
   "mimetype": "text/x-r-source",
   "name": "R",
   "pygments_lexer": "r",
   "version": "3.6.2"
  }
 },
 "nbformat": 4,
 "nbformat_minor": 4
}
