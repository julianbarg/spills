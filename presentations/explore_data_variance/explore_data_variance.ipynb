{
 "cells": [
  {
   "cell_type": "markdown",
   "metadata": {
    "slideshow": {
     "slide_type": "slide"
    }
   },
   "source": [
    "# Explore data variance"
   ]
  },
  {
   "cell_type": "markdown",
   "metadata": {
    "slideshow": {
     "slide_type": "slide"
    }
   },
   "source": [
    "## Setup"
   ]
  },
  {
   "cell_type": "code",
   "execution_count": 1,
   "metadata": {
    "slideshow": {
     "slide_type": "subslide"
    }
   },
   "outputs": [],
   "source": [
    "sample_file <- \"sample_combined_2019-09-16.feather\""
   ]
  },
  {
   "cell_type": "code",
   "execution_count": 2,
   "metadata": {},
   "outputs": [
    {
     "name": "stderr",
     "output_type": "stream",
     "text": [
      "── \u001b[1mAttaching packages\u001b[22m ────────────────────── tidyverse 1.3.0 ──\n",
      "\u001b[32m✔\u001b[39m \u001b[34mggplot2\u001b[39m 3.2.1     \u001b[32m✔\u001b[39m \u001b[34mpurrr  \u001b[39m 0.3.3\n",
      "\u001b[32m✔\u001b[39m \u001b[34mtibble \u001b[39m 2.1.3     \u001b[32m✔\u001b[39m \u001b[34mdplyr  \u001b[39m 0.8.3\n",
      "\u001b[32m✔\u001b[39m \u001b[34mtidyr  \u001b[39m 1.0.0     \u001b[32m✔\u001b[39m \u001b[34mstringr\u001b[39m 1.4.0\n",
      "\u001b[32m✔\u001b[39m \u001b[34mreadr  \u001b[39m 1.3.1     \u001b[32m✔\u001b[39m \u001b[34mforcats\u001b[39m 0.4.0\n",
      "── \u001b[1mConflicts\u001b[22m ───────────────────────── tidyverse_conflicts() ──\n",
      "\u001b[31m✖\u001b[39m \u001b[34mdplyr\u001b[39m::\u001b[32mfilter()\u001b[39m masks \u001b[34mstats\u001b[39m::filter()\n",
      "\u001b[31m✖\u001b[39m \u001b[34mdplyr\u001b[39m::\u001b[32mlag()\u001b[39m    masks \u001b[34mstats\u001b[39m::lag()\n"
     ]
    }
   ],
   "source": [
    "library(DataAnalysisTools)\n",
    "library(tidyverse)\n",
    "library(oildata)"
   ]
  },
  {
   "cell_type": "code",
   "execution_count": 3,
   "metadata": {},
   "outputs": [],
   "source": [
    "set.seed(6)"
   ]
  },
  {
   "cell_type": "markdown",
   "metadata": {
    "slideshow": {
     "slide_type": "slide"
    }
   },
   "source": [
    "## Load data"
   ]
  },
  {
   "cell_type": "code",
   "execution_count": 4,
   "metadata": {
    "slideshow": {
     "slide_type": "subslide"
    }
   },
   "outputs": [
    {
     "data": {
      "text/html": [
       "<table>\n",
       "<caption>A tibble: 5 × 110</caption>\n",
       "<thead>\n",
       "\t<tr><th scope=col>YEAR</th><th scope=col>OPERATOR_ID</th><th scope=col>CRUDE_AGE_UNKNOWN_MILES</th><th scope=col>CRUDE_AVG_AGE</th><th scope=col>CRUDE_INCIDENTS</th><th scope=col>CRUDE_MILES</th><th scope=col>CRUDE_MILES_1940</th><th scope=col>CRUDE_MILES_1950</th><th scope=col>CRUDE_MILES_1960</th><th scope=col>CRUDE_MILES_1970</th><th scope=col>⋯</th><th scope=col>HVL_MILES_2000_3</th><th scope=col>HVL_MILES_2010_3</th><th scope=col>NON_HVL_MILES_1940_3</th><th scope=col>NON_HVL_MILES_1950_3</th><th scope=col>NON_HVL_MILES_1960_3</th><th scope=col>NON_HVL_MILES_1970_3</th><th scope=col>NON_HVL_MILES_1980_3</th><th scope=col>NON_HVL_MILES_1990_3</th><th scope=col>NON_HVL_MILES_2000_3</th><th scope=col>NON_HVL_MILES_2010_3</th></tr>\n",
       "\t<tr><th scope=col>&lt;dbl&gt;</th><th scope=col>&lt;fct&gt;</th><th scope=col>&lt;dbl&gt;</th><th scope=col>&lt;dbl&gt;</th><th scope=col>&lt;dbl&gt;</th><th scope=col>&lt;dbl&gt;</th><th scope=col>&lt;dbl&gt;</th><th scope=col>&lt;dbl&gt;</th><th scope=col>&lt;dbl&gt;</th><th scope=col>&lt;dbl&gt;</th><th scope=col>⋯</th><th scope=col>&lt;dbl&gt;</th><th scope=col>&lt;dbl&gt;</th><th scope=col>&lt;dbl&gt;</th><th scope=col>&lt;dbl&gt;</th><th scope=col>&lt;dbl&gt;</th><th scope=col>&lt;dbl&gt;</th><th scope=col>&lt;dbl&gt;</th><th scope=col>&lt;dbl&gt;</th><th scope=col>&lt;dbl&gt;</th><th scope=col>&lt;dbl&gt;</th></tr>\n",
       "</thead>\n",
       "<tbody>\n",
       "\t<tr><td>2015</td><td>26049          </td><td>0</td><td>31.3655</td><td>1</td><td>2.2</td><td>45.8</td><td>8.8</td><td>0</td><td>27.2</td><td>⋯</td><td>   0.00</td><td>  0.00</td><td>  0</td><td> 151.30</td><td>  0.20</td><td>  0.00</td><td>52.70</td><td> 0.20</td><td> 1.40</td><td>0.60</td></tr>\n",
       "\t<tr><td>2011</td><td>ONEOK (Group)  </td><td>0</td><td> 0.0000</td><td>0</td><td>0.0</td><td> 0.0</td><td>0.0</td><td>0</td><td> 0.0</td><td>⋯</td><td>4705.96</td><td>183.28</td><td>  0</td><td> 443.19</td><td>326.37</td><td>116.70</td><td>71.94</td><td>29.19</td><td> 0.26</td><td>0.45</td></tr>\n",
       "\t<tr><td>2005</td><td>4805           </td><td>0</td><td> 0.0000</td><td>0</td><td>0.0</td><td> 0.0</td><td>0.0</td><td>0</td><td> 0.0</td><td>⋯</td><td>     NA</td><td>    NA</td><td> NA</td><td>     NA</td><td>    NA</td><td>    NA</td><td>   NA</td><td>   NA</td><td>   NA</td><td>  NA</td></tr>\n",
       "\t<tr><td>2006</td><td>25146          </td><td>0</td><td> 0.0000</td><td>0</td><td>0.0</td><td> 0.0</td><td>0.0</td><td>0</td><td> 0.0</td><td>⋯</td><td>   9.10</td><td>  0.00</td><td>  0</td><td>   0.00</td><td>  0.00</td><td>  0.00</td><td> 0.00</td><td> 0.00</td><td> 0.00</td><td>0.00</td></tr>\n",
       "\t<tr><td>2011</td><td>Chevron (Group)</td><td>0</td><td> 0.0000</td><td>0</td><td>0.0</td><td> 0.0</td><td>0.0</td><td>0</td><td> 0.0</td><td>⋯</td><td> 154.69</td><td>  0.00</td><td>170</td><td>1753.45</td><td>673.12</td><td> 97.09</td><td>57.32</td><td> 0.00</td><td>38.35</td><td>0.00</td></tr>\n",
       "</tbody>\n",
       "</table>\n"
      ],
      "text/latex": [
       "A tibble: 5 × 110\n",
       "\\begin{tabular}{r|llllllllllllllllllllllllllllllllllllllllllllllllllllllllllllllllllllllllllllllllllllllllllllllllllllllllllllll}\n",
       " YEAR & OPERATOR\\_ID & CRUDE\\_AGE\\_UNKNOWN\\_MILES & CRUDE\\_AVG\\_AGE & CRUDE\\_INCIDENTS & CRUDE\\_MILES & CRUDE\\_MILES\\_1940 & CRUDE\\_MILES\\_1950 & CRUDE\\_MILES\\_1960 & CRUDE\\_MILES\\_1970 & CRUDE\\_MILES\\_1980 & CRUDE\\_MILES\\_1990 & CRUDE\\_MILES\\_2000 & CRUDE\\_MILES\\_2010 & CRUDE\\_SIGNIFICANT\\_INCIDENTS & HVL\\_AGE\\_UNKNOWN\\_MILES & HVL\\_AVG\\_AGE & HVL\\_INCIDENTS & HVL\\_MILES & HVL\\_MILES\\_1940 & HVL\\_MILES\\_1950 & HVL\\_MILES\\_1960 & HVL\\_MILES\\_1970 & HVL\\_MILES\\_1980 & HVL\\_MILES\\_1990 & HVL\\_MILES\\_2000 & HVL\\_MILES\\_2010 & HVL\\_SIGNIFICANT\\_INCIDENTS & NON\\_HVL\\_AGE\\_UNKNOWN\\_MILES & NON\\_HVL\\_AVG\\_AGE & NON\\_HVL\\_INCIDENTS & NON\\_HVL\\_MILES & NON\\_HVL\\_MILES\\_1940 & NON\\_HVL\\_MILES\\_1950 & NON\\_HVL\\_MILES\\_1960 & NON\\_HVL\\_MILES\\_1970 & NON\\_HVL\\_MILES\\_1980 & NON\\_HVL\\_MILES\\_1990 & NON\\_HVL\\_MILES\\_2000 & NON\\_HVL\\_MILES\\_2010 & NON\\_HVL\\_SIGNIFICANT\\_INCIDENTS & SIGNIFICANT\\_INCIDENTS & ADDED & REMOVED & TOTAL\\_MILES & ADDED\\_PERC & REMOVED\\_PERC & CHANGE\\_TOTAL & CHANGE\\_PERC & MEAN\\_CHANGE\\_3 & CHANGE\\_SD & CHANGE\\_SD\\_SQ & CHANGE\\_EXP & INC\\_3 & INC\\_4 & INC\\_5 & DISC\\_ADDED & DISC\\_ADDED\\_ALT & DISC\\_ADDED\\_ALT2 & REMOVED\\_ADJ & CONSOLIDATE & CRUDE\\_MILES\\_3 & HVL\\_MILES\\_3 & NON\\_HVL\\_MILES\\_3 & CRUDE\\_AVG\\_AGE\\_3 & HVL\\_AVG\\_AGE\\_3 & NON\\_HVL\\_AVG\\_AGE\\_3 & NO\\_CRUDE & NO\\_HVL & NO\\_NON\\_HVL & M\\_A & M\\_A\\_1 & M\\_A\\_2 & M\\_A\\_3 & M\\_A\\_past\\_3 & ADDED\\_1 & ADDED\\_2 & ADDED\\_3 & MEAN\\_ADDED\\_3 & SD\\_ADDED\\_3 & SD\\_ADDED\\_3\\_EXP & SD\\_ADDED\\_3\\_EXP\\_SQ & SDxADDED & CRUDExAGE & HVLxAGE & NON\\_HVLxAGE & CRUDE\\_MILES\\_1940\\_3 & CRUDE\\_MILES\\_1950\\_3 & CRUDE\\_MILES\\_1960\\_3 & CRUDE\\_MILES\\_1970\\_3 & CRUDE\\_MILES\\_1980\\_3 & CRUDE\\_MILES\\_1990\\_3 & CRUDE\\_MILES\\_2000\\_3 & CRUDE\\_MILES\\_2010\\_3 & HVL\\_MILES\\_1940\\_3 & HVL\\_MILES\\_1950\\_3 & HVL\\_MILES\\_1960\\_3 & HVL\\_MILES\\_1970\\_3 & HVL\\_MILES\\_1980\\_3 & HVL\\_MILES\\_1990\\_3 & HVL\\_MILES\\_2000\\_3 & HVL\\_MILES\\_2010\\_3 & NON\\_HVL\\_MILES\\_1940\\_3 & NON\\_HVL\\_MILES\\_1950\\_3 & NON\\_HVL\\_MILES\\_1960\\_3 & NON\\_HVL\\_MILES\\_1970\\_3 & NON\\_HVL\\_MILES\\_1980\\_3 & NON\\_HVL\\_MILES\\_1990\\_3 & NON\\_HVL\\_MILES\\_2000\\_3 & NON\\_HVL\\_MILES\\_2010\\_3\\\\\n",
       " <dbl> & <fct> & <dbl> & <dbl> & <dbl> & <dbl> & <dbl> & <dbl> & <dbl> & <dbl> & <dbl> & <dbl> & <dbl> & <dbl> & <dbl> & <dbl> & <dbl> & <dbl> & <dbl> & <dbl> & <dbl> & <dbl> & <dbl> & <dbl> & <dbl> & <dbl> & <dbl> & <dbl> & <dbl> & <dbl> & <dbl> & <dbl> & <dbl> & <dbl> & <dbl> & <dbl> & <dbl> & <dbl> & <dbl> & <dbl> & <dbl> & <dbl> & <dbl> & <dbl> & <dbl> & <dbl> & <dbl> & <dbl> & <dbl> & <dbl> & <dbl> & <dbl> & <dbl> & <dbl> & <dbl> & <dbl> & <dbl> & <dbl> & <dbl> & <dbl> & <dbl> & <dbl> & <dbl> & <dbl> & <dbl> & <dbl> & <dbl> & <lgl> & <lgl> & <lgl> & <lgl> & <lgl> & <lgl> & <lgl> & <lgl> & <dbl> & <dbl> & <dbl> & <dbl> & <dbl> & <dbl> & <dbl> & <dbl> & <dbl> & <dbl> & <dbl> & <dbl> & <dbl> & <dbl> & <dbl> & <dbl> & <dbl> & <dbl> & <dbl> & <dbl> & <dbl> & <dbl> & <dbl> & <dbl> & <dbl> & <dbl> & <dbl> & <dbl> & <dbl> & <dbl> & <dbl> & <dbl> & <dbl> & <dbl> & <dbl>\\\\\n",
       "\\hline\n",
       "\t 2015 & 26049           & 0 & 31.3655 & 1 & 2.2 & 45.8 & 8.8 & 0 & 27.2 & 0.3 & 35.4 & 65.6 & 14.4 & 1 &   0.00 &  0.00000 &  0 &    0.00 & 0 &   0.00 &    0.00 &    0.00 &    0.00 &    0.00 &   0.00 &   0.00 & 0 &  0 & 51.51867 & 0 & 210.10 &  0 &  50.1 &   0.10 &   0.0 & 17.50 &  0.10 &  0.70 & 0.30 & 0 & 1 &  27.00 &  -18.50 &  266.30 & 0.101886792 & -0.0698113208 &   8.50 &  0.0329712956 & -0.03093372 & 0.0030119409 & 9.071788e-06 & 1.003016 &  1 &  1 &  1 &         NA &         NA &         NA & 0.0000000000 &           NA & 2.2 &    0.00 &  630.20 & NA &       NA &       NA & FALSE &  TRUE & FALSE & FALSE & FALSE & FALSE & FALSE & FALSE & 0.101886792 &          NA &         NA &          NA &          NA &       NA &       NA &         NA & NA &        NA &        NA & 141.9 & 26.4 &  0 & 81.3 & 0.9 & 104.4 & 196.5 & 38.6 &   0.00 &    0.00 &    0.00 &    0.00 &    0.00 &    0.00 &    0.00 &   0.00 &   0 &  151.30 &   0.20 &   0.00 & 52.70 &  0.20 &  1.40 & 0.60\\\\\n",
       "\t 2011 & ONEOK (Group)   & 0 &  0.0000 & 0 & 0.0 &  0.0 & 0.0 & 0 &  0.0 & 0.0 &  0.0 &  0.0 &  0.0 & 0 & 120.17 & 28.13260 & 16 & 2632.16 & 0 & 297.66 & 1318.98 & 1274.42 & 1223.66 & 1221.02 & 883.33 & 152.92 & 8 &  0 & 45.76038 & 0 & 345.51 &  0 & 221.6 & 163.03 & 116.7 & 36.01 & 14.46 &  0.11 & 0.45 & 0 & 8 & 209.61 & -205.71 & 7044.52 & 0.026221014 & -0.0257331464 &   3.90 &  0.0005539285 & -0.06394328 & 0.0223323645 & 4.987345e-04 & 1.022584 & 22 & 28 & 28 & 0.04288975 & 0.03504275 & 0.05163009 & 0.0000000000 & 0.5003899024 & 0.0 & 8665.69 &  636.79 &  0 & 27.38599 & 46.49494 &  TRUE & FALSE & FALSE & FALSE & FALSE & FALSE & FALSE & FALSE & 0.026221014 & 0.004948527 & 0.01656814 & 0.015912562 & 0.008696820 & 1.008735 & 1.017546 & 0.04326439 &  0 & 237318.54 &  29607.51 &   0.0 &  0.0 &  0 &  0.0 & 0.0 &   0.0 &   0.0 &  0.0 &   0.00 &  957.89 & 4141.85 & 4072.29 & 3774.72 & 3621.36 & 4705.96 & 183.28 &   0 &  443.19 & 326.37 & 116.70 & 71.94 & 29.19 &  0.26 & 0.45\\\\\n",
       "\t 2005 & 4805            & 0 &  0.0000 & 0 & 0.0 &  0.0 & 0.0 & 0 &  0.0 & 0.0 &  0.0 &  0.0 &  0.0 & 0 &   0.00 &  0.00000 &  0 &    0.00 & 0 &   0.00 &    0.00 &    0.00 &    0.00 &    0.00 &   0.00 &   0.00 & 0 &  0 & 29.48998 & 9 & 932.00 &  0 &   2.0 &   0.00 & 607.0 &  2.00 & 17.00 &  0.00 & 0.00 & 1 & 1 &   2.00 &    0.00 &  628.00 & 0.003184713 &  0.0000000000 &   2.00 &  0.0031948882 & -0.22877361 & 0.2804951439 & 7.867753e-02 & 1.323785 & NA & NA & NA & 0.34969004 & 0.17398503 & 0.35075161 & 0.0000000000 & 0.5244777070 &  NA &      NA &      NA &  0 &  0.00000 & 34.53897 &    NA &    NA &    NA & FALSE & FALSE &    NA &    NA & FALSE & 0.003184713 & 0.000000000 & 0.51240096 & 0.171861891 & 0.240800994 & 1.272268 & 1.618665 & 0.44489939 & NA &        NA &        NA &    NA &   NA & NA &   NA &  NA &    NA &    NA &   NA &     NA &      NA &      NA &      NA &      NA &      NA &      NA &     NA &  NA &      NA &     NA &     NA &    NA &    NA &    NA &   NA\\\\\n",
       "\t 2006 & 25146           & 0 &  0.0000 & 0 & 0.0 &  0.0 & 0.0 & 0 &  0.0 & 0.0 &  0.0 &  0.0 &  0.0 & 0 &   0.00 & 28.74415 &  0 & 1146.88 & 0 &  49.91 &   77.04 &  751.04 &  103.53 &  164.06 &   1.30 &   0.00 & 0 &  0 &  0.00000 & 0 &   0.00 &  0 &   0.0 &   0.00 &   0.0 &  0.00 &  0.00 &  0.00 & 0.00 & 0 & 0 &  13.07 &  -42.11 & 1146.88 & 0.011637328 & -0.0374941012 & -29.04 & -0.0246955575 & -0.01207043 & 0.0002774714 & 7.699039e-08 & 1.000278 &  1 & NA & NA & 0.03420996 & 0.02258297 & 0.03808907 & 0.0258567727 & 0.0638971455 & 0.0 & 2726.52 &    0.00 &  0 & 29.22509 &  0.00000 &  TRUE & FALSE &  TRUE & FALSE & FALSE & FALSE &    NA & FALSE & 0.011637328 & 0.016418457 & 0.00000000 & 0.009351929 & 0.006894864 & 1.006919 & 1.013885 & 0.03444665 &  0 &  79682.78 &      0.00 &   0.0 &  0.0 &  0 &  0.0 & 0.0 &   0.0 &   0.0 &  0.0 &   0.00 &  149.58 &  280.36 & 2159.56 &  371.18 &  529.78 &    9.10 &   0.00 &   0 &    0.00 &   0.00 &   0.00 &  0.00 &  0.00 &  0.00 & 0.00\\\\\n",
       "\t 2011 & Chevron (Group) & 0 &  0.0000 & 0 & 0.0 &  0.0 & 0.0 & 0 &  0.0 & 0.0 &  0.0 &  0.0 &  0.0 & 0 &   6.10 & 40.47647 &  7 &  601.10 & 0 & 833.30 & 1053.70 & 1066.50 &  334.00 &  338.60 &  24.90 &   0.00 & 4 & 23 & 52.58081 & 1 & 943.70 & 85 & 537.0 & 232.00 &  21.0 & 19.00 &  0.00 & 12.80 & 0.00 & 1 & 5 &   0.00 &   -0.80 & 4586.90 & 0.000000000 & -0.0001737318 &  -0.80 & -0.0001743793 &  0.30289340 & 1.8222925810 & 3.320750e+00 & 6.186024 & 15 & 18 & 20 & 0.70653028 & 0.41718945 & 0.70653028 & 0.0001737318 & 0.0001737318 & 0.0 & 1792.10 & 2650.24 &  0 & 39.72204 & 51.27702 &  TRUE & FALSE & FALSE & FALSE & FALSE & FALSE & FALSE &  TRUE & 0.000000000 & 0.387603828 & 0.47636070 & 0.287988177 & 0.206837035 & 1.229782 & 1.512364 & 0.86887832 &  0 &  71185.87 & 135896.41 &   0.0 &  0.0 &  0 &  0.0 & 0.0 &   0.0 &   0.0 &  0.0 & 257.05 & 2283.80 & 3013.15 & 2653.56 &  801.53 &  770.52 &  154.69 &   0.00 & 170 & 1753.45 & 673.12 &  97.09 & 57.32 &  0.00 & 38.35 & 0.00\\\\\n",
       "\\end{tabular}\n"
      ],
      "text/markdown": [
       "\n",
       "A tibble: 5 × 110\n",
       "\n",
       "| YEAR &lt;dbl&gt; | OPERATOR_ID &lt;fct&gt; | CRUDE_AGE_UNKNOWN_MILES &lt;dbl&gt; | CRUDE_AVG_AGE &lt;dbl&gt; | CRUDE_INCIDENTS &lt;dbl&gt; | CRUDE_MILES &lt;dbl&gt; | CRUDE_MILES_1940 &lt;dbl&gt; | CRUDE_MILES_1950 &lt;dbl&gt; | CRUDE_MILES_1960 &lt;dbl&gt; | CRUDE_MILES_1970 &lt;dbl&gt; | ⋯ ⋯ | HVL_MILES_2000_3 &lt;dbl&gt; | HVL_MILES_2010_3 &lt;dbl&gt; | NON_HVL_MILES_1940_3 &lt;dbl&gt; | NON_HVL_MILES_1950_3 &lt;dbl&gt; | NON_HVL_MILES_1960_3 &lt;dbl&gt; | NON_HVL_MILES_1970_3 &lt;dbl&gt; | NON_HVL_MILES_1980_3 &lt;dbl&gt; | NON_HVL_MILES_1990_3 &lt;dbl&gt; | NON_HVL_MILES_2000_3 &lt;dbl&gt; | NON_HVL_MILES_2010_3 &lt;dbl&gt; |\n",
       "|---|---|---|---|---|---|---|---|---|---|---|---|---|---|---|---|---|---|---|---|---|\n",
       "| 2015 | 26049           | 0 | 31.3655 | 1 | 2.2 | 45.8 | 8.8 | 0 | 27.2 | ⋯ |    0.00 |   0.00 |   0 |  151.30 |   0.20 |   0.00 | 52.70 |  0.20 |  1.40 | 0.60 |\n",
       "| 2011 | ONEOK (Group)   | 0 |  0.0000 | 0 | 0.0 |  0.0 | 0.0 | 0 |  0.0 | ⋯ | 4705.96 | 183.28 |   0 |  443.19 | 326.37 | 116.70 | 71.94 | 29.19 |  0.26 | 0.45 |\n",
       "| 2005 | 4805            | 0 |  0.0000 | 0 | 0.0 |  0.0 | 0.0 | 0 |  0.0 | ⋯ |      NA |     NA |  NA |      NA |     NA |     NA |    NA |    NA |    NA |   NA |\n",
       "| 2006 | 25146           | 0 |  0.0000 | 0 | 0.0 |  0.0 | 0.0 | 0 |  0.0 | ⋯ |    9.10 |   0.00 |   0 |    0.00 |   0.00 |   0.00 |  0.00 |  0.00 |  0.00 | 0.00 |\n",
       "| 2011 | Chevron (Group) | 0 |  0.0000 | 0 | 0.0 |  0.0 | 0.0 | 0 |  0.0 | ⋯ |  154.69 |   0.00 | 170 | 1753.45 | 673.12 |  97.09 | 57.32 |  0.00 | 38.35 | 0.00 |\n",
       "\n"
      ],
      "text/plain": [
       "  YEAR OPERATOR_ID     CRUDE_AGE_UNKNOWN_MILES CRUDE_AVG_AGE CRUDE_INCIDENTS\n",
       "1 2015 26049           0                       31.3655       1              \n",
       "2 2011 ONEOK (Group)   0                        0.0000       0              \n",
       "3 2005 4805            0                        0.0000       0              \n",
       "4 2006 25146           0                        0.0000       0              \n",
       "5 2011 Chevron (Group) 0                        0.0000       0              \n",
       "  CRUDE_MILES CRUDE_MILES_1940 CRUDE_MILES_1950 CRUDE_MILES_1960\n",
       "1 2.2         45.8             8.8              0               \n",
       "2 0.0          0.0             0.0              0               \n",
       "3 0.0          0.0             0.0              0               \n",
       "4 0.0          0.0             0.0              0               \n",
       "5 0.0          0.0             0.0              0               \n",
       "  CRUDE_MILES_1970 ⋯ HVL_MILES_2000_3 HVL_MILES_2010_3 NON_HVL_MILES_1940_3\n",
       "1 27.2             ⋯    0.00            0.00             0                 \n",
       "2  0.0             ⋯ 4705.96          183.28             0                 \n",
       "3  0.0             ⋯      NA              NA            NA                 \n",
       "4  0.0             ⋯    9.10            0.00             0                 \n",
       "5  0.0             ⋯  154.69            0.00           170                 \n",
       "  NON_HVL_MILES_1950_3 NON_HVL_MILES_1960_3 NON_HVL_MILES_1970_3\n",
       "1  151.30                0.20                 0.00              \n",
       "2  443.19              326.37               116.70              \n",
       "3      NA                  NA                   NA              \n",
       "4    0.00                0.00                 0.00              \n",
       "5 1753.45              673.12                97.09              \n",
       "  NON_HVL_MILES_1980_3 NON_HVL_MILES_1990_3 NON_HVL_MILES_2000_3\n",
       "1 52.70                 0.20                 1.40               \n",
       "2 71.94                29.19                 0.26               \n",
       "3    NA                   NA                   NA               \n",
       "4  0.00                 0.00                 0.00               \n",
       "5 57.32                 0.00                38.35               \n",
       "  NON_HVL_MILES_2010_3\n",
       "1 0.60                \n",
       "2 0.45                \n",
       "3   NA                \n",
       "4 0.00                \n",
       "5 0.00                "
      ]
     },
     "metadata": {},
     "output_type": "display_data"
    }
   ],
   "source": [
    "sample <- feather::read_feather(sample_file)\n",
    "sample_n(sample, 5)"
   ]
  },
  {
   "cell_type": "code",
   "execution_count": 5,
   "metadata": {
    "slideshow": {
     "slide_type": "subslide"
    }
   },
   "outputs": [
    {
     "data": {
      "text/html": [
       "<table>\n",
       "<caption>A tibble: 5 × 85</caption>\n",
       "<thead>\n",
       "\t<tr><th scope=col>DATAFILE_AS_OF</th><th scope=col>Year</th><th scope=col>REPORT_NUMBER</th><th scope=col>SUPPLEMENTAL_NUMBER</th><th scope=col>ID</th><th scope=col>Name</th><th scope=col>PARTA4STREET</th><th scope=col>PARTA4CITY</th><th scope=col>PARTA4STATE</th><th scope=col>PARTA4ZIP</th><th scope=col>⋯</th><th scope=col>PARTE2010HF</th><th scope=col>PARTE2010LF</th><th scope=col>PARTE2010TOTAL</th><th scope=col>PARTETOTAL</th><th scope=col>PARTETOTALHF</th><th scope=col>PARTETOTALLF</th><th scope=col>REPORT_SUBMISSION_TYPE</th><th scope=col>REPORT_DATE</th><th scope=col>FILING_DATE</th><th scope=col>FORM_REV</th></tr>\n",
       "\t<tr><th scope=col>&lt;dttm&gt;</th><th scope=col>&lt;dbl&gt;</th><th scope=col>&lt;dbl&gt;</th><th scope=col>&lt;dbl&gt;</th><th scope=col>&lt;dbl&gt;</th><th scope=col>&lt;chr&gt;</th><th scope=col>&lt;chr&gt;</th><th scope=col>&lt;chr&gt;</th><th scope=col>&lt;chr&gt;</th><th scope=col>&lt;chr&gt;</th><th scope=col>⋯</th><th scope=col>&lt;dbl&gt;</th><th scope=col>&lt;dbl&gt;</th><th scope=col>&lt;dbl&gt;</th><th scope=col>&lt;dbl&gt;</th><th scope=col>&lt;dbl&gt;</th><th scope=col>&lt;dbl&gt;</th><th scope=col>&lt;chr&gt;</th><th scope=col>&lt;dttm&gt;</th><th scope=col>&lt;dttm&gt;</th><th scope=col>&lt;chr&gt;</th></tr>\n",
       "</thead>\n",
       "<tbody>\n",
       "\t<tr><td>2019-11-01 07:22:30</td><td>2011</td><td>20120302</td><td>11340</td><td>26085</td><td>PLAINS MARKETING, L.P.     </td><td>333 Clay Street Suite 1600      </td><td>CUSHING    </td><td>TX</td><td>77002     </td><td>⋯</td><td> 0.00</td><td>0</td><td> 0.00</td><td>  6.27</td><td>  6.27</td><td>  0.00</td><td>INITIAL     </td><td>2012-06-14 11:14:36</td><td>2012-06-14 11:14:36</td><td>7000-1.1 (Rev. 06-2011)</td></tr>\n",
       "\t<tr><td>2019-11-01 08:46:27</td><td>2017</td><td>20183187</td><td>15699</td><td>39571</td><td>HPIP GONZALES HOLDINGS, LLC</td><td>1415 LOUISIANA STREET SUITE 1600</td><td>HOUSTON    </td><td>TX</td><td>77002     </td><td>⋯</td><td>25.55</td><td>0</td><td>25.55</td><td> 25.55</td><td> 25.55</td><td>  0.00</td><td>INITIAL     </td><td>2018-06-01 11:59:49</td><td>2018-06-01 11:59:49</td><td>7000-1.1 (Rev. 06-2014)</td></tr>\n",
       "\t<tr><td>2019-11-01 07:58:02</td><td>2016</td><td>20172986</td><td>15461</td><td>30658</td><td><span style=white-space:pre-wrap>KERN OIL &amp; REFINING CO.    </span></td><td><span style=white-space:pre-wrap>7724 E. PANAMA LANE             </span></td><td>BAKERSFIELD</td><td>CA</td><td><span style=white-space:pre-wrap>93307     </span></td><td>⋯</td><td> 0.00</td><td>0</td><td> 0.00</td><td> 18.67</td><td> 18.67</td><td><span style=white-space:pre-wrap>  0.00</span></td><td>SUPPLEMENTAL</td><td>2017-07-21 11:44:25</td><td>2017-12-18 06:20:48</td><td>7000-1.1 (Rev. 06-2014)</td></tr>\n",
       "\t<tr><td>2019-11-01 07:47:16</td><td>2014</td><td>20151610</td><td>13759</td><td> 2731</td><td>CHEVRON PIPE LINE CO       </td><td>4800 FOURNACE PLACE RM C388     </td><td>BELLAIRE   </td><td>TX</td><td>77401-2324</td><td>⋯</td><td> 7.00</td><td>0</td><td> 7.00</td><td>608.20</td><td>465.30</td><td>142.90</td><td>INITIAL     </td><td>2015-06-15 14:27:08</td><td>2015-06-15 14:27:08</td><td>7000-1.1 (Rev. 06-2014)</td></tr>\n",
       "\t<tr><td>2019-11-01 07:33:29</td><td>2013</td><td>20141041</td><td>13114</td><td>32109</td><td>ONEOK NGL PIPELINE, LLC    </td><td>100 WEST FIFTH STREET           </td><td>TULSA      </td><td>OK</td><td>74102     </td><td>⋯</td><td> 6.28</td><td>0</td><td> 6.28</td><td>588.43</td><td>262.68</td><td>325.75</td><td>SUPPLEMENTAL</td><td>2014-06-15 19:46:16</td><td>2014-06-17 13:25:03</td><td>7000-1.1 (Rev. 06-2011)</td></tr>\n",
       "</tbody>\n",
       "</table>\n"
      ],
      "text/latex": [
       "A tibble: 5 × 85\n",
       "\\begin{tabular}{r|lllllllllllllllllllllllllllllllllllllllllllllllllllllllllllllllllllllllllllllllllllll}\n",
       " DATAFILE\\_AS\\_OF & Year & REPORT\\_NUMBER & SUPPLEMENTAL\\_NUMBER & ID & Name & PARTA4STREET & PARTA4CITY & PARTA4STATE & PARTA4ZIP & PARTA4COUNTRY & PARTA5COMMODITY & PARTA7INTER & PARTA7INTRA & PARTBHCAOFFSHORE & PARTBHCAONSHORE & PARTBHCATOTAL & PARTCOFFCO2 & PARTCOFFCRUDE & PARTCOFFETHANOL & PARTCOFFHVL & PARTCOFFRPP & PARTCONCO2 & PARTCONCRUDE & PARTCONETHANOL & PARTCONHVL & PARTCONRPP & PARTDONCPB & PARTDONCPC & PARTDONCUB & PARTDONCUC & PARTDONCUP & PARTDONCUO & PARTDONTOTAL & PARTDOFFCPB & PARTDOFFCPC & PARTDOFFCUB & PARTDOFFCUC & PARTDOFFCUP & PARTDOFFCUO & PARTDOFFTOTAL & PARTDCPBTOTAL & PARTDCPCTOTAL & PARTDCUBTOTAL & PARTDCUCTOTAL & PARTDCUPTOTAL & PARTDCUOTOTAL & PARTDTOTALMILES & PARTEUNKNHF & PARTEUNKNLF & PARTEUNKNTOTAL & PARTEPRE40HF & PARTEPRE40LF & PARTEPRE40TOTAL & PARTE1940HF & PARTE1940LF & PARTE1940TOTAL & PARTE1950HF & PARTE1950LF & PARTE1950TOTAL & PARTE1960HF & PARTE1960LF & PARTE1960TOTAL & PARTE1970HF & PARTE1970LF & PARTE1970TOTAL & PARTE1980HF & PARTE1980LF & PARTE1980TOTAL & PARTE1990HF & PARTE1990LF & PARTE1990TOTAL & PARTE2000HF & PARTE2000LF & PARTE2000TOTAL & PARTE2010HF & PARTE2010LF & PARTE2010TOTAL & PARTETOTAL & PARTETOTALHF & PARTETOTALLF & REPORT\\_SUBMISSION\\_TYPE & REPORT\\_DATE & FILING\\_DATE & FORM\\_REV\\\\\n",
       " <dttm> & <dbl> & <dbl> & <dbl> & <dbl> & <chr> & <chr> & <chr> & <chr> & <chr> & <chr> & <chr> & <chr> & <chr> & <dbl> & <dbl> & <dbl> & <dbl> & <dbl> & <dbl> & <dbl> & <dbl> & <dbl> & <dbl> & <dbl> & <dbl> & <dbl> & <dbl> & <dbl> & <dbl> & <dbl> & <dbl> & <dbl> & <dbl> & <dbl> & <dbl> & <dbl> & <dbl> & <dbl> & <dbl> & <dbl> & <dbl> & <dbl> & <dbl> & <dbl> & <dbl> & <dbl> & <dbl> & <dbl> & <dbl> & <dbl> & <dbl> & <dbl> & <dbl> & <dbl> & <dbl> & <dbl> & <dbl> & <dbl> & <dbl> & <dbl> & <dbl> & <dbl> & <dbl> & <dbl> & <dbl> & <dbl> & <dbl> & <dbl> & <dbl> & <dbl> & <dbl> & <dbl> & <dbl> & <dbl> & <dbl> & <dbl> & <dbl> & <dbl> & <dbl> & <dbl> & <chr> & <dttm> & <dttm> & <chr>\\\\\n",
       "\\hline\n",
       "\t 2019-11-01 07:22:30 & 2011 & 20120302 & 11340 & 26085 & PLAINS MARKETING, L.P.      & 333 Clay Street Suite 1600       & CUSHING     & TX & 77002      & nan & Refined and/or Petroleum Product (non-HVL) & nan                                                 & CALIFORNIA       & NA &   6.24 &   6.24 & NA & NA & NA & NA & NA & NA &      NA & NA &          NA &   84956389 & 0 &    6.27 & 0 & 0 & 0 & 0 &    6.27 & 0 & 0 & 0 & 0 & 0 & 0 & 0 & 0 &    6.27 & 0 & 0 & 0 & 0 &    6.27 & 0 & 0 & 0 & 0 & 0 & 0 & 0.00 & 0 & 0.00 &  0.00 &   0.00 &   0.00 &  0.00 &   0.00 &   0.00 &   3.78 & 0 &   3.78 &  0.00 & 0 &  0.00 &   2.49 & 0 &   2.49 &  0.00 & 0 &  0.00 &  0.00 & 0 &  0.00 &   6.27 &   6.27 &   0.00 & INITIAL      & 2012-06-14 11:14:36 & 2012-06-14 11:14:36 & 7000-1.1 (Rev. 06-2011)\\\\\n",
       "\t 2019-11-01 08:46:27 & 2017 & 20183187 & 15699 & 39571 & HPIP GONZALES HOLDINGS, LLC & 1415 LOUISIANA STREET SUITE 1600 & HOUSTON     & TX & 77002      & nan & Crude Oil                                  & nan                                                 & TEXAS            & NA &   0.00 &   0.00 & NA & NA & NA & NA & NA &  0 &       0 &  0 &           0 &          0 & 0 &   25.55 & 0 & 0 & 0 & 0 &   25.55 & 0 & 0 & 0 & 0 & 0 & 0 & 0 & 0 &   25.55 & 0 & 0 & 0 & 0 &   25.55 & 0 & 0 & 0 & 0 & 0 & 0 & 0.00 & 0 & 0.00 &  0.00 &   0.00 &   0.00 &  0.00 &   0.00 &   0.00 &   0.00 & 0 &   0.00 &  0.00 & 0 &  0.00 &   0.00 & 0 &   0.00 &  0.00 & 0 &  0.00 & 25.55 & 0 & 25.55 &  25.55 &  25.55 &   0.00 & INITIAL      & 2018-06-01 11:59:49 & 2018-06-01 11:59:49 & 7000-1.1 (Rev. 06-2014)\\\\\n",
       "\t 2019-11-01 07:58:02 & 2016 & 20172986 & 15461 & 30658 & KERN OIL \\& REFINING CO.     & 7724 E. PANAMA LANE              & BAKERSFIELD & CA & 93307      & nan & Crude Oil                                  & nan                                                 & CALIFORNIA       & NA &  15.36 &  15.36 & NA & NA & NA & NA & NA &  0 & 9738098 &  0 &           0 &          0 & 0 &   18.67 & 0 & 0 & 0 & 0 &   18.67 & 0 & 0 & 0 & 0 & 0 & 0 & 0 & 0 &   18.67 & 0 & 0 & 0 & 0 &   18.67 & 0 & 0 & 0 & 0 & 0 & 0 & 7.91 & 0 & 7.91 &  0.00 &   0.00 &   0.00 &  0.00 &   0.00 &   0.00 &   0.00 & 0 &   0.00 &  3.53 & 0 &  3.53 &   0.66 & 0 &   0.66 &  6.57 & 0 &  6.57 &  0.00 & 0 &  0.00 &  18.67 &  18.67 &   0.00 & SUPPLEMENTAL & 2017-07-21 11:44:25 & 2017-12-18 06:20:48 & 7000-1.1 (Rev. 06-2014)\\\\\n",
       "\t 2019-11-01 07:47:16 & 2014 & 20151610 & 13759 &  2731 & CHEVRON PIPE LINE CO        & 4800 FOURNACE PLACE RM C388      & BELLAIRE    & TX & 77401-2324 & nan & HVL                                        & nan                                                 & LOUISIANA, TEXAS &  0 & 468.90 & 468.90 &  0 &  0 &  0 &  0 &  0 &  0 &       0 &  0 & 50484856608 &          0 & 0 & 1142.60 & 0 & 0 & 0 & 0 & 1142.60 & 0 & 0 & 0 & 0 & 0 & 0 & 0 & 0 & 1142.60 & 0 & 0 & 0 & 0 & 1142.60 & 0 & 0 & 0 & 0 & 0 & 0 & 0.00 & 0 & 0.00 &  0.00 &  56.50 &  56.50 & 58.10 &  86.40 & 144.50 & 146.10 & 0 & 146.10 & 71.40 & 0 & 71.40 & 139.20 & 0 & 139.20 & 43.50 & 0 & 43.50 &  7.00 & 0 &  7.00 & 608.20 & 465.30 & 142.90 & INITIAL      & 2015-06-15 14:27:08 & 2015-06-15 14:27:08 & 7000-1.1 (Rev. 06-2014)\\\\\n",
       "\t 2019-11-01 07:33:29 & 2013 & 20141041 & 13114 & 32109 & ONEOK NGL PIPELINE, LLC     & 100 WEST FIFTH STREET            & TULSA       & OK & 74102      & nan & Refined and/or Petroleum Product (non-HVL) & ILLINOIS, INDIANA, IOWA, KANSAS, NEBRASKA, OKLAHOMA & TEXAS            & NA & 382.00 & 382.00 & NA & NA & NA & NA & NA & NA &      NA & NA &          NA & 4434110925 & 0 &  589.08 & 0 & 0 & 0 & 0 &  589.08 & 0 & 0 & 0 & 0 & 0 & 0 & 0 & 0 &  589.08 & 0 & 0 & 0 & 0 &  589.08 & 0 & 0 & 0 & 0 & 0 & 0 & 0.00 & 0 & 0.00 & 29.32 & 192.26 & 221.58 & 63.14 & 133.49 & 196.63 & 112.92 & 0 & 112.92 & 36.44 & 0 & 36.44 &  14.44 & 0 &  14.44 &  0.14 & 0 &  0.14 &  6.28 & 0 &  6.28 & 588.43 & 262.68 & 325.75 & SUPPLEMENTAL & 2014-06-15 19:46:16 & 2014-06-17 13:25:03 & 7000-1.1 (Rev. 06-2011)\\\\\n",
       "\\end{tabular}\n"
      ],
      "text/markdown": [
       "\n",
       "A tibble: 5 × 85\n",
       "\n",
       "| DATAFILE_AS_OF &lt;dttm&gt; | Year &lt;dbl&gt; | REPORT_NUMBER &lt;dbl&gt; | SUPPLEMENTAL_NUMBER &lt;dbl&gt; | ID &lt;dbl&gt; | Name &lt;chr&gt; | PARTA4STREET &lt;chr&gt; | PARTA4CITY &lt;chr&gt; | PARTA4STATE &lt;chr&gt; | PARTA4ZIP &lt;chr&gt; | ⋯ ⋯ | PARTE2010HF &lt;dbl&gt; | PARTE2010LF &lt;dbl&gt; | PARTE2010TOTAL &lt;dbl&gt; | PARTETOTAL &lt;dbl&gt; | PARTETOTALHF &lt;dbl&gt; | PARTETOTALLF &lt;dbl&gt; | REPORT_SUBMISSION_TYPE &lt;chr&gt; | REPORT_DATE &lt;dttm&gt; | FILING_DATE &lt;dttm&gt; | FORM_REV &lt;chr&gt; |\n",
       "|---|---|---|---|---|---|---|---|---|---|---|---|---|---|---|---|---|---|---|---|---|\n",
       "| 2019-11-01 07:22:30 | 2011 | 20120302 | 11340 | 26085 | PLAINS MARKETING, L.P.      | 333 Clay Street Suite 1600       | CUSHING     | TX | 77002      | ⋯ |  0.00 | 0 |  0.00 |   6.27 |   6.27 |   0.00 | INITIAL      | 2012-06-14 11:14:36 | 2012-06-14 11:14:36 | 7000-1.1 (Rev. 06-2011) |\n",
       "| 2019-11-01 08:46:27 | 2017 | 20183187 | 15699 | 39571 | HPIP GONZALES HOLDINGS, LLC | 1415 LOUISIANA STREET SUITE 1600 | HOUSTON     | TX | 77002      | ⋯ | 25.55 | 0 | 25.55 |  25.55 |  25.55 |   0.00 | INITIAL      | 2018-06-01 11:59:49 | 2018-06-01 11:59:49 | 7000-1.1 (Rev. 06-2014) |\n",
       "| 2019-11-01 07:58:02 | 2016 | 20172986 | 15461 | 30658 | KERN OIL &amp; REFINING CO.     | 7724 E. PANAMA LANE              | BAKERSFIELD | CA | 93307      | ⋯ |  0.00 | 0 |  0.00 |  18.67 |  18.67 |   0.00 | SUPPLEMENTAL | 2017-07-21 11:44:25 | 2017-12-18 06:20:48 | 7000-1.1 (Rev. 06-2014) |\n",
       "| 2019-11-01 07:47:16 | 2014 | 20151610 | 13759 |  2731 | CHEVRON PIPE LINE CO        | 4800 FOURNACE PLACE RM C388      | BELLAIRE    | TX | 77401-2324 | ⋯ |  7.00 | 0 |  7.00 | 608.20 | 465.30 | 142.90 | INITIAL      | 2015-06-15 14:27:08 | 2015-06-15 14:27:08 | 7000-1.1 (Rev. 06-2014) |\n",
       "| 2019-11-01 07:33:29 | 2013 | 20141041 | 13114 | 32109 | ONEOK NGL PIPELINE, LLC     | 100 WEST FIFTH STREET            | TULSA       | OK | 74102      | ⋯ |  6.28 | 0 |  6.28 | 588.43 | 262.68 | 325.75 | SUPPLEMENTAL | 2014-06-15 19:46:16 | 2014-06-17 13:25:03 | 7000-1.1 (Rev. 06-2011) |\n",
       "\n"
      ],
      "text/plain": [
       "  DATAFILE_AS_OF      Year REPORT_NUMBER SUPPLEMENTAL_NUMBER ID   \n",
       "1 2019-11-01 07:22:30 2011 20120302      11340               26085\n",
       "2 2019-11-01 08:46:27 2017 20183187      15699               39571\n",
       "3 2019-11-01 07:58:02 2016 20172986      15461               30658\n",
       "4 2019-11-01 07:47:16 2014 20151610      13759                2731\n",
       "5 2019-11-01 07:33:29 2013 20141041      13114               32109\n",
       "  Name                        PARTA4STREET                     PARTA4CITY \n",
       "1 PLAINS MARKETING, L.P.      333 Clay Street Suite 1600       CUSHING    \n",
       "2 HPIP GONZALES HOLDINGS, LLC 1415 LOUISIANA STREET SUITE 1600 HOUSTON    \n",
       "3 KERN OIL & REFINING CO.     7724 E. PANAMA LANE              BAKERSFIELD\n",
       "4 CHEVRON PIPE LINE CO        4800 FOURNACE PLACE RM C388      BELLAIRE   \n",
       "5 ONEOK NGL PIPELINE, LLC     100 WEST FIFTH STREET            TULSA      \n",
       "  PARTA4STATE PARTA4ZIP  ⋯ PARTE2010HF PARTE2010LF PARTE2010TOTAL PARTETOTAL\n",
       "1 TX          77002      ⋯  0.00       0            0.00            6.27    \n",
       "2 TX          77002      ⋯ 25.55       0           25.55           25.55    \n",
       "3 CA          93307      ⋯  0.00       0            0.00           18.67    \n",
       "4 TX          77401-2324 ⋯  7.00       0            7.00          608.20    \n",
       "5 OK          74102      ⋯  6.28       0            6.28          588.43    \n",
       "  PARTETOTALHF PARTETOTALLF REPORT_SUBMISSION_TYPE REPORT_DATE        \n",
       "1   6.27         0.00       INITIAL                2012-06-14 11:14:36\n",
       "2  25.55         0.00       INITIAL                2018-06-01 11:59:49\n",
       "3  18.67         0.00       SUPPLEMENTAL           2017-07-21 11:44:25\n",
       "4 465.30       142.90       INITIAL                2015-06-15 14:27:08\n",
       "5 262.68       325.75       SUPPLEMENTAL           2014-06-15 19:46:16\n",
       "  FILING_DATE         FORM_REV               \n",
       "1 2012-06-14 11:14:36 7000-1.1 (Rev. 06-2011)\n",
       "2 2018-06-01 11:59:49 7000-1.1 (Rev. 06-2014)\n",
       "3 2017-12-18 06:20:48 7000-1.1 (Rev. 06-2014)\n",
       "4 2015-06-15 14:27:08 7000-1.1 (Rev. 06-2014)\n",
       "5 2014-06-17 13:25:03 7000-1.1 (Rev. 06-2011)"
      ]
     },
     "metadata": {},
     "output_type": "display_data"
    }
   ],
   "source": [
    "data(pipelines_2010)\n",
    "sample_n(pipelines_2010, 5)"
   ]
  },
  {
   "cell_type": "markdown",
   "metadata": {
    "slideshow": {
     "slide_type": "slide"
    }
   },
   "source": [
    "## Add missing names"
   ]
  },
  {
   "cell_type": "code",
   "execution_count": 6,
   "metadata": {
    "slideshow": {
     "slide_type": "subslide"
    }
   },
   "outputs": [],
   "source": [
    "# To be used when there are IDs left in the name column\n",
    "add_missing_names <- function(sample, id_col, dataset = pipelines_2010){\n",
    "    id_col_type <- class(sample[[id_col]])\n",
    "    \n",
    "    # Prepare dataset to merge with\n",
    "    all_names <- dataset %>%\n",
    "        select(ID, Name, Year) %>%\n",
    "        group_by(ID) %>%\n",
    "        filter(Year == max(Year)) %>%\n",
    "        slice(1) %>%\n",
    "        select(-Year)\n",
    "    all_names$ID <- as.character(all_names$ID)\n",
    "    all_names <- rename(all_names, \"temp_name\" = \"Name\")\n",
    "    \n",
    "    # Do the merging to obtain the missing names\n",
    "    sample[id_col] <- as.character(sample[[id_col]])\n",
    "    sample <- left_join(sample, all_names, by = setNames(\"ID\", id_col))\n",
    "    name_missing <- !is.na(sample$temp_name)  # The name of the company can only be missing if joining by OPERATOR_ID is successfuly (bc then there is an ID, not a Name there)\n",
    "    sample[name_missing, ][id_col] <- sample[name_missing, ][\"temp_name\"]\n",
    "    \n",
    "    # Cleanup\n",
    "    sample <- select(sample, -temp_name)\n",
    "    sample[id_col] <- as.type(sample[[id_col]], \"factor\")\n",
    "    \n",
    "    return(sample)\n",
    "}"
   ]
  },
  {
   "cell_type": "code",
   "execution_count": 7,
   "metadata": {
    "slideshow": {
     "slide_type": "subslide"
    }
   },
   "outputs": [
    {
     "data": {
      "text/html": [
       "<table>\n",
       "<caption>A tibble: 5 × 110</caption>\n",
       "<thead>\n",
       "\t<tr><th scope=col>YEAR</th><th scope=col>Name</th><th scope=col>CRUDE_AGE_UNKNOWN_MILES</th><th scope=col>CRUDE_AVG_AGE</th><th scope=col>CRUDE_INCIDENTS</th><th scope=col>CRUDE_MILES</th><th scope=col>CRUDE_MILES_1940</th><th scope=col>CRUDE_MILES_1950</th><th scope=col>CRUDE_MILES_1960</th><th scope=col>CRUDE_MILES_1970</th><th scope=col>⋯</th><th scope=col>HVL_MILES_2000_3</th><th scope=col>HVL_MILES_2010_3</th><th scope=col>NON_HVL_MILES_1940_3</th><th scope=col>NON_HVL_MILES_1950_3</th><th scope=col>NON_HVL_MILES_1960_3</th><th scope=col>NON_HVL_MILES_1970_3</th><th scope=col>NON_HVL_MILES_1980_3</th><th scope=col>NON_HVL_MILES_1990_3</th><th scope=col>NON_HVL_MILES_2000_3</th><th scope=col>NON_HVL_MILES_2010_3</th></tr>\n",
       "\t<tr><th scope=col>&lt;dbl&gt;</th><th scope=col>&lt;fct&gt;</th><th scope=col>&lt;dbl&gt;</th><th scope=col>&lt;dbl&gt;</th><th scope=col>&lt;dbl&gt;</th><th scope=col>&lt;dbl&gt;</th><th scope=col>&lt;dbl&gt;</th><th scope=col>&lt;dbl&gt;</th><th scope=col>&lt;dbl&gt;</th><th scope=col>&lt;dbl&gt;</th><th scope=col>⋯</th><th scope=col>&lt;dbl&gt;</th><th scope=col>&lt;dbl&gt;</th><th scope=col>&lt;dbl&gt;</th><th scope=col>&lt;dbl&gt;</th><th scope=col>&lt;dbl&gt;</th><th scope=col>&lt;dbl&gt;</th><th scope=col>&lt;dbl&gt;</th><th scope=col>&lt;dbl&gt;</th><th scope=col>&lt;dbl&gt;</th><th scope=col>&lt;dbl&gt;</th></tr>\n",
       "</thead>\n",
       "<tbody>\n",
       "\t<tr><td>2014</td><td>FRIO LASALLE PIPELINE, LP</td><td>0</td><td> 0.00000</td><td>0</td><td> 0</td><td>0</td><td>0</td><td>0</td><td>0</td><td>⋯</td><td>    NA</td><td> NA</td><td>   NA</td><td>    NA</td><td>    NA</td><td>    NA</td><td>    NA</td><td>    NA</td><td>    NA</td><td> NA</td></tr>\n",
       "\t<tr><td>2011</td><td>EQUISTAR CHEMICALS, L.P. </td><td>0</td><td> 0.00000</td><td>0</td><td> 0</td><td>0</td><td>0</td><td>0</td><td>0</td><td>⋯</td><td> 21.57</td><td>0.0</td><td>  0.0</td><td> 99.62</td><td> 82.11</td><td>234.89</td><td> 25.43</td><td>137.28</td><td>  0.00</td><td>0.0</td></tr>\n",
       "\t<tr><td>2010</td><td>Dow (Group)              </td><td>0</td><td> 0.00000</td><td>0</td><td> 0</td><td>0</td><td>0</td><td>0</td><td>0</td><td>⋯</td><td>129.98</td><td>0.0</td><td>  1.5</td><td>  0.00</td><td> 33.18</td><td> 51.88</td><td> 38.79</td><td> 48.90</td><td> 30.89</td><td>1.4</td></tr>\n",
       "\t<tr><td>2013</td><td>TAMPA BAY PIPELINE CO.   </td><td>0</td><td> 0.00000</td><td>0</td><td> 0</td><td>0</td><td>0</td><td>0</td><td>0</td><td>⋯</td><td> 62.25</td><td>3.6</td><td>  0.0</td><td>  0.00</td><td>  0.00</td><td>  0.00</td><td>  0.00</td><td>  0.00</td><td>  0.00</td><td>0.0</td></tr>\n",
       "\t<tr><td>2010</td><td>ExxonMobil (Group)       </td><td>1</td><td>28.18872</td><td>1</td><td>31</td><td>1</td><td>2</td><td>2</td><td>7</td><td>⋯</td><td>443.50</td><td>0.0</td><td>635.0</td><td>288.00</td><td>900.70</td><td>240.00</td><td>484.00</td><td>153.00</td><td>296.80</td><td>0.0</td></tr>\n",
       "</tbody>\n",
       "</table>\n"
      ],
      "text/latex": [
       "A tibble: 5 × 110\n",
       "\\begin{tabular}{r|llllllllllllllllllllllllllllllllllllllllllllllllllllllllllllllllllllllllllllllllllllllllllllllllllllllllllllll}\n",
       " YEAR & Name & CRUDE\\_AGE\\_UNKNOWN\\_MILES & CRUDE\\_AVG\\_AGE & CRUDE\\_INCIDENTS & CRUDE\\_MILES & CRUDE\\_MILES\\_1940 & CRUDE\\_MILES\\_1950 & CRUDE\\_MILES\\_1960 & CRUDE\\_MILES\\_1970 & CRUDE\\_MILES\\_1980 & CRUDE\\_MILES\\_1990 & CRUDE\\_MILES\\_2000 & CRUDE\\_MILES\\_2010 & CRUDE\\_SIGNIFICANT\\_INCIDENTS & HVL\\_AGE\\_UNKNOWN\\_MILES & HVL\\_AVG\\_AGE & HVL\\_INCIDENTS & HVL\\_MILES & HVL\\_MILES\\_1940 & HVL\\_MILES\\_1950 & HVL\\_MILES\\_1960 & HVL\\_MILES\\_1970 & HVL\\_MILES\\_1980 & HVL\\_MILES\\_1990 & HVL\\_MILES\\_2000 & HVL\\_MILES\\_2010 & HVL\\_SIGNIFICANT\\_INCIDENTS & NON\\_HVL\\_AGE\\_UNKNOWN\\_MILES & NON\\_HVL\\_AVG\\_AGE & NON\\_HVL\\_INCIDENTS & NON\\_HVL\\_MILES & NON\\_HVL\\_MILES\\_1940 & NON\\_HVL\\_MILES\\_1950 & NON\\_HVL\\_MILES\\_1960 & NON\\_HVL\\_MILES\\_1970 & NON\\_HVL\\_MILES\\_1980 & NON\\_HVL\\_MILES\\_1990 & NON\\_HVL\\_MILES\\_2000 & NON\\_HVL\\_MILES\\_2010 & NON\\_HVL\\_SIGNIFICANT\\_INCIDENTS & SIGNIFICANT\\_INCIDENTS & ADDED & REMOVED & TOTAL\\_MILES & ADDED\\_PERC & REMOVED\\_PERC & CHANGE\\_TOTAL & CHANGE\\_PERC & MEAN\\_CHANGE\\_3 & CHANGE\\_SD & CHANGE\\_SD\\_SQ & CHANGE\\_EXP & INC\\_3 & INC\\_4 & INC\\_5 & DISC\\_ADDED & DISC\\_ADDED\\_ALT & DISC\\_ADDED\\_ALT2 & REMOVED\\_ADJ & CONSOLIDATE & CRUDE\\_MILES\\_3 & HVL\\_MILES\\_3 & NON\\_HVL\\_MILES\\_3 & CRUDE\\_AVG\\_AGE\\_3 & HVL\\_AVG\\_AGE\\_3 & NON\\_HVL\\_AVG\\_AGE\\_3 & NO\\_CRUDE & NO\\_HVL & NO\\_NON\\_HVL & M\\_A & M\\_A\\_1 & M\\_A\\_2 & M\\_A\\_3 & M\\_A\\_past\\_3 & ADDED\\_1 & ADDED\\_2 & ADDED\\_3 & MEAN\\_ADDED\\_3 & SD\\_ADDED\\_3 & SD\\_ADDED\\_3\\_EXP & SD\\_ADDED\\_3\\_EXP\\_SQ & SDxADDED & CRUDExAGE & HVLxAGE & NON\\_HVLxAGE & CRUDE\\_MILES\\_1940\\_3 & CRUDE\\_MILES\\_1950\\_3 & CRUDE\\_MILES\\_1960\\_3 & CRUDE\\_MILES\\_1970\\_3 & CRUDE\\_MILES\\_1980\\_3 & CRUDE\\_MILES\\_1990\\_3 & CRUDE\\_MILES\\_2000\\_3 & CRUDE\\_MILES\\_2010\\_3 & HVL\\_MILES\\_1940\\_3 & HVL\\_MILES\\_1950\\_3 & HVL\\_MILES\\_1960\\_3 & HVL\\_MILES\\_1970\\_3 & HVL\\_MILES\\_1980\\_3 & HVL\\_MILES\\_1990\\_3 & HVL\\_MILES\\_2000\\_3 & HVL\\_MILES\\_2010\\_3 & NON\\_HVL\\_MILES\\_1940\\_3 & NON\\_HVL\\_MILES\\_1950\\_3 & NON\\_HVL\\_MILES\\_1960\\_3 & NON\\_HVL\\_MILES\\_1970\\_3 & NON\\_HVL\\_MILES\\_1980\\_3 & NON\\_HVL\\_MILES\\_1990\\_3 & NON\\_HVL\\_MILES\\_2000\\_3 & NON\\_HVL\\_MILES\\_2010\\_3\\\\\n",
       " <dbl> & <fct> & <dbl> & <dbl> & <dbl> & <dbl> & <dbl> & <dbl> & <dbl> & <dbl> & <dbl> & <dbl> & <dbl> & <dbl> & <dbl> & <dbl> & <dbl> & <dbl> & <dbl> & <dbl> & <dbl> & <dbl> & <dbl> & <dbl> & <dbl> & <dbl> & <dbl> & <dbl> & <dbl> & <dbl> & <dbl> & <dbl> & <dbl> & <dbl> & <dbl> & <dbl> & <dbl> & <dbl> & <dbl> & <dbl> & <dbl> & <dbl> & <dbl> & <dbl> & <dbl> & <dbl> & <dbl> & <dbl> & <dbl> & <dbl> & <dbl> & <dbl> & <dbl> & <dbl> & <dbl> & <dbl> & <dbl> & <dbl> & <dbl> & <dbl> & <dbl> & <dbl> & <dbl> & <dbl> & <dbl> & <dbl> & <dbl> & <lgl> & <lgl> & <lgl> & <lgl> & <lgl> & <lgl> & <lgl> & <lgl> & <dbl> & <dbl> & <dbl> & <dbl> & <dbl> & <dbl> & <dbl> & <dbl> & <dbl> & <dbl> & <dbl> & <dbl> & <dbl> & <dbl> & <dbl> & <dbl> & <dbl> & <dbl> & <dbl> & <dbl> & <dbl> & <dbl> & <dbl> & <dbl> & <dbl> & <dbl> & <dbl> & <dbl> & <dbl> & <dbl> & <dbl> & <dbl> & <dbl> & <dbl> & <dbl>\\\\\n",
       "\\hline\n",
       "\t 2014 & FRIO LASALLE PIPELINE, LP & 0 &  0.00000 & 0 &  0 & 0 & 0 & 0 & 0 & 0 & 0 & 0 & 0 & 0 &   0.0 & 11.53939 & 0 &   63.51 &  0.00 &   0.0 &   0.00 &  39.27 &   0.00 &   0.00 &   0.00 & 85.99 & 0 &  0 &  0.00000 & 0 &   0.00 &   0 &  0.00 &   0.00 &   0.00 &   0.00 &  0.00 &   0.00 & 0.0 & 0 & 0 &   0.00 &   -8.37 &  125.26 &         NA &           NA &  -8.37 & -0.062635636 & -0.020878545 & 0.0012695063 & 1.611646e-06 & 1.001270 & NA & NA & NA &         NA &         NA &        NA &          NA &          NA & NA &      NA &      NA &       NA &       NA &       NA &    NA &    NA &    NA & FALSE &    NA &    NA &    NA & FALSE &         NA & 0.00000000 &         NA &         NA &         NA &       NA &       NA &         NA &       NA &        NA &        NA & NA & NA & NA & NA & NA & NA & NA & NA &     NA &      NA &      NA &      NA &     NA &      NA &     NA &  NA &    NA &     NA &     NA &     NA &     NA &     NA &     NA &  NA\\\\\n",
       "\t 2011 & EQUISTAR CHEMICALS, L.P.  & 0 &  0.00000 & 0 &  0 & 0 & 0 & 0 & 0 & 0 & 0 & 0 & 0 & 0 &   0.0 & 32.23425 & 1 &  596.91 &  0.00 &   0.0 &  92.94 & 718.14 & 186.03 & 149.32 &  15.23 &  0.00 & 1 &  0 & 36.69187 & 0 & 238.31 &   0 & 49.81 &  71.55 & 116.87 &   0.00 & 74.74 &   0.00 & 0.0 & 0 & 1 &  49.60 &  -53.51 & 1474.63 & 0.03417767 & -0.036871916 &  -3.91 & -0.002644501 &  0.009806533 & 0.0001623222 & 2.634850e-08 & 1.000162 &  1 &  1 &  1 & 0.09774149 & 0.06270214 & 0.1091340 & 0.002694248 & 0.004303944 &  0 & 1814.72 &  447.21 &  0.00000 & 33.05337 & 36.39354 &  TRUE & FALSE & FALSE & FALSE & FALSE & FALSE & FALSE & FALSE & 0.03417767 & 0.01582092 & 0.05393158 & 0.03464339 & 0.01556210 & 1.015684 & 1.031614 & 0.09927445 &    0.000 &  59982.62 & 16275.554 &  0 &  0 &  0 &  0 &  0 &  0 &  0 &  0 &   0.00 &   99.82 &  247.02 & 2174.14 & 466.86 &  557.61 &  21.57 & 0.0 &   0.0 &  99.62 &  82.11 & 234.89 &  25.43 & 137.28 &   0.00 & 0.0\\\\\n",
       "\t 2010 & Dow (Group)               & 0 &  0.00000 & 0 &  0 & 0 & 0 & 0 & 0 & 0 & 0 & 0 & 0 & 0 & 121.8 & 34.30154 & 0 &  304.04 &  1.35 &  13.6 & 179.78 & 378.61 &  75.48 &  28.79 &  42.75 &  0.00 & 0 &  0 & 23.35423 & 0 &  52.64 &   0 &  0.00 &   3.78 &  13.58 &  21.09 &  0.00 &  12.79 & 1.4 & 0 & 0 & 162.21 & -124.54 &  894.80 & 0.18378654 & -0.141105824 &  37.67 &  0.043948993 &  0.048638997 & 0.0017120785 & 2.931213e-06 & 1.001714 &  0 &  0 &  0 & 0.24678510 & 0.25085286 & 0.3080473 & 0.000000000 & 0.009263472 &  0 &  996.68 &  206.54 &  0.00000 & 37.86589 & 21.92054 &  TRUE & FALSE & FALSE & FALSE & FALSE & FALSE & FALSE & FALSE & 0.18378654 & 0.07175905 & 0.05768087 & 0.10440882 & 0.05642202 & 1.058044 & 1.119457 & 0.26110952 &    0.000 &  37740.17 &  4527.468 &  0 &  0 &  0 &  0 &  0 &  0 &  0 &  0 & 151.25 &   34.90 &  512.86 & 1181.89 & 207.85 &   81.47 & 129.98 & 0.0 &   1.5 &   0.00 &  33.18 &  51.88 &  38.79 &  48.90 &  30.89 & 1.4\\\\\n",
       "\t 2013 & TAMPA BAY PIPELINE CO.    & 0 &  0.00000 & 0 &  0 & 0 & 0 & 0 & 0 & 0 & 0 & 0 & 0 & 0 &   0.0 & 27.39259 & 0 &   92.81 &  0.00 &   0.0 &   0.00 &  40.68 &  28.99 &   1.19 &  20.75 &  1.20 & 0 &  0 &  0.00000 & 0 &   0.00 &   0 &  0.00 &   0.00 &   0.00 &   0.00 &  0.00 &   0.00 & 0.0 & 0 & 0 &   0.00 &    0.00 &   92.81 & 0.00000000 &  0.000000000 &   0.00 &  0.000000000 & -0.036912638 & 0.0015328607 & 2.349662e-06 & 1.001534 &  1 &  1 &  1 &         NA & 0.00000000 &        NA & 0.000000000 & 0.058614373 &  0 &  278.43 &    0.00 &  0.00000 & 28.54646 &  0.00000 &  TRUE & FALSE &  TRUE & FALSE & FALSE & FALSE & FALSE & FALSE & 0.00000000 & 0.00000000 & 0.00000000 & 0.00000000 & 0.00000000 & 1.000000 & 1.000000 &         NA &    0.000 &   7948.19 &     0.000 &  0 &  0 &  0 &  0 &  0 &  0 &  0 &  0 &   0.00 &    0.00 &    0.00 &  122.04 &  86.97 &    3.57 &  62.25 & 3.6 &   0.0 &   0.00 &   0.00 &   0.00 &   0.00 &   0.00 &   0.00 & 0.0\\\\\n",
       "\t 2010 & ExxonMobil (Group)        & 1 & 28.18872 & 1 & 31 & 1 & 2 & 2 & 7 & 3 & 7 & 3 & 0 & 0 &  55.0 & 35.54287 & 3 & 1425.00 & 33.00 & 503.0 & 793.50 & 535.00 & 244.00 & 401.00 & 234.50 &  0.00 & 0 & 77 & 37.28920 & 2 & 670.00 & 175 & 16.00 & 263.70 &  59.00 & 146.00 & 44.00 & 131.80 & 0.0 & 1 & 1 & 226.06 &  -11.98 & 3737.50 & 0.06342873 & -0.003361392 & 214.08 &  0.060759149 &  0.075936910 & 0.0005322328 & 2.832718e-07 & 1.000532 &  4 &  9 & 10 & 0.25302966 & 0.14065647 & 0.2741726 & 0.000000000 & 0.000000000 & 74 & 4825.00 & 2242.00 & 30.16405 & 36.64929 & 36.43420 & FALSE & FALSE & FALSE & FALSE & FALSE & FALSE & FALSE & FALSE & 0.06342873 & 0.09060334 & 0.05047653 & 0.06816953 & 0.01672118 & 1.016862 & 1.034008 & 0.25729618 & 2232.139 & 176832.83 & 81685.482 &  3 & 12 &  6 & 13 &  7 & 25 &  9 &  0 & 123.00 & 1420.00 & 2642.50 & 1936.00 & 784.00 & 1083.00 & 443.50 & 0.0 & 635.0 & 288.00 & 900.70 & 240.00 & 484.00 & 153.00 & 296.80 & 0.0\\\\\n",
       "\\end{tabular}\n"
      ],
      "text/markdown": [
       "\n",
       "A tibble: 5 × 110\n",
       "\n",
       "| YEAR &lt;dbl&gt; | Name &lt;fct&gt; | CRUDE_AGE_UNKNOWN_MILES &lt;dbl&gt; | CRUDE_AVG_AGE &lt;dbl&gt; | CRUDE_INCIDENTS &lt;dbl&gt; | CRUDE_MILES &lt;dbl&gt; | CRUDE_MILES_1940 &lt;dbl&gt; | CRUDE_MILES_1950 &lt;dbl&gt; | CRUDE_MILES_1960 &lt;dbl&gt; | CRUDE_MILES_1970 &lt;dbl&gt; | ⋯ ⋯ | HVL_MILES_2000_3 &lt;dbl&gt; | HVL_MILES_2010_3 &lt;dbl&gt; | NON_HVL_MILES_1940_3 &lt;dbl&gt; | NON_HVL_MILES_1950_3 &lt;dbl&gt; | NON_HVL_MILES_1960_3 &lt;dbl&gt; | NON_HVL_MILES_1970_3 &lt;dbl&gt; | NON_HVL_MILES_1980_3 &lt;dbl&gt; | NON_HVL_MILES_1990_3 &lt;dbl&gt; | NON_HVL_MILES_2000_3 &lt;dbl&gt; | NON_HVL_MILES_2010_3 &lt;dbl&gt; |\n",
       "|---|---|---|---|---|---|---|---|---|---|---|---|---|---|---|---|---|---|---|---|---|\n",
       "| 2014 | FRIO LASALLE PIPELINE, LP | 0 |  0.00000 | 0 |  0 | 0 | 0 | 0 | 0 | ⋯ |     NA |  NA |    NA |     NA |     NA |     NA |     NA |     NA |     NA |  NA |\n",
       "| 2011 | EQUISTAR CHEMICALS, L.P.  | 0 |  0.00000 | 0 |  0 | 0 | 0 | 0 | 0 | ⋯ |  21.57 | 0.0 |   0.0 |  99.62 |  82.11 | 234.89 |  25.43 | 137.28 |   0.00 | 0.0 |\n",
       "| 2010 | Dow (Group)               | 0 |  0.00000 | 0 |  0 | 0 | 0 | 0 | 0 | ⋯ | 129.98 | 0.0 |   1.5 |   0.00 |  33.18 |  51.88 |  38.79 |  48.90 |  30.89 | 1.4 |\n",
       "| 2013 | TAMPA BAY PIPELINE CO.    | 0 |  0.00000 | 0 |  0 | 0 | 0 | 0 | 0 | ⋯ |  62.25 | 3.6 |   0.0 |   0.00 |   0.00 |   0.00 |   0.00 |   0.00 |   0.00 | 0.0 |\n",
       "| 2010 | ExxonMobil (Group)        | 1 | 28.18872 | 1 | 31 | 1 | 2 | 2 | 7 | ⋯ | 443.50 | 0.0 | 635.0 | 288.00 | 900.70 | 240.00 | 484.00 | 153.00 | 296.80 | 0.0 |\n",
       "\n"
      ],
      "text/plain": [
       "  YEAR Name                      CRUDE_AGE_UNKNOWN_MILES CRUDE_AVG_AGE\n",
       "1 2014 FRIO LASALLE PIPELINE, LP 0                        0.00000     \n",
       "2 2011 EQUISTAR CHEMICALS, L.P.  0                        0.00000     \n",
       "3 2010 Dow (Group)               0                        0.00000     \n",
       "4 2013 TAMPA BAY PIPELINE CO.    0                        0.00000     \n",
       "5 2010 ExxonMobil (Group)        1                       28.18872     \n",
       "  CRUDE_INCIDENTS CRUDE_MILES CRUDE_MILES_1940 CRUDE_MILES_1950\n",
       "1 0                0          0                0               \n",
       "2 0                0          0                0               \n",
       "3 0                0          0                0               \n",
       "4 0                0          0                0               \n",
       "5 1               31          1                2               \n",
       "  CRUDE_MILES_1960 CRUDE_MILES_1970 ⋯ HVL_MILES_2000_3 HVL_MILES_2010_3\n",
       "1 0                0                ⋯     NA            NA             \n",
       "2 0                0                ⋯  21.57           0.0             \n",
       "3 0                0                ⋯ 129.98           0.0             \n",
       "4 0                0                ⋯  62.25           3.6             \n",
       "5 2                7                ⋯ 443.50           0.0             \n",
       "  NON_HVL_MILES_1940_3 NON_HVL_MILES_1950_3 NON_HVL_MILES_1960_3\n",
       "1    NA                    NA                   NA              \n",
       "2   0.0                 99.62                82.11              \n",
       "3   1.5                  0.00                33.18              \n",
       "4   0.0                  0.00                 0.00              \n",
       "5 635.0                288.00               900.70              \n",
       "  NON_HVL_MILES_1970_3 NON_HVL_MILES_1980_3 NON_HVL_MILES_1990_3\n",
       "1     NA                   NA                   NA              \n",
       "2 234.89                25.43               137.28              \n",
       "3  51.88                38.79                48.90              \n",
       "4   0.00                 0.00                 0.00              \n",
       "5 240.00               484.00               153.00              \n",
       "  NON_HVL_MILES_2000_3 NON_HVL_MILES_2010_3\n",
       "1     NA                NA                 \n",
       "2   0.00               0.0                 \n",
       "3  30.89               1.4                 \n",
       "4   0.00               0.0                 \n",
       "5 296.80               0.0                 "
      ]
     },
     "metadata": {},
     "output_type": "display_data"
    }
   ],
   "source": [
    "sample <- add_missing_names(sample, \"OPERATOR_ID\")\n",
    "sample <- rename(sample, \"Name\" = \"OPERATOR_ID\")\n",
    "\n",
    "sample_n(sample, 5)"
   ]
  },
  {
   "cell_type": "markdown",
   "metadata": {
    "slideshow": {
     "slide_type": "slide"
    }
   },
   "source": [
    "## Sample overview"
   ]
  },
  {
   "cell_type": "markdown",
   "metadata": {
    "slideshow": {
     "slide_type": "subslide"
    }
   },
   "source": [
    "### Largest operators by total miles"
   ]
  },
  {
   "cell_type": "code",
   "execution_count": 8,
   "metadata": {},
   "outputs": [
    {
     "data": {
      "text/html": [
       "<table class=\"table\" style=\"font-size: 16px; margin-left: auto; margin-right: auto;\">\n",
       " <thead>\n",
       "  <tr>\n",
       "   <th style=\"text-align:left;\"> Name </th>\n",
       "   <th style=\"text-align:right;\"> TOTAL_MILES </th>\n",
       "  </tr>\n",
       " </thead>\n",
       "<tbody>\n",
       "  <tr>\n",
       "   <td style=\"text-align:left;\"> ENTERPRISE PRODUCTS OPERATING LLC </td>\n",
       "   <td style=\"text-align:right;\"> 13401.76 </td>\n",
       "  </tr>\n",
       "  <tr>\n",
       "   <td style=\"text-align:left;\"> ONEOK (Group) </td>\n",
       "   <td style=\"text-align:right;\"> 10784.50 </td>\n",
       "  </tr>\n",
       "  <tr>\n",
       "   <td style=\"text-align:left;\"> Phillips 66 (Group) </td>\n",
       "   <td style=\"text-align:right;\"> 10356.00 </td>\n",
       "  </tr>\n",
       "  <tr>\n",
       "   <td style=\"text-align:left;\"> Magellan (Group) </td>\n",
       "   <td style=\"text-align:right;\"> 9162.00 </td>\n",
       "  </tr>\n",
       "  <tr>\n",
       "   <td style=\"text-align:left;\"> Kinder Morgan (Group) </td>\n",
       "   <td style=\"text-align:right;\"> 7976.34 </td>\n",
       "  </tr>\n",
       "</tbody>\n",
       "</table>"
      ]
     },
     "metadata": {},
     "output_type": "display_data"
    }
   ],
   "source": [
    "sample %>%\n",
    "    group_by(Name) %>%\n",
    "    filter(TOTAL_MILES == max(TOTAL_MILES)) %>%\n",
    "    ungroup() %>%\n",
    "    top_n(5, TOTAL_MILES) %>%\n",
    "    arrange(desc(TOTAL_MILES)) %>%\n",
    "    select(Name, TOTAL_MILES) %>%\n",
    "    jupyter_styling(font_size = 16)"
   ]
  },
  {
   "cell_type": "markdown",
   "metadata": {
    "slideshow": {
     "slide_type": "skip"
    }
   },
   "source": [
    "### Save slides"
   ]
  },
  {
   "cell_type": "code",
   "execution_count": 9,
   "metadata": {
    "slideshow": {
     "slide_type": "skip"
    }
   },
   "outputs": [],
   "source": [
    "system(\"jupyter nbconvert explore_data_variance.ipynb --to slides\")"
   ]
  }
 ],
 "metadata": {
  "kernelspec": {
   "display_name": "R 3.6.1",
   "language": "R",
   "name": "ir361"
  },
  "language_info": {
   "codemirror_mode": "r",
   "file_extension": ".r",
   "mimetype": "text/x-r-source",
   "name": "R",
   "pygments_lexer": "r",
   "version": "3.6.1"
  }
 },
 "nbformat": 4,
 "nbformat_minor": 4
}
