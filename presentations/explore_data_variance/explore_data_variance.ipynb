{
 "cells": [
  {
   "cell_type": "markdown",
   "metadata": {
    "slideshow": {
     "slide_type": "slide"
    }
   },
   "source": [
    "# Explore data variance"
   ]
  },
  {
   "cell_type": "markdown",
   "metadata": {
    "slideshow": {
     "slide_type": "slide"
    }
   },
   "source": [
    "## Setup"
   ]
  },
  {
   "cell_type": "code",
   "execution_count": 1,
   "metadata": {
    "slideshow": {
     "slide_type": "subslide"
    }
   },
   "outputs": [],
   "source": [
    "sample_file <- \"sample_combined_2019-09-16.feather\""
   ]
  },
  {
   "cell_type": "code",
   "execution_count": 2,
   "metadata": {},
   "outputs": [
    {
     "name": "stderr",
     "output_type": "stream",
     "text": [
      "── \u001b[1mAttaching packages\u001b[22m ──────────── tidyverse 1.3.0 ──\n",
      "\u001b[32m✔\u001b[39m \u001b[34mggplot2\u001b[39m 3.2.1     \u001b[32m✔\u001b[39m \u001b[34mpurrr  \u001b[39m 0.3.3\n",
      "\u001b[32m✔\u001b[39m \u001b[34mtibble \u001b[39m 2.1.3     \u001b[32m✔\u001b[39m \u001b[34mdplyr  \u001b[39m 0.8.3\n",
      "\u001b[32m✔\u001b[39m \u001b[34mtidyr  \u001b[39m 1.0.0     \u001b[32m✔\u001b[39m \u001b[34mstringr\u001b[39m 1.4.0\n",
      "\u001b[32m✔\u001b[39m \u001b[34mreadr  \u001b[39m 1.3.1     \u001b[32m✔\u001b[39m \u001b[34mforcats\u001b[39m 0.4.0\n",
      "── \u001b[1mConflicts\u001b[22m ─────────────── tidyverse_conflicts() ──\n",
      "\u001b[31m✖\u001b[39m \u001b[34mdplyr\u001b[39m::\u001b[32mfilter()\u001b[39m masks \u001b[34mstats\u001b[39m::filter()\n",
      "\u001b[31m✖\u001b[39m \u001b[34mdplyr\u001b[39m::\u001b[32mlag()\u001b[39m    masks \u001b[34mstats\u001b[39m::lag()\n"
     ]
    }
   ],
   "source": [
    "library(DataAnalysisTools)\n",
    "library(tidyverse)\n",
    "library(oildata)"
   ]
  },
  {
   "cell_type": "code",
   "execution_count": 3,
   "metadata": {},
   "outputs": [],
   "source": [
    "set.seed(6)"
   ]
  },
  {
   "cell_type": "markdown",
   "metadata": {
    "slideshow": {
     "slide_type": "slide"
    }
   },
   "source": [
    "## Load data"
   ]
  },
  {
   "cell_type": "code",
   "execution_count": 4,
   "metadata": {
    "slideshow": {
     "slide_type": "subslide"
    }
   },
   "outputs": [
    {
     "data": {
      "text/html": [
       "<table>\n",
       "<caption>A tibble: 5 × 110</caption>\n",
       "<thead>\n",
       "\t<tr><th scope=col>YEAR</th><th scope=col>OPERATOR_ID</th><th scope=col>CRUDE_AGE_UNKNOWN_MILES</th><th scope=col>CRUDE_AVG_AGE</th><th scope=col>CRUDE_INCIDENTS</th><th scope=col>CRUDE_MILES</th><th scope=col>CRUDE_MILES_1940</th><th scope=col>CRUDE_MILES_1950</th><th scope=col>CRUDE_MILES_1960</th><th scope=col>CRUDE_MILES_1970</th><th scope=col>⋯</th><th scope=col>HVL_MILES_2000_3</th><th scope=col>HVL_MILES_2010_3</th><th scope=col>NON_HVL_MILES_1940_3</th><th scope=col>NON_HVL_MILES_1950_3</th><th scope=col>NON_HVL_MILES_1960_3</th><th scope=col>NON_HVL_MILES_1970_3</th><th scope=col>NON_HVL_MILES_1980_3</th><th scope=col>NON_HVL_MILES_1990_3</th><th scope=col>NON_HVL_MILES_2000_3</th><th scope=col>NON_HVL_MILES_2010_3</th></tr>\n",
       "\t<tr><th scope=col>&lt;dbl&gt;</th><th scope=col>&lt;fct&gt;</th><th scope=col>&lt;dbl&gt;</th><th scope=col>&lt;dbl&gt;</th><th scope=col>&lt;dbl&gt;</th><th scope=col>&lt;dbl&gt;</th><th scope=col>&lt;dbl&gt;</th><th scope=col>&lt;dbl&gt;</th><th scope=col>&lt;dbl&gt;</th><th scope=col>&lt;dbl&gt;</th><th scope=col>⋯</th><th scope=col>&lt;dbl&gt;</th><th scope=col>&lt;dbl&gt;</th><th scope=col>&lt;dbl&gt;</th><th scope=col>&lt;dbl&gt;</th><th scope=col>&lt;dbl&gt;</th><th scope=col>&lt;dbl&gt;</th><th scope=col>&lt;dbl&gt;</th><th scope=col>&lt;dbl&gt;</th><th scope=col>&lt;dbl&gt;</th><th scope=col>&lt;dbl&gt;</th></tr>\n",
       "</thead>\n",
       "<tbody>\n",
       "\t<tr><td>2015</td><td>26049          </td><td>0</td><td>31.3655</td><td>1</td><td>2.2</td><td>45.8</td><td>8.8</td><td>0</td><td>27.2</td><td>⋯</td><td>   0.00</td><td>  0.00</td><td>  0</td><td> 151.30</td><td>  0.20</td><td>  0.00</td><td>52.70</td><td> 0.20</td><td> 1.40</td><td>0.60</td></tr>\n",
       "\t<tr><td>2011</td><td>ONEOK (Group)  </td><td>0</td><td> 0.0000</td><td>0</td><td>0.0</td><td> 0.0</td><td>0.0</td><td>0</td><td> 0.0</td><td>⋯</td><td>4705.96</td><td>183.28</td><td>  0</td><td> 443.19</td><td>326.37</td><td>116.70</td><td>71.94</td><td>29.19</td><td> 0.26</td><td>0.45</td></tr>\n",
       "\t<tr><td>2005</td><td>4805           </td><td>0</td><td> 0.0000</td><td>0</td><td>0.0</td><td> 0.0</td><td>0.0</td><td>0</td><td> 0.0</td><td>⋯</td><td>     NA</td><td>    NA</td><td> NA</td><td>     NA</td><td>    NA</td><td>    NA</td><td>   NA</td><td>   NA</td><td>   NA</td><td>  NA</td></tr>\n",
       "\t<tr><td>2006</td><td>25146          </td><td>0</td><td> 0.0000</td><td>0</td><td>0.0</td><td> 0.0</td><td>0.0</td><td>0</td><td> 0.0</td><td>⋯</td><td>   9.10</td><td>  0.00</td><td>  0</td><td>   0.00</td><td>  0.00</td><td>  0.00</td><td> 0.00</td><td> 0.00</td><td> 0.00</td><td>0.00</td></tr>\n",
       "\t<tr><td>2011</td><td>Chevron (Group)</td><td>0</td><td> 0.0000</td><td>0</td><td>0.0</td><td> 0.0</td><td>0.0</td><td>0</td><td> 0.0</td><td>⋯</td><td> 154.69</td><td>  0.00</td><td>170</td><td>1753.45</td><td>673.12</td><td> 97.09</td><td>57.32</td><td> 0.00</td><td>38.35</td><td>0.00</td></tr>\n",
       "</tbody>\n",
       "</table>\n"
      ],
      "text/latex": [
       "A tibble: 5 × 110\n",
       "\\begin{tabular}{r|llllllllllllllllllllllllllllllllllllllllllllllllllllllllllllllllllllllllllllllllllllllllllllllllllllllllllllll}\n",
       " YEAR & OPERATOR\\_ID & CRUDE\\_AGE\\_UNKNOWN\\_MILES & CRUDE\\_AVG\\_AGE & CRUDE\\_INCIDENTS & CRUDE\\_MILES & CRUDE\\_MILES\\_1940 & CRUDE\\_MILES\\_1950 & CRUDE\\_MILES\\_1960 & CRUDE\\_MILES\\_1970 & CRUDE\\_MILES\\_1980 & CRUDE\\_MILES\\_1990 & CRUDE\\_MILES\\_2000 & CRUDE\\_MILES\\_2010 & CRUDE\\_SIGNIFICANT\\_INCIDENTS & HVL\\_AGE\\_UNKNOWN\\_MILES & HVL\\_AVG\\_AGE & HVL\\_INCIDENTS & HVL\\_MILES & HVL\\_MILES\\_1940 & HVL\\_MILES\\_1950 & HVL\\_MILES\\_1960 & HVL\\_MILES\\_1970 & HVL\\_MILES\\_1980 & HVL\\_MILES\\_1990 & HVL\\_MILES\\_2000 & HVL\\_MILES\\_2010 & HVL\\_SIGNIFICANT\\_INCIDENTS & NON\\_HVL\\_AGE\\_UNKNOWN\\_MILES & NON\\_HVL\\_AVG\\_AGE & NON\\_HVL\\_INCIDENTS & NON\\_HVL\\_MILES & NON\\_HVL\\_MILES\\_1940 & NON\\_HVL\\_MILES\\_1950 & NON\\_HVL\\_MILES\\_1960 & NON\\_HVL\\_MILES\\_1970 & NON\\_HVL\\_MILES\\_1980 & NON\\_HVL\\_MILES\\_1990 & NON\\_HVL\\_MILES\\_2000 & NON\\_HVL\\_MILES\\_2010 & NON\\_HVL\\_SIGNIFICANT\\_INCIDENTS & SIGNIFICANT\\_INCIDENTS & ADDED & REMOVED & TOTAL\\_MILES & ADDED\\_PERC & REMOVED\\_PERC & CHANGE\\_TOTAL & CHANGE\\_PERC & MEAN\\_CHANGE\\_3 & CHANGE\\_SD & CHANGE\\_SD\\_SQ & CHANGE\\_EXP & INC\\_3 & INC\\_4 & INC\\_5 & DISC\\_ADDED & DISC\\_ADDED\\_ALT & DISC\\_ADDED\\_ALT2 & REMOVED\\_ADJ & CONSOLIDATE & CRUDE\\_MILES\\_3 & HVL\\_MILES\\_3 & NON\\_HVL\\_MILES\\_3 & CRUDE\\_AVG\\_AGE\\_3 & HVL\\_AVG\\_AGE\\_3 & NON\\_HVL\\_AVG\\_AGE\\_3 & NO\\_CRUDE & NO\\_HVL & NO\\_NON\\_HVL & M\\_A & M\\_A\\_1 & M\\_A\\_2 & M\\_A\\_3 & M\\_A\\_past\\_3 & ADDED\\_1 & ADDED\\_2 & ADDED\\_3 & MEAN\\_ADDED\\_3 & SD\\_ADDED\\_3 & SD\\_ADDED\\_3\\_EXP & SD\\_ADDED\\_3\\_EXP\\_SQ & SDxADDED & CRUDExAGE & HVLxAGE & NON\\_HVLxAGE & CRUDE\\_MILES\\_1940\\_3 & CRUDE\\_MILES\\_1950\\_3 & CRUDE\\_MILES\\_1960\\_3 & CRUDE\\_MILES\\_1970\\_3 & CRUDE\\_MILES\\_1980\\_3 & CRUDE\\_MILES\\_1990\\_3 & CRUDE\\_MILES\\_2000\\_3 & CRUDE\\_MILES\\_2010\\_3 & HVL\\_MILES\\_1940\\_3 & HVL\\_MILES\\_1950\\_3 & HVL\\_MILES\\_1960\\_3 & HVL\\_MILES\\_1970\\_3 & HVL\\_MILES\\_1980\\_3 & HVL\\_MILES\\_1990\\_3 & HVL\\_MILES\\_2000\\_3 & HVL\\_MILES\\_2010\\_3 & NON\\_HVL\\_MILES\\_1940\\_3 & NON\\_HVL\\_MILES\\_1950\\_3 & NON\\_HVL\\_MILES\\_1960\\_3 & NON\\_HVL\\_MILES\\_1970\\_3 & NON\\_HVL\\_MILES\\_1980\\_3 & NON\\_HVL\\_MILES\\_1990\\_3 & NON\\_HVL\\_MILES\\_2000\\_3 & NON\\_HVL\\_MILES\\_2010\\_3\\\\\n",
       " <dbl> & <fct> & <dbl> & <dbl> & <dbl> & <dbl> & <dbl> & <dbl> & <dbl> & <dbl> & <dbl> & <dbl> & <dbl> & <dbl> & <dbl> & <dbl> & <dbl> & <dbl> & <dbl> & <dbl> & <dbl> & <dbl> & <dbl> & <dbl> & <dbl> & <dbl> & <dbl> & <dbl> & <dbl> & <dbl> & <dbl> & <dbl> & <dbl> & <dbl> & <dbl> & <dbl> & <dbl> & <dbl> & <dbl> & <dbl> & <dbl> & <dbl> & <dbl> & <dbl> & <dbl> & <dbl> & <dbl> & <dbl> & <dbl> & <dbl> & <dbl> & <dbl> & <dbl> & <dbl> & <dbl> & <dbl> & <dbl> & <dbl> & <dbl> & <dbl> & <dbl> & <dbl> & <dbl> & <dbl> & <dbl> & <dbl> & <dbl> & <lgl> & <lgl> & <lgl> & <lgl> & <lgl> & <lgl> & <lgl> & <lgl> & <dbl> & <dbl> & <dbl> & <dbl> & <dbl> & <dbl> & <dbl> & <dbl> & <dbl> & <dbl> & <dbl> & <dbl> & <dbl> & <dbl> & <dbl> & <dbl> & <dbl> & <dbl> & <dbl> & <dbl> & <dbl> & <dbl> & <dbl> & <dbl> & <dbl> & <dbl> & <dbl> & <dbl> & <dbl> & <dbl> & <dbl> & <dbl> & <dbl> & <dbl> & <dbl>\\\\\n",
       "\\hline\n",
       "\t 2015 & 26049           & 0 & 31.3655 & 1 & 2.2 & 45.8 & 8.8 & 0 & 27.2 & 0.3 & 35.4 & 65.6 & 14.4 & 1 &   0.00 &  0.00000 &  0 &    0.00 & 0 &   0.00 &    0.00 &    0.00 &    0.00 &    0.00 &   0.00 &   0.00 & 0 &  0 & 51.51867 & 0 & 210.10 &  0 &  50.1 &   0.10 &   0.0 & 17.50 &  0.10 &  0.70 & 0.30 & 0 & 1 &  27.00 &  -18.50 &  266.30 & 0.101886792 & -0.0698113208 &   8.50 &  0.0329712956 & -0.03093372 & 0.0030119409 & 9.071788e-06 & 1.003016 &  1 &  1 &  1 &         NA &         NA &         NA & 0.0000000000 &           NA & 2.2 &    0.00 &  630.20 & NA &       NA &       NA & FALSE &  TRUE & FALSE & FALSE & FALSE & FALSE & FALSE & FALSE & 0.101886792 &          NA &         NA &          NA &          NA &       NA &       NA &         NA & NA &        NA &        NA & 141.9 & 26.4 &  0 & 81.3 & 0.9 & 104.4 & 196.5 & 38.6 &   0.00 &    0.00 &    0.00 &    0.00 &    0.00 &    0.00 &    0.00 &   0.00 &   0 &  151.30 &   0.20 &   0.00 & 52.70 &  0.20 &  1.40 & 0.60\\\\\n",
       "\t 2011 & ONEOK (Group)   & 0 &  0.0000 & 0 & 0.0 &  0.0 & 0.0 & 0 &  0.0 & 0.0 &  0.0 &  0.0 &  0.0 & 0 & 120.17 & 28.13260 & 16 & 2632.16 & 0 & 297.66 & 1318.98 & 1274.42 & 1223.66 & 1221.02 & 883.33 & 152.92 & 8 &  0 & 45.76038 & 0 & 345.51 &  0 & 221.6 & 163.03 & 116.7 & 36.01 & 14.46 &  0.11 & 0.45 & 0 & 8 & 209.61 & -205.71 & 7044.52 & 0.026221014 & -0.0257331464 &   3.90 &  0.0005539285 & -0.06394328 & 0.0223323645 & 4.987345e-04 & 1.022584 & 22 & 28 & 28 & 0.04288975 & 0.03504275 & 0.05163009 & 0.0000000000 & 0.5003899024 & 0.0 & 8665.69 &  636.79 &  0 & 27.38599 & 46.49494 &  TRUE & FALSE & FALSE & FALSE & FALSE & FALSE & FALSE & FALSE & 0.026221014 & 0.004948527 & 0.01656814 & 0.015912562 & 0.008696820 & 1.008735 & 1.017546 & 0.04326439 &  0 & 237318.54 &  29607.51 &   0.0 &  0.0 &  0 &  0.0 & 0.0 &   0.0 &   0.0 &  0.0 &   0.00 &  957.89 & 4141.85 & 4072.29 & 3774.72 & 3621.36 & 4705.96 & 183.28 &   0 &  443.19 & 326.37 & 116.70 & 71.94 & 29.19 &  0.26 & 0.45\\\\\n",
       "\t 2005 & 4805            & 0 &  0.0000 & 0 & 0.0 &  0.0 & 0.0 & 0 &  0.0 & 0.0 &  0.0 &  0.0 &  0.0 & 0 &   0.00 &  0.00000 &  0 &    0.00 & 0 &   0.00 &    0.00 &    0.00 &    0.00 &    0.00 &   0.00 &   0.00 & 0 &  0 & 29.48998 & 9 & 932.00 &  0 &   2.0 &   0.00 & 607.0 &  2.00 & 17.00 &  0.00 & 0.00 & 1 & 1 &   2.00 &    0.00 &  628.00 & 0.003184713 &  0.0000000000 &   2.00 &  0.0031948882 & -0.22877361 & 0.2804951439 & 7.867753e-02 & 1.323785 & NA & NA & NA & 0.34969004 & 0.17398503 & 0.35075161 & 0.0000000000 & 0.5244777070 &  NA &      NA &      NA &  0 &  0.00000 & 34.53897 &    NA &    NA &    NA & FALSE & FALSE &    NA &    NA & FALSE & 0.003184713 & 0.000000000 & 0.51240096 & 0.171861891 & 0.240800994 & 1.272268 & 1.618665 & 0.44489939 & NA &        NA &        NA &    NA &   NA & NA &   NA &  NA &    NA &    NA &   NA &     NA &      NA &      NA &      NA &      NA &      NA &      NA &     NA &  NA &      NA &     NA &     NA &    NA &    NA &    NA &   NA\\\\\n",
       "\t 2006 & 25146           & 0 &  0.0000 & 0 & 0.0 &  0.0 & 0.0 & 0 &  0.0 & 0.0 &  0.0 &  0.0 &  0.0 & 0 &   0.00 & 28.74415 &  0 & 1146.88 & 0 &  49.91 &   77.04 &  751.04 &  103.53 &  164.06 &   1.30 &   0.00 & 0 &  0 &  0.00000 & 0 &   0.00 &  0 &   0.0 &   0.00 &   0.0 &  0.00 &  0.00 &  0.00 & 0.00 & 0 & 0 &  13.07 &  -42.11 & 1146.88 & 0.011637328 & -0.0374941012 & -29.04 & -0.0246955575 & -0.01207043 & 0.0002774714 & 7.699039e-08 & 1.000278 &  1 & NA & NA & 0.03420996 & 0.02258297 & 0.03808907 & 0.0258567727 & 0.0638971455 & 0.0 & 2726.52 &    0.00 &  0 & 29.22509 &  0.00000 &  TRUE & FALSE &  TRUE & FALSE & FALSE & FALSE &    NA & FALSE & 0.011637328 & 0.016418457 & 0.00000000 & 0.009351929 & 0.006894864 & 1.006919 & 1.013885 & 0.03444665 &  0 &  79682.78 &      0.00 &   0.0 &  0.0 &  0 &  0.0 & 0.0 &   0.0 &   0.0 &  0.0 &   0.00 &  149.58 &  280.36 & 2159.56 &  371.18 &  529.78 &    9.10 &   0.00 &   0 &    0.00 &   0.00 &   0.00 &  0.00 &  0.00 &  0.00 & 0.00\\\\\n",
       "\t 2011 & Chevron (Group) & 0 &  0.0000 & 0 & 0.0 &  0.0 & 0.0 & 0 &  0.0 & 0.0 &  0.0 &  0.0 &  0.0 & 0 &   6.10 & 40.47647 &  7 &  601.10 & 0 & 833.30 & 1053.70 & 1066.50 &  334.00 &  338.60 &  24.90 &   0.00 & 4 & 23 & 52.58081 & 1 & 943.70 & 85 & 537.0 & 232.00 &  21.0 & 19.00 &  0.00 & 12.80 & 0.00 & 1 & 5 &   0.00 &   -0.80 & 4586.90 & 0.000000000 & -0.0001737318 &  -0.80 & -0.0001743793 &  0.30289340 & 1.8222925810 & 3.320750e+00 & 6.186024 & 15 & 18 & 20 & 0.70653028 & 0.41718945 & 0.70653028 & 0.0001737318 & 0.0001737318 & 0.0 & 1792.10 & 2650.24 &  0 & 39.72204 & 51.27702 &  TRUE & FALSE & FALSE & FALSE & FALSE & FALSE & FALSE &  TRUE & 0.000000000 & 0.387603828 & 0.47636070 & 0.287988177 & 0.206837035 & 1.229782 & 1.512364 & 0.86887832 &  0 &  71185.87 & 135896.41 &   0.0 &  0.0 &  0 &  0.0 & 0.0 &   0.0 &   0.0 &  0.0 & 257.05 & 2283.80 & 3013.15 & 2653.56 &  801.53 &  770.52 &  154.69 &   0.00 & 170 & 1753.45 & 673.12 &  97.09 & 57.32 &  0.00 & 38.35 & 0.00\\\\\n",
       "\\end{tabular}\n"
      ],
      "text/markdown": [
       "\n",
       "A tibble: 5 × 110\n",
       "\n",
       "| YEAR &lt;dbl&gt; | OPERATOR_ID &lt;fct&gt; | CRUDE_AGE_UNKNOWN_MILES &lt;dbl&gt; | CRUDE_AVG_AGE &lt;dbl&gt; | CRUDE_INCIDENTS &lt;dbl&gt; | CRUDE_MILES &lt;dbl&gt; | CRUDE_MILES_1940 &lt;dbl&gt; | CRUDE_MILES_1950 &lt;dbl&gt; | CRUDE_MILES_1960 &lt;dbl&gt; | CRUDE_MILES_1970 &lt;dbl&gt; | ⋯ ⋯ | HVL_MILES_2000_3 &lt;dbl&gt; | HVL_MILES_2010_3 &lt;dbl&gt; | NON_HVL_MILES_1940_3 &lt;dbl&gt; | NON_HVL_MILES_1950_3 &lt;dbl&gt; | NON_HVL_MILES_1960_3 &lt;dbl&gt; | NON_HVL_MILES_1970_3 &lt;dbl&gt; | NON_HVL_MILES_1980_3 &lt;dbl&gt; | NON_HVL_MILES_1990_3 &lt;dbl&gt; | NON_HVL_MILES_2000_3 &lt;dbl&gt; | NON_HVL_MILES_2010_3 &lt;dbl&gt; |\n",
       "|---|---|---|---|---|---|---|---|---|---|---|---|---|---|---|---|---|---|---|---|---|\n",
       "| 2015 | 26049           | 0 | 31.3655 | 1 | 2.2 | 45.8 | 8.8 | 0 | 27.2 | ⋯ |    0.00 |   0.00 |   0 |  151.30 |   0.20 |   0.00 | 52.70 |  0.20 |  1.40 | 0.60 |\n",
       "| 2011 | ONEOK (Group)   | 0 |  0.0000 | 0 | 0.0 |  0.0 | 0.0 | 0 |  0.0 | ⋯ | 4705.96 | 183.28 |   0 |  443.19 | 326.37 | 116.70 | 71.94 | 29.19 |  0.26 | 0.45 |\n",
       "| 2005 | 4805            | 0 |  0.0000 | 0 | 0.0 |  0.0 | 0.0 | 0 |  0.0 | ⋯ |      NA |     NA |  NA |      NA |     NA |     NA |    NA |    NA |    NA |   NA |\n",
       "| 2006 | 25146           | 0 |  0.0000 | 0 | 0.0 |  0.0 | 0.0 | 0 |  0.0 | ⋯ |    9.10 |   0.00 |   0 |    0.00 |   0.00 |   0.00 |  0.00 |  0.00 |  0.00 | 0.00 |\n",
       "| 2011 | Chevron (Group) | 0 |  0.0000 | 0 | 0.0 |  0.0 | 0.0 | 0 |  0.0 | ⋯ |  154.69 |   0.00 | 170 | 1753.45 | 673.12 |  97.09 | 57.32 |  0.00 | 38.35 | 0.00 |\n",
       "\n"
      ],
      "text/plain": [
       "  YEAR OPERATOR_ID     CRUDE_AGE_UNKNOWN_MILES CRUDE_AVG_AGE CRUDE_INCIDENTS\n",
       "1 2015 26049           0                       31.3655       1              \n",
       "2 2011 ONEOK (Group)   0                        0.0000       0              \n",
       "3 2005 4805            0                        0.0000       0              \n",
       "4 2006 25146           0                        0.0000       0              \n",
       "5 2011 Chevron (Group) 0                        0.0000       0              \n",
       "  CRUDE_MILES CRUDE_MILES_1940 CRUDE_MILES_1950 CRUDE_MILES_1960\n",
       "1 2.2         45.8             8.8              0               \n",
       "2 0.0          0.0             0.0              0               \n",
       "3 0.0          0.0             0.0              0               \n",
       "4 0.0          0.0             0.0              0               \n",
       "5 0.0          0.0             0.0              0               \n",
       "  CRUDE_MILES_1970 ⋯ HVL_MILES_2000_3 HVL_MILES_2010_3 NON_HVL_MILES_1940_3\n",
       "1 27.2             ⋯    0.00            0.00             0                 \n",
       "2  0.0             ⋯ 4705.96          183.28             0                 \n",
       "3  0.0             ⋯      NA              NA            NA                 \n",
       "4  0.0             ⋯    9.10            0.00             0                 \n",
       "5  0.0             ⋯  154.69            0.00           170                 \n",
       "  NON_HVL_MILES_1950_3 NON_HVL_MILES_1960_3 NON_HVL_MILES_1970_3\n",
       "1  151.30                0.20                 0.00              \n",
       "2  443.19              326.37               116.70              \n",
       "3      NA                  NA                   NA              \n",
       "4    0.00                0.00                 0.00              \n",
       "5 1753.45              673.12                97.09              \n",
       "  NON_HVL_MILES_1980_3 NON_HVL_MILES_1990_3 NON_HVL_MILES_2000_3\n",
       "1 52.70                 0.20                 1.40               \n",
       "2 71.94                29.19                 0.26               \n",
       "3    NA                   NA                   NA               \n",
       "4  0.00                 0.00                 0.00               \n",
       "5 57.32                 0.00                38.35               \n",
       "  NON_HVL_MILES_2010_3\n",
       "1 0.60                \n",
       "2 0.45                \n",
       "3   NA                \n",
       "4 0.00                \n",
       "5 0.00                "
      ]
     },
     "metadata": {},
     "output_type": "display_data"
    }
   ],
   "source": [
    "sample <- feather::read_feather(sample_file)\n",
    "sample_n(sample, 5)"
   ]
  },
  {
   "cell_type": "code",
   "execution_count": 5,
   "metadata": {
    "slideshow": {
     "slide_type": "subslide"
    }
   },
   "outputs": [
    {
     "data": {
      "text/html": [
       "<table>\n",
       "<caption>A tibble: 5 × 85</caption>\n",
       "<thead>\n",
       "\t<tr><th scope=col>DATAFILE_AS_OF</th><th scope=col>Year</th><th scope=col>REPORT_NUMBER</th><th scope=col>SUPPLEMENTAL_NUMBER</th><th scope=col>ID</th><th scope=col>Name</th><th scope=col>PARTA4STREET</th><th scope=col>PARTA4CITY</th><th scope=col>PARTA4STATE</th><th scope=col>PARTA4ZIP</th><th scope=col>⋯</th><th scope=col>PARTE2010HF</th><th scope=col>PARTE2010LF</th><th scope=col>PARTE2010TOTAL</th><th scope=col>PARTETOTAL</th><th scope=col>PARTETOTALHF</th><th scope=col>PARTETOTALLF</th><th scope=col>REPORT_SUBMISSION_TYPE</th><th scope=col>REPORT_DATE</th><th scope=col>FILING_DATE</th><th scope=col>FORM_REV</th></tr>\n",
       "\t<tr><th scope=col>&lt;dttm&gt;</th><th scope=col>&lt;dbl&gt;</th><th scope=col>&lt;dbl&gt;</th><th scope=col>&lt;dbl&gt;</th><th scope=col>&lt;dbl&gt;</th><th scope=col>&lt;chr&gt;</th><th scope=col>&lt;chr&gt;</th><th scope=col>&lt;chr&gt;</th><th scope=col>&lt;chr&gt;</th><th scope=col>&lt;chr&gt;</th><th scope=col>⋯</th><th scope=col>&lt;dbl&gt;</th><th scope=col>&lt;dbl&gt;</th><th scope=col>&lt;dbl&gt;</th><th scope=col>&lt;dbl&gt;</th><th scope=col>&lt;dbl&gt;</th><th scope=col>&lt;dbl&gt;</th><th scope=col>&lt;chr&gt;</th><th scope=col>&lt;dttm&gt;</th><th scope=col>&lt;dttm&gt;</th><th scope=col>&lt;chr&gt;</th></tr>\n",
       "</thead>\n",
       "<tbody>\n",
       "\t<tr><td>2019-12-02 04:43:41</td><td>2011</td><td>20120304</td><td>12435</td><td>26085</td><td>Plains Marketing     </td><td>333 Clay Street, Suite 1600</td><td>CUSHING </td><td>TX</td><td>77002     </td><td>⋯</td><td>  0.00</td><td>0</td><td>  0.00</td><td>  90.54</td><td>  90.54</td><td>   0.00</td><td>SUPPLEMENTAL</td><td>2012-06-14 11:20:23</td><td>2013-08-08 10:59:43</td><td>7000-1.1 (Rev. 06-2011)</td></tr>\n",
       "\t<tr><td>2019-12-02 05:24:44</td><td>2017</td><td>20183341</td><td>15868</td><td>39566</td><td>Lucid Energy Delaware</td><td>3100 MCKINNON ST. SUITE 800</td><td>DALLAS  </td><td>TX</td><td>75201     </td><td>⋯</td><td> 27.60</td><td>0</td><td> 27.60</td><td>  27.60</td><td>  27.60</td><td>   0.00</td><td>INITIAL     </td><td>2018-06-12 10:59:52</td><td>2018-06-12 10:59:52</td><td>7000-1.1 (Rev. 06-2014)</td></tr>\n",
       "\t<tr><td>2019-12-02 05:12:02</td><td>2016</td><td>20172781</td><td>15159</td><td>30544</td><td>Occidental Chemical  </td><td>5005 LBJ FREEWAY STE 2200  </td><td>Dallas  </td><td>TX</td><td>75244-6119</td><td>⋯</td><td>  0.00</td><td>0</td><td>  0.00</td><td>   0.00</td><td>   0.00</td><td>   0.00</td><td>INITIAL     </td><td>2017-06-14 11:16:26</td><td>2017-06-14 11:16:26</td><td>7000-1.1 (Rev. 06-2014)</td></tr>\n",
       "\t<tr><td>2019-12-02 05:02:31</td><td>2014</td><td>20151639</td><td>13789</td><td> 2731</td><td>Chevron Pipe Line    </td><td>4800 FOURNACE PLACE RM C388</td><td>BELLAIRE</td><td>TX</td><td>77401-2324</td><td>⋯</td><td>  1.60</td><td>0</td><td>  1.60</td><td> 143.70</td><td>  61.50</td><td>  82.20</td><td>INITIAL     </td><td>2015-06-15 16:58:27</td><td>2015-06-15 16:58:27</td><td>7000-1.1 (Rev. 06-2014)</td></tr>\n",
       "\t<tr><td>2019-12-02 04:54:18</td><td>2013</td><td>20141053</td><td>13113</td><td>32109</td><td>Oneok Ngl Pipeline   </td><td>100 WEST FIFTH STREET      </td><td>TULSA   </td><td>OK</td><td>74102     </td><td>⋯</td><td>911.77</td><td>0</td><td>911.77</td><td>7201.52</td><td>6110.13</td><td>1091.39</td><td>SUPPLEMENTAL</td><td>2014-06-15 21:56:42</td><td>2014-06-17 13:22:07</td><td>7000-1.1 (Rev. 06-2011)</td></tr>\n",
       "</tbody>\n",
       "</table>\n"
      ],
      "text/latex": [
       "A tibble: 5 × 85\n",
       "\\begin{tabular}{r|lllllllllllllllllllllllllllllllllllllllllllllllllllllllllllllllllllllllllllllllllllll}\n",
       " DATAFILE\\_AS\\_OF & Year & REPORT\\_NUMBER & SUPPLEMENTAL\\_NUMBER & ID & Name & PARTA4STREET & PARTA4CITY & PARTA4STATE & PARTA4ZIP & PARTA4COUNTRY & PARTA5COMMODITY & PARTA7INTER & PARTA7INTRA & PARTBHCAOFFSHORE & PARTBHCAONSHORE & PARTBHCATOTAL & PARTCOFFCO2 & PARTCOFFCRUDE & PARTCOFFETHANOL & PARTCOFFHVL & PARTCOFFRPP & PARTCONCO2 & PARTCONCRUDE & PARTCONETHANOL & PARTCONHVL & PARTCONRPP & PARTDONCPB & PARTDONCPC & PARTDONCUB & PARTDONCUC & PARTDONCUP & PARTDONCUO & PARTDONTOTAL & PARTDOFFCPB & PARTDOFFCPC & PARTDOFFCUB & PARTDOFFCUC & PARTDOFFCUP & PARTDOFFCUO & PARTDOFFTOTAL & PARTDCPBTOTAL & PARTDCPCTOTAL & PARTDCUBTOTAL & PARTDCUCTOTAL & PARTDCUPTOTAL & PARTDCUOTOTAL & PARTDTOTALMILES & PARTEUNKNHF & PARTEUNKNLF & PARTEUNKNTOTAL & PARTEPRE40HF & PARTEPRE40LF & PARTEPRE40TOTAL & PARTE1940HF & PARTE1940LF & PARTE1940TOTAL & PARTE1950HF & PARTE1950LF & PARTE1950TOTAL & PARTE1960HF & PARTE1960LF & PARTE1960TOTAL & PARTE1970HF & PARTE1970LF & PARTE1970TOTAL & PARTE1980HF & PARTE1980LF & PARTE1980TOTAL & PARTE1990HF & PARTE1990LF & PARTE1990TOTAL & PARTE2000HF & PARTE2000LF & PARTE2000TOTAL & PARTE2010HF & PARTE2010LF & PARTE2010TOTAL & PARTETOTAL & PARTETOTALHF & PARTETOTALLF & REPORT\\_SUBMISSION\\_TYPE & REPORT\\_DATE & FILING\\_DATE & FORM\\_REV\\\\\n",
       " <dttm> & <dbl> & <dbl> & <dbl> & <dbl> & <chr> & <chr> & <chr> & <chr> & <chr> & <chr> & <chr> & <chr> & <chr> & <dbl> & <dbl> & <dbl> & <dbl> & <dbl> & <dbl> & <dbl> & <dbl> & <dbl> & <dbl> & <dbl> & <dbl> & <dbl> & <dbl> & <dbl> & <dbl> & <dbl> & <dbl> & <dbl> & <dbl> & <dbl> & <dbl> & <dbl> & <dbl> & <dbl> & <dbl> & <dbl> & <dbl> & <dbl> & <dbl> & <dbl> & <dbl> & <dbl> & <dbl> & <dbl> & <dbl> & <dbl> & <dbl> & <dbl> & <dbl> & <dbl> & <dbl> & <dbl> & <dbl> & <dbl> & <dbl> & <dbl> & <dbl> & <dbl> & <dbl> & <dbl> & <dbl> & <dbl> & <dbl> & <dbl> & <dbl> & <dbl> & <dbl> & <dbl> & <dbl> & <dbl> & <dbl> & <dbl> & <dbl> & <dbl> & <dbl> & <dbl> & <chr> & <dttm> & <dttm> & <chr>\\\\\n",
       "\\hline\n",
       "\t 2019-12-02 04:43:41 & 2011 & 20120304 & 12435 & 26085 & Plains Marketing      & 333 Clay Street, Suite 1600 & CUSHING  & TX & 77002      & nan & HVL       & nan                                                                                              & ARIZONA, OKLAHOMA, SOUTH CAROLINA &  NA &  131.060 &  131.060 & NA &         NA & NA & NA & NA & NA &         NA & NA &    224192397 & NA &  0.000 &  200.71 & 0 & 0 & 0 & 0 &  200.710 & 0 &   0.0 & 0 & 0 & 0 & 0 &   0.0 &  0.000 &  200.71 & 0 & 0 & 0 & 0 &  200.710 & 0 &   0.00 &   0.00 & 0 & 0 & 0 & 0 &  0.0 &  0.0 & 0 &   0.00 &   0.00 &   0.00 &   0.00 &    0.0 &   87.60 &  0.00 &   87.60 &    0.09 & 0 &    0.09 &    2.85 & 0 &    2.85 &   0.00 & 0 &   0.00 &   0.00 & 0 &   0.00 &   90.54 &   90.54 &    0.00 & SUPPLEMENTAL & 2012-06-14 11:20:23 & 2013-08-08 10:59:43 & 7000-1.1 (Rev. 06-2011)\\\\\n",
       "\t 2019-12-02 05:24:44 & 2017 & 20183341 & 15868 & 39566 & Lucid Energy Delaware & 3100 MCKINNON ST. SUITE 800 & DALLAS   & TX & 75201      & nan & HVL       & nan                                                                                              & NEW MEXICO                        &  NA &    0.000 &    0.000 & NA &         NA & NA & NA & NA &  0 &          0 &  0 &      5131209 &  0 &  0.000 &   27.60 & 0 & 0 & 0 & 0 &   27.600 & 0 &   0.0 & 0 & 0 & 0 & 0 &   0.0 &  0.000 &   27.60 & 0 & 0 & 0 & 0 &   27.600 & 0 &   0.00 &   0.00 & 0 & 0 & 0 & 0 &  0.0 &  0.0 & 0 &   0.00 &   0.00 &   0.00 &   0.00 &    0.0 &    0.00 &  0.00 &    0.00 &    0.00 & 0 &    0.00 &    0.00 & 0 &    0.00 &   0.00 & 0 &   0.00 &  27.60 & 0 &  27.60 &   27.60 &   27.60 &    0.00 & INITIAL      & 2018-06-12 10:59:52 & 2018-06-12 10:59:52 & 7000-1.1 (Rev. 06-2014)\\\\\n",
       "\t 2019-12-02 05:12:02 & 2016 & 20172781 & 15159 & 30544 & Occidental Chemical   & 5005 LBJ FREEWAY STE 2200   & Dallas   & TX & 75244-6119 & nan & HVL       & nan                                                                                              & TEXAS                             &  NA &    2.942 &    2.942 & NA &         NA & NA & NA & NA & NA &         NA & NA &            0 & NA & 41.946 &    0.00 & 0 & 0 & 0 & 0 &   41.946 & 0 &   0.0 & 0 & 0 & 0 & 0 &   0.0 & 41.946 &    0.00 & 0 & 0 & 0 & 0 &   41.946 & 0 &   0.00 &   0.00 & 0 & 0 & 0 & 0 &  0.0 &  0.0 & 0 &   0.00 &   0.00 &   0.00 &   0.00 &    0.0 &    0.00 &  0.00 &    0.00 &    0.00 & 0 &    0.00 &    0.00 & 0 &    0.00 &   0.00 & 0 &   0.00 &   0.00 & 0 &   0.00 &    0.00 &    0.00 &    0.00 & INITIAL      & 2017-06-14 11:16:26 & 2017-06-14 11:16:26 & 7000-1.1 (Rev. 06-2014)\\\\\n",
       "\t 2019-12-02 05:02:31 & 2014 & 20151639 & 13789 &  2731 & Chevron Pipe Line     & 4800 FOURNACE PLACE RM C388 & BELLAIRE & TX & 77401-2324 & nan & Crude Oil & COLORADO, LOUISIANA, MISSISSIPPI, UTAH                                                           & CALIFORNIA                        & 7.8 &  376.300 &  384.100 &  0 & 2849849388 &  0 &  0 &  0 &  0 & 5218654698 &  0 &            0 &  0 &  0.000 & 1134.90 & 0 & 0 & 0 & 0 & 1134.900 & 0 & 273.4 & 0 & 0 & 0 & 0 & 273.4 &  0.000 & 1408.30 & 0 & 0 & 0 & 0 & 1408.300 & 0 &   0.00 &   0.00 & 0 & 0 & 0 & 0 & 29.5 & 29.5 & 0 &  12.70 &  12.70 &   1.60 &  40.00 &   41.6 &    2.40 &  0.00 &    2.40 &    0.00 & 0 &    0.00 &   15.20 & 0 &   15.20 &  40.70 & 0 &  40.70 &   1.60 & 0 &   1.60 &  143.70 &   61.50 &   82.20 & INITIAL      & 2015-06-15 16:58:27 & 2015-06-15 16:58:27 & 7000-1.1 (Rev. 06-2014)\\\\\n",
       "\t 2019-12-02 04:54:18 & 2013 & 20141053 & 13113 & 32109 & Oneok Ngl Pipeline    & 100 WEST FIFTH STREET       & TULSA    & OK & 74102      & nan & HVL       & COLORADO, ILLINOIS, INDIANA, IOWA, KANSAS, MISSOURI, MONTANA, NEBRASKA, OKLAHOMA, TEXAS, WYOMING & KANSAS, OKLAHOMA, TEXAS           &  NA & 2980.230 & 2980.230 & NA &         NA & NA & NA & NA &  0 &          0 &  0 & 104772671202 &  0 &  0.000 & 7214.19 & 0 & 0 & 0 & 0 & 7214.190 & 0 &   0.0 & 0 & 0 & 0 & 0 &   0.0 &  0.000 & 7214.19 & 0 & 0 & 0 & 0 & 7214.190 & 0 & 113.04 & 113.04 & 0 & 0 & 0 & 0 &  0.0 &  0.0 & 0 & 297.56 & 297.56 & 667.87 & 615.63 & 1283.5 & 1206.76 & 65.16 & 1271.92 & 1250.34 & 0 & 1250.34 & 1192.37 & 0 & 1192.37 & 881.02 & 0 & 881.02 & 911.77 & 0 & 911.77 & 7201.52 & 6110.13 & 1091.39 & SUPPLEMENTAL & 2014-06-15 21:56:42 & 2014-06-17 13:22:07 & 7000-1.1 (Rev. 06-2011)\\\\\n",
       "\\end{tabular}\n"
      ],
      "text/markdown": [
       "\n",
       "A tibble: 5 × 85\n",
       "\n",
       "| DATAFILE_AS_OF &lt;dttm&gt; | Year &lt;dbl&gt; | REPORT_NUMBER &lt;dbl&gt; | SUPPLEMENTAL_NUMBER &lt;dbl&gt; | ID &lt;dbl&gt; | Name &lt;chr&gt; | PARTA4STREET &lt;chr&gt; | PARTA4CITY &lt;chr&gt; | PARTA4STATE &lt;chr&gt; | PARTA4ZIP &lt;chr&gt; | ⋯ ⋯ | PARTE2010HF &lt;dbl&gt; | PARTE2010LF &lt;dbl&gt; | PARTE2010TOTAL &lt;dbl&gt; | PARTETOTAL &lt;dbl&gt; | PARTETOTALHF &lt;dbl&gt; | PARTETOTALLF &lt;dbl&gt; | REPORT_SUBMISSION_TYPE &lt;chr&gt; | REPORT_DATE &lt;dttm&gt; | FILING_DATE &lt;dttm&gt; | FORM_REV &lt;chr&gt; |\n",
       "|---|---|---|---|---|---|---|---|---|---|---|---|---|---|---|---|---|---|---|---|---|\n",
       "| 2019-12-02 04:43:41 | 2011 | 20120304 | 12435 | 26085 | Plains Marketing      | 333 Clay Street, Suite 1600 | CUSHING  | TX | 77002      | ⋯ |   0.00 | 0 |   0.00 |   90.54 |   90.54 |    0.00 | SUPPLEMENTAL | 2012-06-14 11:20:23 | 2013-08-08 10:59:43 | 7000-1.1 (Rev. 06-2011) |\n",
       "| 2019-12-02 05:24:44 | 2017 | 20183341 | 15868 | 39566 | Lucid Energy Delaware | 3100 MCKINNON ST. SUITE 800 | DALLAS   | TX | 75201      | ⋯ |  27.60 | 0 |  27.60 |   27.60 |   27.60 |    0.00 | INITIAL      | 2018-06-12 10:59:52 | 2018-06-12 10:59:52 | 7000-1.1 (Rev. 06-2014) |\n",
       "| 2019-12-02 05:12:02 | 2016 | 20172781 | 15159 | 30544 | Occidental Chemical   | 5005 LBJ FREEWAY STE 2200   | Dallas   | TX | 75244-6119 | ⋯ |   0.00 | 0 |   0.00 |    0.00 |    0.00 |    0.00 | INITIAL      | 2017-06-14 11:16:26 | 2017-06-14 11:16:26 | 7000-1.1 (Rev. 06-2014) |\n",
       "| 2019-12-02 05:02:31 | 2014 | 20151639 | 13789 |  2731 | Chevron Pipe Line     | 4800 FOURNACE PLACE RM C388 | BELLAIRE | TX | 77401-2324 | ⋯ |   1.60 | 0 |   1.60 |  143.70 |   61.50 |   82.20 | INITIAL      | 2015-06-15 16:58:27 | 2015-06-15 16:58:27 | 7000-1.1 (Rev. 06-2014) |\n",
       "| 2019-12-02 04:54:18 | 2013 | 20141053 | 13113 | 32109 | Oneok Ngl Pipeline    | 100 WEST FIFTH STREET       | TULSA    | OK | 74102      | ⋯ | 911.77 | 0 | 911.77 | 7201.52 | 6110.13 | 1091.39 | SUPPLEMENTAL | 2014-06-15 21:56:42 | 2014-06-17 13:22:07 | 7000-1.1 (Rev. 06-2011) |\n",
       "\n"
      ],
      "text/plain": [
       "  DATAFILE_AS_OF      Year REPORT_NUMBER SUPPLEMENTAL_NUMBER ID   \n",
       "1 2019-12-02 04:43:41 2011 20120304      12435               26085\n",
       "2 2019-12-02 05:24:44 2017 20183341      15868               39566\n",
       "3 2019-12-02 05:12:02 2016 20172781      15159               30544\n",
       "4 2019-12-02 05:02:31 2014 20151639      13789                2731\n",
       "5 2019-12-02 04:54:18 2013 20141053      13113               32109\n",
       "  Name                  PARTA4STREET                PARTA4CITY PARTA4STATE\n",
       "1 Plains Marketing      333 Clay Street, Suite 1600 CUSHING    TX         \n",
       "2 Lucid Energy Delaware 3100 MCKINNON ST. SUITE 800 DALLAS     TX         \n",
       "3 Occidental Chemical   5005 LBJ FREEWAY STE 2200   Dallas     TX         \n",
       "4 Chevron Pipe Line     4800 FOURNACE PLACE RM C388 BELLAIRE   TX         \n",
       "5 Oneok Ngl Pipeline    100 WEST FIFTH STREET       TULSA      OK         \n",
       "  PARTA4ZIP  ⋯ PARTE2010HF PARTE2010LF PARTE2010TOTAL PARTETOTAL PARTETOTALHF\n",
       "1 77002      ⋯   0.00      0             0.00           90.54      90.54     \n",
       "2 75201      ⋯  27.60      0            27.60           27.60      27.60     \n",
       "3 75244-6119 ⋯   0.00      0             0.00            0.00       0.00     \n",
       "4 77401-2324 ⋯   1.60      0             1.60          143.70      61.50     \n",
       "5 74102      ⋯ 911.77      0           911.77         7201.52    6110.13     \n",
       "  PARTETOTALLF REPORT_SUBMISSION_TYPE REPORT_DATE         FILING_DATE        \n",
       "1    0.00      SUPPLEMENTAL           2012-06-14 11:20:23 2013-08-08 10:59:43\n",
       "2    0.00      INITIAL                2018-06-12 10:59:52 2018-06-12 10:59:52\n",
       "3    0.00      INITIAL                2017-06-14 11:16:26 2017-06-14 11:16:26\n",
       "4   82.20      INITIAL                2015-06-15 16:58:27 2015-06-15 16:58:27\n",
       "5 1091.39      SUPPLEMENTAL           2014-06-15 21:56:42 2014-06-17 13:22:07\n",
       "  FORM_REV               \n",
       "1 7000-1.1 (Rev. 06-2011)\n",
       "2 7000-1.1 (Rev. 06-2014)\n",
       "3 7000-1.1 (Rev. 06-2014)\n",
       "4 7000-1.1 (Rev. 06-2014)\n",
       "5 7000-1.1 (Rev. 06-2011)"
      ]
     },
     "metadata": {},
     "output_type": "display_data"
    }
   ],
   "source": [
    "data(pipelines_2010)\n",
    "sample_n(pipelines_2010, 5)"
   ]
  },
  {
   "cell_type": "markdown",
   "metadata": {
    "slideshow": {
     "slide_type": "slide"
    }
   },
   "source": [
    "## Add missing names"
   ]
  },
  {
   "cell_type": "code",
   "execution_count": 6,
   "metadata": {
    "slideshow": {
     "slide_type": "subslide"
    }
   },
   "outputs": [
    {
     "data": {
      "text/html": [
       "<table>\n",
       "<caption>A tibble: 6 × 111</caption>\n",
       "<thead>\n",
       "\t<tr><th scope=col>YEAR</th><th scope=col>OPERATOR_ID</th><th scope=col>CRUDE_AGE_UNKNOWN_MILES</th><th scope=col>CRUDE_AVG_AGE</th><th scope=col>CRUDE_INCIDENTS</th><th scope=col>CRUDE_MILES</th><th scope=col>CRUDE_MILES_1940</th><th scope=col>CRUDE_MILES_1950</th><th scope=col>CRUDE_MILES_1960</th><th scope=col>CRUDE_MILES_1970</th><th scope=col>⋯</th><th scope=col>HVL_MILES_2010_3</th><th scope=col>NON_HVL_MILES_1940_3</th><th scope=col>NON_HVL_MILES_1950_3</th><th scope=col>NON_HVL_MILES_1960_3</th><th scope=col>NON_HVL_MILES_1970_3</th><th scope=col>NON_HVL_MILES_1980_3</th><th scope=col>NON_HVL_MILES_1990_3</th><th scope=col>NON_HVL_MILES_2000_3</th><th scope=col>NON_HVL_MILES_2010_3</th><th scope=col>Name</th></tr>\n",
       "\t<tr><th scope=col>&lt;dbl&gt;</th><th scope=col>&lt;fct&gt;</th><th scope=col>&lt;dbl&gt;</th><th scope=col>&lt;dbl&gt;</th><th scope=col>&lt;dbl&gt;</th><th scope=col>&lt;dbl&gt;</th><th scope=col>&lt;dbl&gt;</th><th scope=col>&lt;dbl&gt;</th><th scope=col>&lt;dbl&gt;</th><th scope=col>&lt;dbl&gt;</th><th scope=col>⋯</th><th scope=col>&lt;dbl&gt;</th><th scope=col>&lt;dbl&gt;</th><th scope=col>&lt;dbl&gt;</th><th scope=col>&lt;dbl&gt;</th><th scope=col>&lt;dbl&gt;</th><th scope=col>&lt;dbl&gt;</th><th scope=col>&lt;dbl&gt;</th><th scope=col>&lt;dbl&gt;</th><th scope=col>&lt;dbl&gt;</th><th scope=col>&lt;fct&gt;</th></tr>\n",
       "</thead>\n",
       "<tbody>\n",
       "\t<tr><td>2015</td><td>1248 </td><td>0</td><td>38.58750</td><td>1</td><td> 64.000</td><td> 0</td><td>  0.000</td><td>359.000</td><td>149.00</td><td>⋯</td><td> 0.00</td><td> 0.00</td><td> 0.000</td><td>147.000</td><td>  0.000</td><td>   0.000</td><td>  80.00</td><td>  0.000</td><td>  0.000</td><td>Belle Fourche Pipeline         </td></tr>\n",
       "\t<tr><td>2015</td><td>14194</td><td>0</td><td> 0.00000</td><td>0</td><td>  0.000</td><td> 0</td><td>  0.000</td><td>  0.000</td><td>  0.00</td><td>⋯</td><td> 0.00</td><td> 0.00</td><td> 0.000</td><td>  0.000</td><td>  0.000</td><td>   0.000</td><td>  16.74</td><td> 28.940</td><td>  0.000</td><td>Oiltanking, Houston            </td></tr>\n",
       "\t<tr><td>2015</td><td>15156</td><td>0</td><td>38.54918</td><td>0</td><td>211.000</td><td>79</td><td> 10.000</td><td>168.000</td><td>113.00</td><td>⋯</td><td> 0.00</td><td>49.00</td><td>12.000</td><td>600.000</td><td>179.000</td><td>   3.000</td><td> 138.00</td><td>188.000</td><td>114.000</td><td>Sinclair Transportation Company</td></tr>\n",
       "\t<tr><td>2015</td><td>19319</td><td>0</td><td> 0.00000</td><td>0</td><td>  0.000</td><td> 0</td><td>  0.000</td><td>  0.000</td><td>  0.00</td><td>⋯</td><td> 0.00</td><td> 0.00</td><td> 0.000</td><td>  0.000</td><td>  0.000</td><td>   0.000</td><td>   0.00</td><td>  0.000</td><td>  0.000</td><td>Tpc Group                      </td></tr>\n",
       "\t<tr><td>2015</td><td>22430</td><td>0</td><td>59.68541</td><td>0</td><td>  3.582</td><td> 0</td><td>  3.554</td><td>  0.023</td><td>  0.00</td><td>⋯</td><td> 0.00</td><td> 0.00</td><td>63.152</td><td>755.763</td><td>150.046</td><td>   9.894</td><td>   9.74</td><td>  0.672</td><td>  0.983</td><td>West Shore Pipeline            </td></tr>\n",
       "\t<tr><td>2015</td><td>22855</td><td>0</td><td>29.24262</td><td>1</td><td>798.900</td><td> 0</td><td>213.880</td><td>  0.000</td><td>264.61</td><td>⋯</td><td>36.53</td><td> 5.59</td><td> 0.630</td><td> 29.790</td><td>  4.260</td><td>2478.960</td><td>1096.80</td><td> 13.740</td><td>  2.530</td><td>Flint Hills Resources, Lc      </td></tr>\n",
       "</tbody>\n",
       "</table>\n"
      ],
      "text/latex": [
       "A tibble: 6 × 111\n",
       "\\begin{tabular}{r|lllllllllllllllllllllllllllllllllllllllllllllllllllllllllllllllllllllllllllllllllllllllllllllllllllllllllllllll}\n",
       " YEAR & OPERATOR\\_ID & CRUDE\\_AGE\\_UNKNOWN\\_MILES & CRUDE\\_AVG\\_AGE & CRUDE\\_INCIDENTS & CRUDE\\_MILES & CRUDE\\_MILES\\_1940 & CRUDE\\_MILES\\_1950 & CRUDE\\_MILES\\_1960 & CRUDE\\_MILES\\_1970 & CRUDE\\_MILES\\_1980 & CRUDE\\_MILES\\_1990 & CRUDE\\_MILES\\_2000 & CRUDE\\_MILES\\_2010 & CRUDE\\_SIGNIFICANT\\_INCIDENTS & HVL\\_AGE\\_UNKNOWN\\_MILES & HVL\\_AVG\\_AGE & HVL\\_INCIDENTS & HVL\\_MILES & HVL\\_MILES\\_1940 & HVL\\_MILES\\_1950 & HVL\\_MILES\\_1960 & HVL\\_MILES\\_1970 & HVL\\_MILES\\_1980 & HVL\\_MILES\\_1990 & HVL\\_MILES\\_2000 & HVL\\_MILES\\_2010 & HVL\\_SIGNIFICANT\\_INCIDENTS & NON\\_HVL\\_AGE\\_UNKNOWN\\_MILES & NON\\_HVL\\_AVG\\_AGE & NON\\_HVL\\_INCIDENTS & NON\\_HVL\\_MILES & NON\\_HVL\\_MILES\\_1940 & NON\\_HVL\\_MILES\\_1950 & NON\\_HVL\\_MILES\\_1960 & NON\\_HVL\\_MILES\\_1970 & NON\\_HVL\\_MILES\\_1980 & NON\\_HVL\\_MILES\\_1990 & NON\\_HVL\\_MILES\\_2000 & NON\\_HVL\\_MILES\\_2010 & NON\\_HVL\\_SIGNIFICANT\\_INCIDENTS & SIGNIFICANT\\_INCIDENTS & ADDED & REMOVED & TOTAL\\_MILES & ADDED\\_PERC & REMOVED\\_PERC & CHANGE\\_TOTAL & CHANGE\\_PERC & MEAN\\_CHANGE\\_3 & CHANGE\\_SD & CHANGE\\_SD\\_SQ & CHANGE\\_EXP & INC\\_3 & INC\\_4 & INC\\_5 & DISC\\_ADDED & DISC\\_ADDED\\_ALT & DISC\\_ADDED\\_ALT2 & REMOVED\\_ADJ & CONSOLIDATE & CRUDE\\_MILES\\_3 & HVL\\_MILES\\_3 & NON\\_HVL\\_MILES\\_3 & CRUDE\\_AVG\\_AGE\\_3 & HVL\\_AVG\\_AGE\\_3 & NON\\_HVL\\_AVG\\_AGE\\_3 & NO\\_CRUDE & NO\\_HVL & NO\\_NON\\_HVL & M\\_A & M\\_A\\_1 & M\\_A\\_2 & M\\_A\\_3 & M\\_A\\_past\\_3 & ADDED\\_1 & ADDED\\_2 & ADDED\\_3 & MEAN\\_ADDED\\_3 & SD\\_ADDED\\_3 & SD\\_ADDED\\_3\\_EXP & SD\\_ADDED\\_3\\_EXP\\_SQ & SDxADDED & CRUDExAGE & HVLxAGE & NON\\_HVLxAGE & CRUDE\\_MILES\\_1940\\_3 & CRUDE\\_MILES\\_1950\\_3 & CRUDE\\_MILES\\_1960\\_3 & CRUDE\\_MILES\\_1970\\_3 & CRUDE\\_MILES\\_1980\\_3 & CRUDE\\_MILES\\_1990\\_3 & CRUDE\\_MILES\\_2000\\_3 & CRUDE\\_MILES\\_2010\\_3 & HVL\\_MILES\\_1940\\_3 & HVL\\_MILES\\_1950\\_3 & HVL\\_MILES\\_1960\\_3 & HVL\\_MILES\\_1970\\_3 & HVL\\_MILES\\_1980\\_3 & HVL\\_MILES\\_1990\\_3 & HVL\\_MILES\\_2000\\_3 & HVL\\_MILES\\_2010\\_3 & NON\\_HVL\\_MILES\\_1940\\_3 & NON\\_HVL\\_MILES\\_1950\\_3 & NON\\_HVL\\_MILES\\_1960\\_3 & NON\\_HVL\\_MILES\\_1970\\_3 & NON\\_HVL\\_MILES\\_1980\\_3 & NON\\_HVL\\_MILES\\_1990\\_3 & NON\\_HVL\\_MILES\\_2000\\_3 & NON\\_HVL\\_MILES\\_2010\\_3 & Name\\\\\n",
       " <dbl> & <fct> & <dbl> & <dbl> & <dbl> & <dbl> & <dbl> & <dbl> & <dbl> & <dbl> & <dbl> & <dbl> & <dbl> & <dbl> & <dbl> & <dbl> & <dbl> & <dbl> & <dbl> & <dbl> & <dbl> & <dbl> & <dbl> & <dbl> & <dbl> & <dbl> & <dbl> & <dbl> & <dbl> & <dbl> & <dbl> & <dbl> & <dbl> & <dbl> & <dbl> & <dbl> & <dbl> & <dbl> & <dbl> & <dbl> & <dbl> & <dbl> & <dbl> & <dbl> & <dbl> & <dbl> & <dbl> & <dbl> & <dbl> & <dbl> & <dbl> & <dbl> & <dbl> & <dbl> & <dbl> & <dbl> & <dbl> & <dbl> & <dbl> & <dbl> & <dbl> & <dbl> & <dbl> & <dbl> & <dbl> & <dbl> & <dbl> & <lgl> & <lgl> & <lgl> & <lgl> & <lgl> & <lgl> & <lgl> & <lgl> & <dbl> & <dbl> & <dbl> & <dbl> & <dbl> & <dbl> & <dbl> & <dbl> & <dbl> & <dbl> & <dbl> & <dbl> & <dbl> & <dbl> & <dbl> & <dbl> & <dbl> & <dbl> & <dbl> & <dbl> & <dbl> & <dbl> & <dbl> & <dbl> & <dbl> & <dbl> & <dbl> & <dbl> & <dbl> & <dbl> & <dbl> & <dbl> & <dbl> & <dbl> & <dbl> & <fct>\\\\\n",
       "\\hline\n",
       "\t 2015 & 1248  & 0 & 38.58750 & 1 &  64.000 &  0 &   0.000 & 359.000 & 149.00 &  63.00 & 18.00 &  35.00 &  63.000 & 1 & 0 &  0.00000 & 0 &   0.00 & 0.00 & 0.00 &   0.00 &   0.0 &   0.00 &  0.0 & 0.00 &  0.00 & 0 & 0 & 39.336929 & 0 &   0.000 &  0.00 &  0.00 &  49.00 &  0.000 &   0.000 &  27.000 &   0.000 & 0.000 & 0 & 1 & 0.000 &   -1.000 &  763.000 & 0.000000000 &  -0.001283697 &   -1.000 & -0.001308901 &  0.001313481 & 4.912316e-04 & 2.413085e-07 & 1.000491 &  3 &  4 &  8 & NA & NA & NA &  0.001283697 & NA &  332.000 &    0.00 &    0.000 & NA & NA & NA & FALSE &  TRUE &  TRUE & FALSE & FALSE & FALSE & FALSE & FALSE & 0.000000000 & NA & NA & NA & NA & NA & NA & NA & NA & NA & NA &   0 &   0.000 & 924.000 & 486.00 &  185.00 &  59.00 &  99.00 & 122.000 & 0.00 & 0.00 &   0.00 &   0.0 &   0.00 &   0.00 &  0.00 &  0.00 &  0.00 &  0.000 & 147.000 &   0.000 &    0.000 &   80.00 &   0.000 &   0.000 & Belle Fourche Pipeline         \\\\\n",
       "\t 2015 & 14194 & 0 &  0.00000 & 0 &   0.000 &  0 &   0.000 &   0.000 &   0.00 &   0.00 &  0.00 &   0.00 &   0.000 & 0 & 0 &  0.00000 & 0 &   0.00 & 0.00 & 0.00 &   0.00 &   0.0 &   0.00 &  0.0 & 0.00 &  0.00 & 0 & 0 &  9.978678 & 0 &   4.680 &  0.00 &  0.00 &   0.00 &  0.000 &   0.000 &   0.000 &   4.680 & 0.000 & 0 & 0 & 0.000 &    0.000 &    4.680 & 0.000000000 &   0.000000000 &    0.000 &  0.000000000 &  0.000000000 & 0.000000e+00 & 0.000000e+00 & 1.000000 &  0 &  0 &  0 & NA & NA & NA &  0.000000000 & NA &   40.620 &    0.00 &   45.680 & NA & NA & NA & FALSE &  TRUE & FALSE & FALSE & FALSE & FALSE & FALSE & FALSE & 0.000000000 & NA & NA & NA & NA & NA & NA & NA & NA & NA & NA &   0 &   0.000 &   0.000 &  29.16 &    7.26 &   0.00 &   4.20 &   0.000 & 0.00 & 0.00 &   0.00 &   0.0 &   0.00 &   0.00 &  0.00 &  0.00 &  0.00 &  0.000 &   0.000 &   0.000 &    0.000 &   16.74 &  28.940 &   0.000 & Oiltanking, Houston            \\\\\n",
       "\t 2015 & 15156 & 0 & 38.54918 & 0 & 211.000 & 79 &  10.000 & 168.000 & 113.00 &   0.00 & 15.00 & 112.00 &  34.000 & 0 & 0 &  0.00000 & 0 &   0.00 & 0.00 & 0.00 &   0.00 &   0.0 &   0.00 &  0.0 & 0.00 &  0.00 & 0 & 0 & 35.855048 & 1 & 353.000 & 24.00 &  0.00 & 200.00 & 56.000 &   0.000 &  45.000 & 110.000 & 9.000 & 1 & 1 & 0.000 &  -14.000 &  975.000 & 0.000000000 &  -0.015005359 &  -14.000 & -0.014155713 & -0.011391911 & 1.235392e-04 & 1.526193e-08 & 1.000124 &  4 &  5 &  5 & NA & NA & NA &  0.015005359 & NA &  559.000 &    0.00 & 1032.000 & NA & NA & NA & FALSE &  TRUE & FALSE & FALSE & FALSE & FALSE & FALSE & FALSE & 0.000000000 & NA & NA & NA & NA & NA & NA & NA & NA & NA & NA & 151 &  10.000 & 518.000 & 341.00 &    0.00 &  49.00 & 342.00 &  66.000 & 0.00 & 0.00 &   0.00 &   0.0 &   0.00 &   0.00 &  0.00 &  0.00 & 49.00 & 12.000 & 600.000 & 179.000 &    3.000 &  138.00 & 188.000 & 114.000 & Sinclair Transportation Company\\\\\n",
       "\t 2015 & 19319 & 0 &  0.00000 & 0 &   0.000 &  0 &   0.000 &   0.000 &   0.00 &   0.00 &  0.00 &   0.00 &   0.000 & 0 & 0 & 37.14286 & 0 & 112.65 & 1.72 & 0.00 &   0.30 &   0.0 &   0.00 &  3.5 & 0.00 &  0.00 & 0 & 0 &  0.000000 & 0 &  18.352 &  0.00 &  0.00 &   0.00 &  0.000 &   0.000 &   0.000 &   0.000 & 0.000 & 0 & 0 & 0.889 & -111.938 &    5.520 & 0.161050725 & -20.278623188 & -111.049 & -0.952646072 & -0.306478762 & 3.086159e-01 & 9.524379e-02 & 1.361539 &  0 &  0 &  0 & NA & NA & NA & 20.117572464 & NA &    0.000 &  343.02 &   55.444 & NA & NA & NA &  TRUE & FALSE & FALSE & FALSE & FALSE & FALSE & FALSE & FALSE & 0.161050725 & NA & NA & NA & NA & NA & NA & NA & NA & NA & NA &   0 &   0.000 &   0.000 &   0.00 &    0.00 &   0.00 &   0.00 &   0.000 & 5.16 & 0.00 &   0.90 &   0.0 &   0.00 &  10.50 &  0.00 &  0.00 &  0.00 &  0.000 &   0.000 &   0.000 &    0.000 &    0.00 &   0.000 &   0.000 & Tpc Group                      \\\\\n",
       "\t 2015 & 22430 & 0 & 59.68541 & 0 &   3.582 &  0 &   3.554 &   0.023 &   0.00 &   0.00 &  0.00 &   0.00 &   0.005 & 0 & 0 &  0.00000 & 0 &   0.00 & 0.00 & 0.00 &   0.00 &   0.0 &   0.00 &  0.0 & 0.00 &  0.00 & 0 & 0 & 48.033227 & 1 & 402.507 &  0.00 & 21.00 & 251.51 & 69.334 &   3.298 &   3.247 &   0.224 & 0.614 & 1 & 1 & 0.000 &    0.000 &  352.809 & 0.000000000 &   0.000000000 &    0.000 &  0.000000000 &  0.008993248 & 9.101417e-05 & 8.283579e-09 & 1.000091 &  1 &  3 &  5 & NA & NA & NA &  0.000000000 & NA &   10.746 &    0.00 & 1213.692 & NA & NA & NA & FALSE &  TRUE & FALSE & FALSE & FALSE & FALSE & FALSE & FALSE & 0.000000000 & NA & NA & NA & NA & NA & NA & NA & NA & NA & NA &   0 &  10.662 &   0.069 &   0.00 &    0.00 &   0.00 &   0.00 &   0.015 & 0.00 & 0.00 &   0.00 &   0.0 &   0.00 &   0.00 &  0.00 &  0.00 &  0.00 & 63.152 & 755.763 & 150.046 &    9.894 &    9.74 &   0.672 &   0.983 & West Shore Pipeline            \\\\\n",
       "\t 2015 & 22855 & 0 & 29.24262 & 1 & 798.900 &  0 & 213.880 &   0.000 & 264.61 & 767.67 & 76.43 & 316.71 & 109.610 & 1 & 0 & 34.58563 & 2 & 411.09 & 1.98 & 0.87 & 185.63 & 107.6 & 312.24 & 51.5 & 7.31 & 33.92 & 0 & 0 & 27.115301 & 1 & 675.200 &  2.01 &  0.21 &   9.93 &  1.420 & 826.740 & 367.640 &   4.580 & 1.070 & 1 & 2 & 9.740 &  -43.020 & 3663.560 & 0.002692467 &  -0.011892191 &  -33.280 & -0.009002283 & -0.004161891 & 3.835045e-05 & 1.470757e-09 & 1.000038 & 10 & 12 & 12 & NA & NA & NA &  0.009199724 & NA & 2962.620 & 1121.86 & 2464.780 & NA & NA & NA & FALSE & FALSE & FALSE & FALSE & FALSE & FALSE & FALSE & FALSE & 0.002692467 & NA & NA & NA & NA & NA & NA & NA & NA & NA & NA &   0 & 638.300 &   0.000 & 793.35 & 2480.33 & 229.91 & 949.37 & 305.290 & 5.94 & 2.61 & 546.93 & 322.8 & 988.26 & 114.24 & 21.93 & 36.53 &  5.59 &  0.630 &  29.790 &   4.260 & 2478.960 & 1096.80 &  13.740 &   2.530 & Flint Hills Resources, Lc      \\\\\n",
       "\\end{tabular}\n"
      ],
      "text/markdown": [
       "\n",
       "A tibble: 6 × 111\n",
       "\n",
       "| YEAR &lt;dbl&gt; | OPERATOR_ID &lt;fct&gt; | CRUDE_AGE_UNKNOWN_MILES &lt;dbl&gt; | CRUDE_AVG_AGE &lt;dbl&gt; | CRUDE_INCIDENTS &lt;dbl&gt; | CRUDE_MILES &lt;dbl&gt; | CRUDE_MILES_1940 &lt;dbl&gt; | CRUDE_MILES_1950 &lt;dbl&gt; | CRUDE_MILES_1960 &lt;dbl&gt; | CRUDE_MILES_1970 &lt;dbl&gt; | ⋯ ⋯ | HVL_MILES_2010_3 &lt;dbl&gt; | NON_HVL_MILES_1940_3 &lt;dbl&gt; | NON_HVL_MILES_1950_3 &lt;dbl&gt; | NON_HVL_MILES_1960_3 &lt;dbl&gt; | NON_HVL_MILES_1970_3 &lt;dbl&gt; | NON_HVL_MILES_1980_3 &lt;dbl&gt; | NON_HVL_MILES_1990_3 &lt;dbl&gt; | NON_HVL_MILES_2000_3 &lt;dbl&gt; | NON_HVL_MILES_2010_3 &lt;dbl&gt; | Name &lt;fct&gt; |\n",
       "|---|---|---|---|---|---|---|---|---|---|---|---|---|---|---|---|---|---|---|---|---|\n",
       "| 2015 | 1248  | 0 | 38.58750 | 1 |  64.000 |  0 |   0.000 | 359.000 | 149.00 | ⋯ |  0.00 |  0.00 |  0.000 | 147.000 |   0.000 |    0.000 |   80.00 |   0.000 |   0.000 | Belle Fourche Pipeline          |\n",
       "| 2015 | 14194 | 0 |  0.00000 | 0 |   0.000 |  0 |   0.000 |   0.000 |   0.00 | ⋯ |  0.00 |  0.00 |  0.000 |   0.000 |   0.000 |    0.000 |   16.74 |  28.940 |   0.000 | Oiltanking, Houston             |\n",
       "| 2015 | 15156 | 0 | 38.54918 | 0 | 211.000 | 79 |  10.000 | 168.000 | 113.00 | ⋯ |  0.00 | 49.00 | 12.000 | 600.000 | 179.000 |    3.000 |  138.00 | 188.000 | 114.000 | Sinclair Transportation Company |\n",
       "| 2015 | 19319 | 0 |  0.00000 | 0 |   0.000 |  0 |   0.000 |   0.000 |   0.00 | ⋯ |  0.00 |  0.00 |  0.000 |   0.000 |   0.000 |    0.000 |    0.00 |   0.000 |   0.000 | Tpc Group                       |\n",
       "| 2015 | 22430 | 0 | 59.68541 | 0 |   3.582 |  0 |   3.554 |   0.023 |   0.00 | ⋯ |  0.00 |  0.00 | 63.152 | 755.763 | 150.046 |    9.894 |    9.74 |   0.672 |   0.983 | West Shore Pipeline             |\n",
       "| 2015 | 22855 | 0 | 29.24262 | 1 | 798.900 |  0 | 213.880 |   0.000 | 264.61 | ⋯ | 36.53 |  5.59 |  0.630 |  29.790 |   4.260 | 2478.960 | 1096.80 |  13.740 |   2.530 | Flint Hills Resources, Lc       |\n",
       "\n"
      ],
      "text/plain": [
       "  YEAR OPERATOR_ID CRUDE_AGE_UNKNOWN_MILES CRUDE_AVG_AGE CRUDE_INCIDENTS\n",
       "1 2015 1248        0                       38.58750      1              \n",
       "2 2015 14194       0                        0.00000      0              \n",
       "3 2015 15156       0                       38.54918      0              \n",
       "4 2015 19319       0                        0.00000      0              \n",
       "5 2015 22430       0                       59.68541      0              \n",
       "6 2015 22855       0                       29.24262      1              \n",
       "  CRUDE_MILES CRUDE_MILES_1940 CRUDE_MILES_1950 CRUDE_MILES_1960\n",
       "1  64.000      0                 0.000          359.000         \n",
       "2   0.000      0                 0.000            0.000         \n",
       "3 211.000     79                10.000          168.000         \n",
       "4   0.000      0                 0.000            0.000         \n",
       "5   3.582      0                 3.554            0.023         \n",
       "6 798.900      0               213.880            0.000         \n",
       "  CRUDE_MILES_1970 ⋯ HVL_MILES_2010_3 NON_HVL_MILES_1940_3 NON_HVL_MILES_1950_3\n",
       "1 149.00           ⋯  0.00             0.00                 0.000              \n",
       "2   0.00           ⋯  0.00             0.00                 0.000              \n",
       "3 113.00           ⋯  0.00            49.00                12.000              \n",
       "4   0.00           ⋯  0.00             0.00                 0.000              \n",
       "5   0.00           ⋯  0.00             0.00                63.152              \n",
       "6 264.61           ⋯ 36.53             5.59                 0.630              \n",
       "  NON_HVL_MILES_1960_3 NON_HVL_MILES_1970_3 NON_HVL_MILES_1980_3\n",
       "1 147.000                0.000                 0.000            \n",
       "2   0.000                0.000                 0.000            \n",
       "3 600.000              179.000                 3.000            \n",
       "4   0.000                0.000                 0.000            \n",
       "5 755.763              150.046                 9.894            \n",
       "6  29.790                4.260              2478.960            \n",
       "  NON_HVL_MILES_1990_3 NON_HVL_MILES_2000_3 NON_HVL_MILES_2010_3\n",
       "1   80.00                0.000                0.000             \n",
       "2   16.74               28.940                0.000             \n",
       "3  138.00              188.000              114.000             \n",
       "4    0.00                0.000                0.000             \n",
       "5    9.74                0.672                0.983             \n",
       "6 1096.80               13.740                2.530             \n",
       "  Name                           \n",
       "1 Belle Fourche Pipeline         \n",
       "2 Oiltanking, Houston            \n",
       "3 Sinclair Transportation Company\n",
       "4 Tpc Group                      \n",
       "5 West Shore Pipeline            \n",
       "6 Flint Hills Resources, Lc      "
      ]
     },
     "metadata": {},
     "output_type": "display_data"
    }
   ],
   "source": [
    "sample$Name <- oildata::add_company_names(sample$OPERATOR_ID)\n",
    "head(sample)"
   ]
  },
  {
   "cell_type": "markdown",
   "metadata": {
    "slideshow": {
     "slide_type": "slide"
    }
   },
   "source": [
    "## Grab largest companies"
   ]
  },
  {
   "cell_type": "markdown",
   "metadata": {
    "slideshow": {
     "slide_type": "subslide"
    }
   },
   "source": [
    "### Largest operators by total miles"
   ]
  },
  {
   "cell_type": "code",
   "execution_count": 7,
   "metadata": {},
   "outputs": [
    {
     "data": {
      "text/html": [
       "<table class=\"table\" style=\"font-size: 16px; margin-left: auto; margin-right: auto;\">\n",
       " <thead>\n",
       "  <tr>\n",
       "   <th style=\"text-align:left;\"> Name </th>\n",
       "   <th style=\"text-align:right;\"> TOTAL_MILES </th>\n",
       "  </tr>\n",
       " </thead>\n",
       "<tbody>\n",
       "  <tr>\n",
       "   <td style=\"text-align:left;\"> Enterprise Products Operating </td>\n",
       "   <td style=\"text-align:right;\"> 13401.76 </td>\n",
       "  </tr>\n",
       "  <tr>\n",
       "   <td style=\"text-align:left;\"> ONEOK (Group) </td>\n",
       "   <td style=\"text-align:right;\"> 10784.50 </td>\n",
       "  </tr>\n",
       "  <tr>\n",
       "   <td style=\"text-align:left;\"> Phillips 66 (Group) </td>\n",
       "   <td style=\"text-align:right;\"> 10356.00 </td>\n",
       "  </tr>\n",
       "  <tr>\n",
       "   <td style=\"text-align:left;\"> Magellan (Group) </td>\n",
       "   <td style=\"text-align:right;\"> 9162.00 </td>\n",
       "  </tr>\n",
       "  <tr>\n",
       "   <td style=\"text-align:left;\"> Kinder Morgan (Group) </td>\n",
       "   <td style=\"text-align:right;\"> 7976.34 </td>\n",
       "  </tr>\n",
       "  <tr>\n",
       "   <td style=\"text-align:left;\"> NuStar (Group) </td>\n",
       "   <td style=\"text-align:right;\"> 7228.80 </td>\n",
       "  </tr>\n",
       "</tbody>\n",
       "</table>"
      ]
     },
     "metadata": {},
     "output_type": "display_data"
    }
   ],
   "source": [
    "largest_companies <- sample %>%\n",
    "    group_by(Name) %>%\n",
    "    filter(TOTAL_MILES == max(TOTAL_MILES)) %>%\n",
    "    ungroup() %>%\n",
    "    mutate(Name = fct_reorder(Name, TOTAL_MILES)) %>%\n",
    "    arrange(desc(TOTAL_MILES)) %>%\n",
    "    select(Name, TOTAL_MILES)\n",
    "\n",
    "head(largest_companies) %>%\n",
    "    jupyter_styling(font_size = 16)"
   ]
  },
  {
   "cell_type": "code",
   "execution_count": 8,
   "metadata": {
    "slideshow": {
     "slide_type": "subslide"
    }
   },
   "outputs": [
    {
     "data": {
      "image/png": "[encoded data removed]",
      "text/plain": [
       "plot without title"
      ]
     },
     "metadata": {},
     "output_type": "display_data"
    }
   ],
   "source": [
    "largest_companies %>%\n",
    "    top_n(50, TOTAL_MILES) %>%\n",
    "    ggplot(aes(x = TOTAL_MILES, y = Name)) +\n",
    "        geom_point()"
   ]
  },
  {
   "cell_type": "markdown",
   "metadata": {},
   "source": [
    "## Information from the dataset"
   ]
  },
  {
   "cell_type": "markdown",
   "metadata": {},
   "source": [
    "### Product mix - pipelines types"
   ]
  },
  {
   "cell_type": "markdown",
   "metadata": {
    "slideshow": {
     "slide_type": "skip"
    }
   },
   "source": [
    "### Save slides*"
   ]
  },
  {
   "cell_type": "markdown",
   "metadata": {
    "slideshow": {
     "slide_type": "skip"
    }
   },
   "source": [
    "* Run after saving!"
   ]
  },
  {
   "cell_type": "code",
   "execution_count": 10,
   "metadata": {
    "slideshow": {
     "slide_type": "skip"
    }
   },
   "outputs": [],
   "source": [
    "system(\"jupyter nbconvert explore_data_variance.ipynb --to slides\")"
   ]
  }
 ],
 "metadata": {
  "jupytext": {
   "formats": "ipynb,Rmd"
  },
  "kernelspec": {
   "display_name": "R 3.6.1",
   "language": "R",
   "name": "ir361"
  },
  "language_info": {
   "codemirror_mode": "r",
   "file_extension": ".r",
   "mimetype": "text/x-r-source",
   "name": "R",
   "pygments_lexer": "r",
   "version": "3.6.1"
  }
 },
 "nbformat": 4,
 "nbformat_minor": 4
}
