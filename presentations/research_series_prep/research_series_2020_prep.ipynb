{
 "cells": [
  {
   "cell_type": "markdown",
   "metadata": {
    "slideshow": {
     "slide_type": "slide"
    }
   },
   "source": [
    "# Prep Ivey PhD Research Series"
   ]
  },
  {
   "cell_type": "markdown",
   "metadata": {},
   "source": [
    "### Julian Barg, 2020-02-11"
   ]
  },
  {
   "cell_type": "markdown",
   "metadata": {
    "slideshow": {
     "slide_type": "slide"
    }
   },
   "source": [
    "## Setup"
   ]
  },
  {
   "cell_type": "code",
   "execution_count": 1,
   "metadata": {
    "slideshow": {
     "slide_type": "subslide"
    }
   },
   "outputs": [
    {
     "name": "stderr",
     "output_type": "stream",
     "text": [
      "── \u001b[1mAttaching packages\u001b[22m ─────────────── tidyverse 1.3.0 ──\n",
      "\u001b[32m✔\u001b[39m \u001b[34mggplot2\u001b[39m 3.2.1     \u001b[32m✔\u001b[39m \u001b[34mpurrr  \u001b[39m 0.3.3\n",
      "\u001b[32m✔\u001b[39m \u001b[34mtibble \u001b[39m 2.1.3     \u001b[32m✔\u001b[39m \u001b[34mdplyr  \u001b[39m 0.8.3\n",
      "\u001b[32m✔\u001b[39m \u001b[34mtidyr  \u001b[39m 1.0.0     \u001b[32m✔\u001b[39m \u001b[34mstringr\u001b[39m 1.4.0\n",
      "\u001b[32m✔\u001b[39m \u001b[34mreadr  \u001b[39m 1.3.1     \u001b[32m✔\u001b[39m \u001b[34mforcats\u001b[39m 0.4.0\n",
      "── \u001b[1mConflicts\u001b[22m ────────────────── tidyverse_conflicts() ──\n",
      "\u001b[31m✖\u001b[39m \u001b[34mdplyr\u001b[39m::\u001b[32mfilter()\u001b[39m masks \u001b[34mstats\u001b[39m::filter()\n",
      "\u001b[31m✖\u001b[39m \u001b[34mdplyr\u001b[39m::\u001b[32mlag()\u001b[39m    masks \u001b[34mstats\u001b[39m::lag()\n"
     ]
    }
   ],
   "source": [
    "library(tidyverse)"
   ]
  },
  {
   "cell_type": "code",
   "execution_count": 2,
   "metadata": {},
   "outputs": [],
   "source": [
    "library(oildata)"
   ]
  },
  {
   "cell_type": "code",
   "execution_count": 3,
   "metadata": {
    "slideshow": {
     "slide_type": "subslide"
    }
   },
   "outputs": [
    {
     "data": {
      "text/html": [
       "<table>\n",
       "<caption>A tibble: 6 × 85</caption>\n",
       "<thead>\n",
       "\t<tr><th scope=col>DATAFILE_AS_OF</th><th scope=col>year</th><th scope=col>REPORT_NUMBER</th><th scope=col>SUPPLEMENTAL_NUMBER</th><th scope=col>ID</th><th scope=col>name</th><th scope=col>PARTA4STREET</th><th scope=col>PARTA4CITY</th><th scope=col>PARTA4STATE</th><th scope=col>PARTA4ZIP</th><th scope=col>⋯</th><th scope=col>PARTE2010HF</th><th scope=col>PARTE2010LF</th><th scope=col>PARTE2010TOTAL</th><th scope=col>PARTETOTAL</th><th scope=col>PARTETOTALHF</th><th scope=col>PARTETOTALLF</th><th scope=col>REPORT_SUBMISSION_TYPE</th><th scope=col>REPORT_DATE</th><th scope=col>FILING_DATE</th><th scope=col>FORM_REV</th></tr>\n",
       "\t<tr><th scope=col>&lt;dttm&gt;</th><th scope=col>&lt;dbl&gt;</th><th scope=col>&lt;dbl&gt;</th><th scope=col>&lt;dbl&gt;</th><th scope=col>&lt;dbl&gt;</th><th scope=col>&lt;chr&gt;</th><th scope=col>&lt;chr&gt;</th><th scope=col>&lt;chr&gt;</th><th scope=col>&lt;chr&gt;</th><th scope=col>&lt;chr&gt;</th><th scope=col>⋯</th><th scope=col>&lt;dbl&gt;</th><th scope=col>&lt;dbl&gt;</th><th scope=col>&lt;dbl&gt;</th><th scope=col>&lt;dbl&gt;</th><th scope=col>&lt;dbl&gt;</th><th scope=col>&lt;dbl&gt;</th><th scope=col>&lt;chr&gt;</th><th scope=col>&lt;dttm&gt;</th><th scope=col>&lt;dttm&gt;</th><th scope=col>&lt;chr&gt;</th></tr>\n",
       "</thead>\n",
       "<tbody>\n",
       "\t<tr><td>2019-12-02 05:24:44</td><td>2017</td><td>20183395</td><td>16429</td><td>300</td><td>Plains Pipeline                </td><td>333 CLAY STREET, SUITE 1600                        </td><td>HOUSTON      </td><td>TX</td><td>77002</td><td>⋯</td><td>3107.93</td><td>0</td><td>3107.93</td><td>6207.50</td><td>4396.35</td><td>1811.15</td><td>SUPPLEMENTAL</td><td>2018-06-13 07:30:58</td><td>2019-04-09 09:25:41</td><td>7000-1.1 (Rev. 06-2014)</td></tr>\n",
       "\t<tr><td>2019-12-02 05:24:44</td><td>2017</td><td>20183396</td><td>15929</td><td>300</td><td>Plains Pipeline                </td><td>333 CLAY STREET, SUITE 1600                        </td><td>HOUSTON      </td><td>TX</td><td>77002</td><td>⋯</td><td>  47.92</td><td>0</td><td>  47.92</td><td>  47.93</td><td>  47.93</td><td>   0.00</td><td>INITIAL     </td><td>2018-06-13 07:34:52</td><td>2018-06-13 07:34:52</td><td>7000-1.1 (Rev. 06-2014)</td></tr>\n",
       "\t<tr><td>2019-12-02 05:24:44</td><td>2017</td><td>20183397</td><td>15930</td><td>300</td><td>Plains Pipeline                </td><td>333 CLAY STREET, SUITE 1600                        </td><td>HOUSTON      </td><td>TX</td><td>77002</td><td>⋯</td><td>   0.00</td><td>0</td><td>   0.00</td><td>   3.72</td><td>   3.72</td><td>   0.00</td><td>INITIAL     </td><td>2018-06-13 07:36:19</td><td>2018-06-13 07:36:19</td><td>7000-1.1 (Rev. 06-2014)</td></tr>\n",
       "\t<tr><td>2019-12-02 05:24:44</td><td>2017</td><td>20183032</td><td>15515</td><td>395</td><td>Amoco Oil                      </td><td>30 S. WACKER DRIVE                                 </td><td>CHICAGO      </td><td>IL</td><td>60606</td><td>⋯</td><td>   0.70</td><td>0</td><td>   0.70</td><td> 100.50</td><td>  83.10</td><td>  17.40</td><td>INITIAL     </td><td>2018-03-06 03:54:44</td><td>2018-03-06 03:54:44</td><td>7000-1.1 (Rev. 06-2014)</td></tr>\n",
       "\t<tr><td>2019-12-02 05:24:44</td><td>2017</td><td>20183332</td><td>15859</td><td>402</td><td>Markwest East Texas Png Utility</td><td>1515 Arapahoe Street TOWER 1, SUITE 1600           </td><td>Denver       </td><td>CO</td><td>80202</td><td>⋯</td><td>   0.00</td><td>0</td><td>   0.00</td><td>  49.30</td><td>  49.30</td><td>   0.00</td><td>INITIAL     </td><td>2018-06-12 09:14:02</td><td>2018-06-12 09:14:02</td><td>7000-1.1 (Rev. 06-2014)</td></tr>\n",
       "\t<tr><td>2019-12-02 05:24:44</td><td>2017</td><td>20183457</td><td>15992</td><td>473</td><td>Anadarko Petroleum             </td><td>1201 LAKE ROBBINS DR. POB 1330, HOUSTON, 77251-1330</td><td>THE WOODLANDS</td><td>TX</td><td>77380</td><td>⋯</td><td> 121.25</td><td>0</td><td> 121.25</td><td> 168.25</td><td> 121.25</td><td>  47.00</td><td>INITIAL     </td><td>2018-06-14 06:47:22</td><td>2018-06-14 06:47:22</td><td>7000-1.1 (Rev. 06-2014)</td></tr>\n",
       "</tbody>\n",
       "</table>\n"
      ],
      "text/latex": [
       "A tibble: 6 × 85\n",
       "\\begin{tabular}{r|lllllllllllllllllllllllllllllllllllllllllllllllllllllllllllllllllllllllllllllllllllll}\n",
       " DATAFILE\\_AS\\_OF & year & REPORT\\_NUMBER & SUPPLEMENTAL\\_NUMBER & ID & name & PARTA4STREET & PARTA4CITY & PARTA4STATE & PARTA4ZIP & PARTA4COUNTRY & commodity & PARTA7INTER & PARTA7INTRA & hca\\_offshore & hca\\_onshore & hca\\_total & PARTCOFFCO2 & PARTCOFFCRUDE & PARTCOFFETHANOL & PARTCOFFHVL & PARTCOFFRPP & PARTCONCO2 & PARTCONCRUDE & PARTCONETHANOL & PARTCONHVL & PARTCONRPP & PARTDONCPB & PARTDONCPC & PARTDONCUB & PARTDONCUC & PARTDONCUP & PARTDONCUO & total\\_onshore & PARTDOFFCPB & PARTDOFFCPC & PARTDOFFCUB & PARTDOFFCUC & PARTDOFFCUP & PARTDOFFCUO & total\\_offshore & PARTDCPBTOTAL & PARTDCPCTOTAL & PARTDCUBTOTAL & PARTDCUCTOTAL & PARTDCUPTOTAL & PARTDCUOTOTAL & total\\_miles & PARTEUNKNHF & PARTEUNKNLF & PARTEUNKNTOTAL & PARTEPRE40HF & PARTEPRE40LF & PARTEPRE40TOTAL & PARTE1940HF & PARTE1940LF & PARTE1940TOTAL & PARTE1950HF & PARTE1950LF & PARTE1950TOTAL & PARTE1960HF & PARTE1960LF & PARTE1960TOTAL & PARTE1970HF & PARTE1970LF & PARTE1970TOTAL & PARTE1980HF & PARTE1980LF & PARTE1980TOTAL & PARTE1990HF & PARTE1990LF & PARTE1990TOTAL & PARTE2000HF & PARTE2000LF & PARTE2000TOTAL & PARTE2010HF & PARTE2010LF & PARTE2010TOTAL & PARTETOTAL & PARTETOTALHF & PARTETOTALLF & REPORT\\_SUBMISSION\\_TYPE & REPORT\\_DATE & FILING\\_DATE & FORM\\_REV\\\\\n",
       " <dttm> & <dbl> & <dbl> & <dbl> & <dbl> & <chr> & <chr> & <chr> & <chr> & <chr> & <chr> & <chr> & <chr> & <chr> & <dbl> & <dbl> & <dbl> & <dbl> & <dbl> & <dbl> & <dbl> & <dbl> & <dbl> & <dbl> & <dbl> & <dbl> & <dbl> & <dbl> & <dbl> & <dbl> & <dbl> & <dbl> & <dbl> & <dbl> & <dbl> & <dbl> & <dbl> & <dbl> & <dbl> & <dbl> & <dbl> & <dbl> & <dbl> & <dbl> & <dbl> & <dbl> & <dbl> & <dbl> & <dbl> & <dbl> & <dbl> & <dbl> & <dbl> & <dbl> & <dbl> & <dbl> & <dbl> & <dbl> & <dbl> & <dbl> & <dbl> & <dbl> & <dbl> & <dbl> & <dbl> & <dbl> & <dbl> & <dbl> & <dbl> & <dbl> & <dbl> & <dbl> & <dbl> & <dbl> & <dbl> & <dbl> & <dbl> & <dbl> & <dbl> & <dbl> & <dbl> & <chr> & <dttm> & <dttm> & <chr>\\\\\n",
       "\\hline\n",
       "\t 2019-12-02 05:24:44 & 2017 & 20183395 & 16429 & 300 & Plains Pipeline                 & 333 CLAY STREET, SUITE 1600                         & HOUSTON       & TX & 77002 & NA & crude   & ALABAMA, ARKANSAS, CALIFORNIA, COLORADO, ILLINOIS, KANSAS, LOUISIANA, MISSISSIPPI, MONTANA, NEW MEXICO, NORTH DAKOTA, OKLAHOMA, TENNESSEE, TEXAS, UTAH, WYOMING & ALABAMA, CALIFORNIA, COLORADO, KANSAS, LOUISIANA, MISSISSIPPI, MONTANA, NEW MEXICO, NORTH DAKOTA, OKLAHOMA, TEXAS, WYOMING & NA & 2101.06 & 2101.06 & NA & NA & NA & NA & NA &  0 & 219060253757 &  0 &         0 &           0 & 245.43 & 7484.37 & 0 & 0 & 0 & 1747.67 & 9477.47 & 0 & 0 & 0 & 0 & 0 & 0 & 0 & 245.43 & 7484.37 & 0 & 0 & 0 & 1747.67 & 9477.47 & 0 & 0 & 0 & 0.27 & 57.18 & 57.45 & 0 & 739.3 & 739.3 & 0.12 & 356.59 & 356.71 & 0 & 647.64 & 647.64 & 263.5 & 6.77 & 270.27 & 89.55 & 3.56 & 93.11 & 486.20 & 0.11 & 486.31 & 448.78 & 0 & 448.78 & 3107.93 & 0 & 3107.93 & 6207.50 & 4396.35 & 1811.15 & SUPPLEMENTAL & 2018-06-13 07:30:58 & 2019-04-09 09:25:41 & 7000-1.1 (Rev. 06-2014)\\\\\n",
       "\t 2019-12-02 05:24:44 & 2017 & 20183396 & 15929 & 300 & Plains Pipeline                 & 333 CLAY STREET, SUITE 1600                         & HOUSTON       & TX & 77002 & NA & hvl     & MICHIGAN                                                                                                                                                        & CALIFORNIA, TEXAS                                                                                                          & NA &   72.90 &   72.90 & NA & NA & NA & NA & NA &  0 &            0 &  0 & 140604358 &           0 &   0.00 &  106.42 & 0 & 0 & 0 &    1.04 &  107.46 & 0 & 0 & 0 & 0 & 0 & 0 & 0 &   0.00 &  106.42 & 0 & 0 & 0 &    1.04 &  107.46 & 0 & 0 & 0 & 0.00 &  0.00 &  0.00 & 0 &   0.0 &   0.0 & 0.00 &   0.00 &   0.00 & 0 &   0.00 &   0.00 &   0.0 & 0.00 &   0.00 &  0.00 & 0.00 &  0.00 &   0.01 & 0.00 &   0.01 &   0.00 & 0 &   0.00 &   47.92 & 0 &   47.92 &   47.93 &   47.93 &    0.00 & INITIAL      & 2018-06-13 07:34:52 & 2018-06-13 07:34:52 & 7000-1.1 (Rev. 06-2014)\\\\\n",
       "\t 2019-12-02 05:24:44 & 2017 & 20183397 & 15930 & 300 & Plains Pipeline                 & 333 CLAY STREET, SUITE 1600                         & HOUSTON       & TX & 77002 & NA & non\\_hvl & NA                                                                                                                                                              & CALIFORNIA                                                                                                                 & NA &    0.00 &    0.00 & NA & NA & NA & NA & NA &  0 &            0 &  0 &         0 &           0 &   0.00 &    3.72 & 0 & 0 & 0 &    0.00 &    3.72 & 0 & 0 & 0 & 0 & 0 & 0 & 0 &   0.00 &    3.72 & 0 & 0 & 0 &    0.00 &    3.72 & 0 & 0 & 0 & 3.72 &  0.00 &  3.72 & 0 &   0.0 &   0.0 & 0.00 &   0.00 &   0.00 & 0 &   0.00 &   0.00 &   0.0 & 0.00 &   0.00 &  0.00 & 0.00 &  0.00 &   0.00 & 0.00 &   0.00 &   0.00 & 0 &   0.00 &    0.00 & 0 &    0.00 &    3.72 &    3.72 &    0.00 & INITIAL      & 2018-06-13 07:36:19 & 2018-06-13 07:36:19 & 7000-1.1 (Rev. 06-2014)\\\\\n",
       "\t 2019-12-02 05:24:44 & 2017 & 20183032 & 15515 & 395 & Amoco Oil                       & 30 S. WACKER DRIVE                                  & CHICAGO       & IL & 60606 & NA & non\\_hvl & ILLINOIS, INDIANA, IOWA, MICHIGAN, MINNESOTA, MISSOURI                                                                                                          & NA                                                                                                                         & NA &  662.30 &  662.30 & NA & NA & NA & NA & NA & NA &           NA & NA &        NA & 12263828809 &   0.00 & 1152.20 & 0 & 0 & 0 &    0.00 & 1152.20 & 0 & 0 & 0 & 0 & 0 & 0 & 0 &   0.00 & 1152.20 & 0 & 0 & 0 &    0.00 & 1152.20 & 0 & 0 & 0 & 0.00 &  0.60 &  0.60 & 0 &  15.0 &  15.0 & 0.00 &   0.00 &   0.00 & 0 &   0.90 &   0.90 &   0.6 & 0.90 &   1.50 & 18.50 & 0.00 & 18.50 &  58.20 & 0.00 &  58.20 &   5.10 & 0 &   5.10 &    0.70 & 0 &    0.70 &  100.50 &   83.10 &   17.40 & INITIAL      & 2018-03-06 03:54:44 & 2018-03-06 03:54:44 & 7000-1.1 (Rev. 06-2014)\\\\\n",
       "\t 2019-12-02 05:24:44 & 2017 & 20183332 & 15859 & 402 & Markwest East Texas Png Utility & 1515 Arapahoe Street TOWER 1, SUITE 1600            & Denver        & CO & 80202 & NA & hvl     & NA                                                                                                                                                              & TEXAS                                                                                                                      & NA &    1.55 &    1.55 & NA & NA & NA & NA & NA & NA &           NA & NA & 403354808 &          NA &   0.00 &   49.30 & 0 & 0 & 0 &    0.00 &   49.30 & 0 & 0 & 0 & 0 & 0 & 0 & 0 &   0.00 &   49.30 & 0 & 0 & 0 &    0.00 &   49.30 & 0 & 0 & 0 & 0.00 &  0.00 &  0.00 & 0 &   0.0 &   0.0 & 0.00 &   0.00 &   0.00 & 0 &   0.00 &   0.00 &   0.0 & 0.00 &   0.00 &  0.00 & 0.00 &  0.00 &   0.00 & 0.00 &   0.00 &  49.30 & 0 &  49.30 &    0.00 & 0 &    0.00 &   49.30 &   49.30 &    0.00 & INITIAL      & 2018-06-12 09:14:02 & 2018-06-12 09:14:02 & 7000-1.1 (Rev. 06-2014)\\\\\n",
       "\t 2019-12-02 05:24:44 & 2017 & 20183457 & 15992 & 473 & Anadarko Petroleum              & 1201 LAKE ROBBINS DR. POB 1330, HOUSTON, 77251-1330 & THE WOODLANDS & TX & 77380 & NA & crude   & NA                                                                                                                                                              & COLORADO, TEXAS, WYOMING                                                                                                   & NA &   12.00 &   12.00 & NA & NA & NA & NA & NA &  0 &   3105603202 &  0 &         0 &           0 &   0.00 &  168.25 & 0 & 0 & 0 &    0.00 &  168.25 & 0 & 0 & 0 & 0 & 0 & 0 & 0 &   0.00 &  168.25 & 0 & 0 & 0 &    0.00 &  168.25 & 0 & 0 & 0 & 0.00 &  0.00 &  0.00 & 0 &   0.0 &   0.0 & 0.00 &   0.00 &   0.00 & 0 &  43.00 &  43.00 &   0.0 & 4.00 &   4.00 &  0.00 & 0.00 &  0.00 &   0.00 & 0.00 &   0.00 &   0.00 & 0 &   0.00 &  121.25 & 0 &  121.25 &  168.25 &  121.25 &   47.00 & INITIAL      & 2018-06-14 06:47:22 & 2018-06-14 06:47:22 & 7000-1.1 (Rev. 06-2014)\\\\\n",
       "\\end{tabular}\n"
      ],
      "text/markdown": [
       "\n",
       "A tibble: 6 × 85\n",
       "\n",
       "| DATAFILE_AS_OF &lt;dttm&gt; | year &lt;dbl&gt; | REPORT_NUMBER &lt;dbl&gt; | SUPPLEMENTAL_NUMBER &lt;dbl&gt; | ID &lt;dbl&gt; | name &lt;chr&gt; | PARTA4STREET &lt;chr&gt; | PARTA4CITY &lt;chr&gt; | PARTA4STATE &lt;chr&gt; | PARTA4ZIP &lt;chr&gt; | ⋯ ⋯ | PARTE2010HF &lt;dbl&gt; | PARTE2010LF &lt;dbl&gt; | PARTE2010TOTAL &lt;dbl&gt; | PARTETOTAL &lt;dbl&gt; | PARTETOTALHF &lt;dbl&gt; | PARTETOTALLF &lt;dbl&gt; | REPORT_SUBMISSION_TYPE &lt;chr&gt; | REPORT_DATE &lt;dttm&gt; | FILING_DATE &lt;dttm&gt; | FORM_REV &lt;chr&gt; |\n",
       "|---|---|---|---|---|---|---|---|---|---|---|---|---|---|---|---|---|---|---|---|---|\n",
       "| 2019-12-02 05:24:44 | 2017 | 20183395 | 16429 | 300 | Plains Pipeline                 | 333 CLAY STREET, SUITE 1600                         | HOUSTON       | TX | 77002 | ⋯ | 3107.93 | 0 | 3107.93 | 6207.50 | 4396.35 | 1811.15 | SUPPLEMENTAL | 2018-06-13 07:30:58 | 2019-04-09 09:25:41 | 7000-1.1 (Rev. 06-2014) |\n",
       "| 2019-12-02 05:24:44 | 2017 | 20183396 | 15929 | 300 | Plains Pipeline                 | 333 CLAY STREET, SUITE 1600                         | HOUSTON       | TX | 77002 | ⋯ |   47.92 | 0 |   47.92 |   47.93 |   47.93 |    0.00 | INITIAL      | 2018-06-13 07:34:52 | 2018-06-13 07:34:52 | 7000-1.1 (Rev. 06-2014) |\n",
       "| 2019-12-02 05:24:44 | 2017 | 20183397 | 15930 | 300 | Plains Pipeline                 | 333 CLAY STREET, SUITE 1600                         | HOUSTON       | TX | 77002 | ⋯ |    0.00 | 0 |    0.00 |    3.72 |    3.72 |    0.00 | INITIAL      | 2018-06-13 07:36:19 | 2018-06-13 07:36:19 | 7000-1.1 (Rev. 06-2014) |\n",
       "| 2019-12-02 05:24:44 | 2017 | 20183032 | 15515 | 395 | Amoco Oil                       | 30 S. WACKER DRIVE                                  | CHICAGO       | IL | 60606 | ⋯ |    0.70 | 0 |    0.70 |  100.50 |   83.10 |   17.40 | INITIAL      | 2018-03-06 03:54:44 | 2018-03-06 03:54:44 | 7000-1.1 (Rev. 06-2014) |\n",
       "| 2019-12-02 05:24:44 | 2017 | 20183332 | 15859 | 402 | Markwest East Texas Png Utility | 1515 Arapahoe Street TOWER 1, SUITE 1600            | Denver        | CO | 80202 | ⋯ |    0.00 | 0 |    0.00 |   49.30 |   49.30 |    0.00 | INITIAL      | 2018-06-12 09:14:02 | 2018-06-12 09:14:02 | 7000-1.1 (Rev. 06-2014) |\n",
       "| 2019-12-02 05:24:44 | 2017 | 20183457 | 15992 | 473 | Anadarko Petroleum              | 1201 LAKE ROBBINS DR. POB 1330, HOUSTON, 77251-1330 | THE WOODLANDS | TX | 77380 | ⋯ |  121.25 | 0 |  121.25 |  168.25 |  121.25 |   47.00 | INITIAL      | 2018-06-14 06:47:22 | 2018-06-14 06:47:22 | 7000-1.1 (Rev. 06-2014) |\n",
       "\n"
      ],
      "text/plain": [
       "  DATAFILE_AS_OF      year REPORT_NUMBER SUPPLEMENTAL_NUMBER ID \n",
       "1 2019-12-02 05:24:44 2017 20183395      16429               300\n",
       "2 2019-12-02 05:24:44 2017 20183396      15929               300\n",
       "3 2019-12-02 05:24:44 2017 20183397      15930               300\n",
       "4 2019-12-02 05:24:44 2017 20183032      15515               395\n",
       "5 2019-12-02 05:24:44 2017 20183332      15859               402\n",
       "6 2019-12-02 05:24:44 2017 20183457      15992               473\n",
       "  name                           \n",
       "1 Plains Pipeline                \n",
       "2 Plains Pipeline                \n",
       "3 Plains Pipeline                \n",
       "4 Amoco Oil                      \n",
       "5 Markwest East Texas Png Utility\n",
       "6 Anadarko Petroleum             \n",
       "  PARTA4STREET                                        PARTA4CITY    PARTA4STATE\n",
       "1 333 CLAY STREET, SUITE 1600                         HOUSTON       TX         \n",
       "2 333 CLAY STREET, SUITE 1600                         HOUSTON       TX         \n",
       "3 333 CLAY STREET, SUITE 1600                         HOUSTON       TX         \n",
       "4 30 S. WACKER DRIVE                                  CHICAGO       IL         \n",
       "5 1515 Arapahoe Street TOWER 1, SUITE 1600            Denver        CO         \n",
       "6 1201 LAKE ROBBINS DR. POB 1330, HOUSTON, 77251-1330 THE WOODLANDS TX         \n",
       "  PARTA4ZIP ⋯ PARTE2010HF PARTE2010LF PARTE2010TOTAL PARTETOTAL PARTETOTALHF\n",
       "1 77002     ⋯ 3107.93     0           3107.93        6207.50    4396.35     \n",
       "2 77002     ⋯   47.92     0             47.92          47.93      47.93     \n",
       "3 77002     ⋯    0.00     0              0.00           3.72       3.72     \n",
       "4 60606     ⋯    0.70     0              0.70         100.50      83.10     \n",
       "5 80202     ⋯    0.00     0              0.00          49.30      49.30     \n",
       "6 77380     ⋯  121.25     0            121.25         168.25     121.25     \n",
       "  PARTETOTALLF REPORT_SUBMISSION_TYPE REPORT_DATE         FILING_DATE        \n",
       "1 1811.15      SUPPLEMENTAL           2018-06-13 07:30:58 2019-04-09 09:25:41\n",
       "2    0.00      INITIAL                2018-06-13 07:34:52 2018-06-13 07:34:52\n",
       "3    0.00      INITIAL                2018-06-13 07:36:19 2018-06-13 07:36:19\n",
       "4   17.40      INITIAL                2018-03-06 03:54:44 2018-03-06 03:54:44\n",
       "5    0.00      INITIAL                2018-06-12 09:14:02 2018-06-12 09:14:02\n",
       "6   47.00      INITIAL                2018-06-14 06:47:22 2018-06-14 06:47:22\n",
       "  FORM_REV               \n",
       "1 7000-1.1 (Rev. 06-2014)\n",
       "2 7000-1.1 (Rev. 06-2014)\n",
       "3 7000-1.1 (Rev. 06-2014)\n",
       "4 7000-1.1 (Rev. 06-2014)\n",
       "5 7000-1.1 (Rev. 06-2014)\n",
       "6 7000-1.1 (Rev. 06-2014)"
      ]
     },
     "metadata": {},
     "output_type": "display_data"
    }
   ],
   "source": [
    "head(pipelines_2010)"
   ]
  },
  {
   "cell_type": "code",
   "execution_count": 4,
   "metadata": {
    "slideshow": {
     "slide_type": "subslide"
    }
   },
   "outputs": [
    {
     "data": {
      "text/html": [
       "<table>\n",
       "<caption>A tibble: 6 × 50</caption>\n",
       "<thead>\n",
       "\t<tr><th scope=col>DATAFILE_AS_OF</th><th scope=col>significant</th><th scope=col>serious</th><th scope=col>ipe</th><th scope=col>integrity_assessment_target</th><th scope=col>operations_maintenance_target</th><th scope=col>REPORT_NUMBER</th><th scope=col>SUPPLEMENTAL_NUMBER</th><th scope=col>REPORT_RECEIVED_DATE</th><th scope=col>REPORT_TYPE</th><th scope=col>⋯</th><th scope=col>NUM_CONTR_INJURIES</th><th scope=col>NUM_ER_INJURIES</th><th scope=col>NUM_WORKER_INJURIES</th><th scope=col>NUM_GP_INJURIES</th><th scope=col>INJURE</th><th scope=col>SHUTDOWN_DUE_ACCIDENT_IND</th><th scope=col>SHUTDOWN_EXPLAIN</th><th scope=col>SHUTDOWN_DATETIME</th><th scope=col>RESTART_DATETIME</th><th scope=col>STILL_SHUTDOWN_IND</th></tr>\n",
       "\t<tr><th scope=col>&lt;dttm&gt;</th><th scope=col>&lt;lgl&gt;</th><th scope=col>&lt;lgl&gt;</th><th scope=col>&lt;chr&gt;</th><th scope=col>&lt;chr&gt;</th><th scope=col>&lt;chr&gt;</th><th scope=col>&lt;dbl&gt;</th><th scope=col>&lt;dbl&gt;</th><th scope=col>&lt;dttm&gt;</th><th scope=col>&lt;chr&gt;</th><th scope=col>⋯</th><th scope=col>&lt;dbl&gt;</th><th scope=col>&lt;dbl&gt;</th><th scope=col>&lt;dbl&gt;</th><th scope=col>&lt;dbl&gt;</th><th scope=col>&lt;dbl&gt;</th><th scope=col>&lt;chr&gt;</th><th scope=col>&lt;chr&gt;</th><th scope=col>&lt;dttm&gt;</th><th scope=col>&lt;dttm&gt;</th><th scope=col>&lt;chr&gt;</th></tr>\n",
       "</thead>\n",
       "<tbody>\n",
       "\t<tr><td>2019-11-29 04:37:22</td><td>FALSE</td><td>FALSE</td><td>NO</td><td>NO</td><td>NO</td><td>20100001</td><td>15751</td><td>2010-03-10 08:05:46</td><td>SUPPLEMENTAL FINAL</td><td>⋯</td><td>NA</td><td>NA</td><td>NA</td><td>NA</td><td>NA</td><td>NO </td><td>LINE WAS INACTIVE AT THE TIME.                                                  </td><td>NA</td><td>NA</td><td>NA</td></tr>\n",
       "\t<tr><td>2019-11-29 04:37:22</td><td>FALSE</td><td>FALSE</td><td>NO</td><td>NO</td><td>NO</td><td>20100002</td><td>19837</td><td>2010-03-16 13:43:54</td><td>SUPPLEMENTAL FINAL</td><td>⋯</td><td>NA</td><td>NA</td><td>NA</td><td>NA</td><td>NA</td><td>YES</td><td>NA                                                                              </td><td>2010-03-01 06:51:00</td><td>2010-03-04 21:00:00</td><td>NA</td></tr>\n",
       "\t<tr><td>2019-11-29 04:37:22</td><td> TRUE</td><td>FALSE</td><td>NO</td><td>NO</td><td>NO</td><td>20100003</td><td>18021</td><td>2010-03-17 06:38:15</td><td>SUPPLEMENTAL FINAL</td><td>⋯</td><td>NA</td><td>NA</td><td>NA</td><td>NA</td><td>NA</td><td>NO </td><td>ABLE TO BYPASS LEAK AREA.                                                       </td><td>NA</td><td>NA</td><td>NA</td></tr>\n",
       "\t<tr><td>2019-11-29 04:37:22</td><td>FALSE</td><td>FALSE</td><td>NO</td><td>NO</td><td>NO</td><td>20100004</td><td>19086</td><td>2010-03-18 09:18:48</td><td>SUPPLEMENTAL FINAL</td><td>⋯</td><td>NA</td><td>NA</td><td>NA</td><td>NA</td><td>NA</td><td>YES</td><td>NA                                                                              </td><td>2010-02-19 01:52:00</td><td>2010-02-19 08:52:00</td><td>NA</td></tr>\n",
       "\t<tr><td>2019-11-29 04:37:22</td><td>FALSE</td><td>FALSE</td><td>NO</td><td>NO</td><td>NO</td><td>20100005</td><td>17663</td><td>2010-03-18 10:26:48</td><td>SUPPLEMENTAL FINAL</td><td>⋯</td><td>NA</td><td>NA</td><td>NA</td><td>NA</td><td>NA</td><td>NO </td><td>NA                                                                              </td><td>NA</td><td>NA</td><td>NA</td></tr>\n",
       "\t<tr><td>2019-11-29 04:37:22</td><td>FALSE</td><td>FALSE</td><td>NO</td><td>NO</td><td>NO</td><td>20100006</td><td>17891</td><td>2010-03-19 10:48:18</td><td>SUPPLEMENTAL FINAL</td><td>⋯</td><td>NA</td><td>NA</td><td>NA</td><td>NA</td><td>NA</td><td>NO </td><td>TRANSFER BEGAN AT 10:56.  VALVE RELEASING PRODUCT WAS DISCOVERED/CLOSED AT 11:25</td><td>NA</td><td>NA</td><td>NA</td></tr>\n",
       "</tbody>\n",
       "</table>\n"
      ],
      "text/latex": [
       "A tibble: 6 × 50\n",
       "\\begin{tabular}{r|llllllllllllllllllllllllllllllllllllllllllllllllll}\n",
       " DATAFILE\\_AS\\_OF & significant & serious & ipe & integrity\\_assessment\\_target & operations\\_maintenance\\_target & REPORT\\_NUMBER & SUPPLEMENTAL\\_NUMBER & REPORT\\_RECEIVED\\_DATE & REPORT\\_TYPE & ID & name & OPERATOR\\_STREET\\_ADDRESS & OPERATOR\\_CITY\\_NAME & OPERATOR\\_STATE\\_ABBREVIATION & OPERATOR\\_POSTAL\\_CODE & LOCAL\\_DATETIME & year & LOCATION\\_LATITUDE & LOCATION\\_LONGITUDE & NRC\\_RPT\\_NUM & NRC\\_RPT\\_DATETIME & commodity & COMMODITY\\_SUBTYPE & COMMODITY\\_DETAILS & BLEND\\_DETAILS & BIO\\_DIESEL\\_DETAILS & UNINTENTIONAL\\_RELEASE\\_BBLS & INTENTIONAL\\_RELEASE\\_BBLS & RECOVERED\\_BBLS & NET\\_LOSS\\_BBLS & FATALITY\\_IND & NUM\\_EMP\\_FATALITIES & NUM\\_CONTR\\_FATALITIES & NUM\\_ER\\_FATALITIES & NUM\\_WORKER\\_FATALITIES & NUM\\_GP\\_FATALITIES & FATAL & INJURY\\_IND & NUM\\_EMP\\_INJURIES & NUM\\_CONTR\\_INJURIES & NUM\\_ER\\_INJURIES & NUM\\_WORKER\\_INJURIES & NUM\\_GP\\_INJURIES & INJURE & SHUTDOWN\\_DUE\\_ACCIDENT\\_IND & SHUTDOWN\\_EXPLAIN & SHUTDOWN\\_DATETIME & RESTART\\_DATETIME & STILL\\_SHUTDOWN\\_IND\\\\\n",
       " <dttm> & <lgl> & <lgl> & <chr> & <chr> & <chr> & <dbl> & <dbl> & <dttm> & <chr> & <dbl> & <chr> & <chr> & <chr> & <chr> & <chr> & <dttm> & <dbl> & <dbl> & <dbl> & <chr> & <dttm> & <chr> & <chr> & <chr> & <dbl> & <dbl> & <dbl> & <dbl> & <dbl> & <dbl> & <chr> & <dbl> & <dbl> & <dbl> & <dbl> & <dbl> & <dbl> & <chr> & <dbl> & <dbl> & <dbl> & <dbl> & <dbl> & <dbl> & <chr> & <chr> & <dttm> & <dttm> & <chr>\\\\\n",
       "\\hline\n",
       "\t 2019-11-29 04:37:22 & FALSE & FALSE & NO & NO & NO & 20100001 & 15751 & 2010-03-10 08:05:46 & SUPPLEMENTAL FINAL & 22610 & Magellan Pipeline Company & MAGELLAN MIDSTREAM PARTNERS, L.P.     & TULSA         & OK & 74172      & 2010-02-16 02:42:00 & 2010 & 41.94352 &  -88.23353 & NA     & NA & non\\_hvl & DIESEL, FUEL OIL, KEROSENE, JET FUEL                       & NA & NA & NA & 0.12 &   0 & 0.12 & 0.00 & NO & NA & NA & NA & NA & NA & NA & NO & NA & NA & NA & NA & NA & NA & NO  & LINE WAS INACTIVE AT THE TIME.                                                   & NA & NA & NA\\\\\n",
       "\t 2019-11-29 04:37:22 & FALSE & FALSE & NO & NO & NO & 20100002 & 19837 & 2010-03-16 13:43:54 & SUPPLEMENTAL FINAL & 31672 & Chaparral Energy          & 701 CEDAR LAKE BLVD                   & OKLAHOMA CITY & OK & 73114      & 2010-03-01 06:50:00 & 2010 & 37.10847 & -100.80037 & NA     & NA & co2     & NA                                                         & NA & NA & NA & 2.99 &  NA & 0.00 & 2.99 & NO & NA & NA & NA & NA & NA & NA & NO & NA & NA & NA & NA & NA & NA & YES & NA                                                                               & 2010-03-01 06:51:00 & 2010-03-04 21:00:00 & NA\\\\\n",
       "\t 2019-11-29 04:37:22 &  TRUE & FALSE & NO & NO & NO & 20100003 & 18021 & 2010-03-17 06:38:15 & SUPPLEMENTAL FINAL & 32035 & Ldh Energy Pipeline       & 13430 NORTHWEST FREEWAY   SUITE 1200  & HOUSTON       & TX & 77040-6019 & 2010-02-22 05:38:00 & 2010 & 32.22471 & -101.40440 & NA     & NA & hvl     & LPG (LIQUEFIED PETROLEUM GAS)  /  NGL (NATURAL GAS LIQUID) & NA & NA & NA & 1.00 & 116 & 0.00 & 1.00 & NO & NA & NA & NA & NA & NA & NA & NO & NA & NA & NA & NA & NA & NA & NO  & ABLE TO BYPASS LEAK AREA.                                                        & NA & NA & NA\\\\\n",
       "\t 2019-11-29 04:37:22 & FALSE & FALSE & NO & NO & NO & 20100004 & 19086 & 2010-03-18 09:18:48 & SUPPLEMENTAL FINAL &  1845 & Buckeye Partners          & FIVE TEK PARK                         & BREINIGSVILLE & PA & 18031      & 2010-02-19 01:50:00 & 2010 & 40.60860 &  -74.23990 & 931649 & 2010-02-19 02:23:00 & non\\_hvl & DIESEL, FUEL OIL, KEROSENE, JET FUEL                       & NA & NA & NA & 0.95 &  NA & 0.95 & 0.00 & NO & NA & NA & NA & NA & NA & NA & NO & NA & NA & NA & NA & NA & NA & YES & NA                                                                               & 2010-02-19 01:52:00 & 2010-02-19 08:52:00 & NA\\\\\n",
       "\t 2019-11-29 04:37:22 & FALSE & FALSE & NO & NO & NO & 20100005 & 17663 & 2010-03-18 10:26:48 & SUPPLEMENTAL FINAL &   300 & Plains Pipeline           & 333 CLAY STREET                       & HOUSTON       & TX & 772104648  & 2010-02-21 07:45:00 & 2010 & 31.13284 & -101.18974 & NA     & NA & crude   & NA                                                         & NA & NA & NA & 9.00 &   0 & 9.00 & 0.00 & NO & NA & NA & NA & NA & NA & NA & NO & NA & NA & NA & NA & NA & NA & NO  & NA                                                                               & NA & NA & NA\\\\\n",
       "\t 2019-11-29 04:37:22 & FALSE & FALSE & NO & NO & NO & 20100006 & 17891 & 2010-03-19 10:48:18 & SUPPLEMENTAL FINAL & 31684 & Conocophillips            & 600 NORTH DAIRY ASHFORD               & HOUSTON       & TX & 77079      & 2010-02-22 05:56:00 & 2010 & 47.71696 & -117.35583 & NA     & NA & non\\_hvl & DIESEL, FUEL OIL, KEROSENE, JET FUEL                       & NA & NA & NA & 0.71 &  NA & 0.00 & 0.71 & NO & NA & NA & NA & NA & NA & NA & NO & NA & NA & NA & NA & NA & NA & NO  & TRANSFER BEGAN AT 10:56.  VALVE RELEASING PRODUCT WAS DISCOVERED/CLOSED AT 11:25 & NA & NA & NA\\\\\n",
       "\\end{tabular}\n"
      ],
      "text/markdown": [
       "\n",
       "A tibble: 6 × 50\n",
       "\n",
       "| DATAFILE_AS_OF &lt;dttm&gt; | significant &lt;lgl&gt; | serious &lt;lgl&gt; | ipe &lt;chr&gt; | integrity_assessment_target &lt;chr&gt; | operations_maintenance_target &lt;chr&gt; | REPORT_NUMBER &lt;dbl&gt; | SUPPLEMENTAL_NUMBER &lt;dbl&gt; | REPORT_RECEIVED_DATE &lt;dttm&gt; | REPORT_TYPE &lt;chr&gt; | ⋯ ⋯ | NUM_CONTR_INJURIES &lt;dbl&gt; | NUM_ER_INJURIES &lt;dbl&gt; | NUM_WORKER_INJURIES &lt;dbl&gt; | NUM_GP_INJURIES &lt;dbl&gt; | INJURE &lt;dbl&gt; | SHUTDOWN_DUE_ACCIDENT_IND &lt;chr&gt; | SHUTDOWN_EXPLAIN &lt;chr&gt; | SHUTDOWN_DATETIME &lt;dttm&gt; | RESTART_DATETIME &lt;dttm&gt; | STILL_SHUTDOWN_IND &lt;chr&gt; |\n",
       "|---|---|---|---|---|---|---|---|---|---|---|---|---|---|---|---|---|---|---|---|---|\n",
       "| 2019-11-29 04:37:22 | FALSE | FALSE | NO | NO | NO | 20100001 | 15751 | 2010-03-10 08:05:46 | SUPPLEMENTAL FINAL | ⋯ | NA | NA | NA | NA | NA | NO  | LINE WAS INACTIVE AT THE TIME.                                                   | NA | NA | NA |\n",
       "| 2019-11-29 04:37:22 | FALSE | FALSE | NO | NO | NO | 20100002 | 19837 | 2010-03-16 13:43:54 | SUPPLEMENTAL FINAL | ⋯ | NA | NA | NA | NA | NA | YES | NA                                                                               | 2010-03-01 06:51:00 | 2010-03-04 21:00:00 | NA |\n",
       "| 2019-11-29 04:37:22 |  TRUE | FALSE | NO | NO | NO | 20100003 | 18021 | 2010-03-17 06:38:15 | SUPPLEMENTAL FINAL | ⋯ | NA | NA | NA | NA | NA | NO  | ABLE TO BYPASS LEAK AREA.                                                        | NA | NA | NA |\n",
       "| 2019-11-29 04:37:22 | FALSE | FALSE | NO | NO | NO | 20100004 | 19086 | 2010-03-18 09:18:48 | SUPPLEMENTAL FINAL | ⋯ | NA | NA | NA | NA | NA | YES | NA                                                                               | 2010-02-19 01:52:00 | 2010-02-19 08:52:00 | NA |\n",
       "| 2019-11-29 04:37:22 | FALSE | FALSE | NO | NO | NO | 20100005 | 17663 | 2010-03-18 10:26:48 | SUPPLEMENTAL FINAL | ⋯ | NA | NA | NA | NA | NA | NO  | NA                                                                               | NA | NA | NA |\n",
       "| 2019-11-29 04:37:22 | FALSE | FALSE | NO | NO | NO | 20100006 | 17891 | 2010-03-19 10:48:18 | SUPPLEMENTAL FINAL | ⋯ | NA | NA | NA | NA | NA | NO  | TRANSFER BEGAN AT 10:56.  VALVE RELEASING PRODUCT WAS DISCOVERED/CLOSED AT 11:25 | NA | NA | NA |\n",
       "\n"
      ],
      "text/plain": [
       "  DATAFILE_AS_OF      significant serious ipe integrity_assessment_target\n",
       "1 2019-11-29 04:37:22 FALSE       FALSE   NO  NO                         \n",
       "2 2019-11-29 04:37:22 FALSE       FALSE   NO  NO                         \n",
       "3 2019-11-29 04:37:22  TRUE       FALSE   NO  NO                         \n",
       "4 2019-11-29 04:37:22 FALSE       FALSE   NO  NO                         \n",
       "5 2019-11-29 04:37:22 FALSE       FALSE   NO  NO                         \n",
       "6 2019-11-29 04:37:22 FALSE       FALSE   NO  NO                         \n",
       "  operations_maintenance_target REPORT_NUMBER SUPPLEMENTAL_NUMBER\n",
       "1 NO                            20100001      15751              \n",
       "2 NO                            20100002      19837              \n",
       "3 NO                            20100003      18021              \n",
       "4 NO                            20100004      19086              \n",
       "5 NO                            20100005      17663              \n",
       "6 NO                            20100006      17891              \n",
       "  REPORT_RECEIVED_DATE REPORT_TYPE        ⋯ NUM_CONTR_INJURIES NUM_ER_INJURIES\n",
       "1 2010-03-10 08:05:46  SUPPLEMENTAL FINAL ⋯ NA                 NA             \n",
       "2 2010-03-16 13:43:54  SUPPLEMENTAL FINAL ⋯ NA                 NA             \n",
       "3 2010-03-17 06:38:15  SUPPLEMENTAL FINAL ⋯ NA                 NA             \n",
       "4 2010-03-18 09:18:48  SUPPLEMENTAL FINAL ⋯ NA                 NA             \n",
       "5 2010-03-18 10:26:48  SUPPLEMENTAL FINAL ⋯ NA                 NA             \n",
       "6 2010-03-19 10:48:18  SUPPLEMENTAL FINAL ⋯ NA                 NA             \n",
       "  NUM_WORKER_INJURIES NUM_GP_INJURIES INJURE SHUTDOWN_DUE_ACCIDENT_IND\n",
       "1 NA                  NA              NA     NO                       \n",
       "2 NA                  NA              NA     YES                      \n",
       "3 NA                  NA              NA     NO                       \n",
       "4 NA                  NA              NA     YES                      \n",
       "5 NA                  NA              NA     NO                       \n",
       "6 NA                  NA              NA     NO                       \n",
       "  SHUTDOWN_EXPLAIN                                                                \n",
       "1 LINE WAS INACTIVE AT THE TIME.                                                  \n",
       "2 NA                                                                              \n",
       "3 ABLE TO BYPASS LEAK AREA.                                                       \n",
       "4 NA                                                                              \n",
       "5 NA                                                                              \n",
       "6 TRANSFER BEGAN AT 10:56.  VALVE RELEASING PRODUCT WAS DISCOVERED/CLOSED AT 11:25\n",
       "  SHUTDOWN_DATETIME   RESTART_DATETIME    STILL_SHUTDOWN_IND\n",
       "1 <NA>                <NA>                NA                \n",
       "2 2010-03-01 06:51:00 2010-03-04 21:00:00 NA                \n",
       "3 <NA>                <NA>                NA                \n",
       "4 2010-02-19 01:52:00 2010-02-19 08:52:00 NA                \n",
       "5 <NA>                <NA>                NA                \n",
       "6 <NA>                <NA>                NA                "
      ]
     },
     "metadata": {},
     "output_type": "display_data"
    }
   ],
   "source": [
    "head(incidents_2010[1:50])"
   ]
  },
  {
   "cell_type": "code",
   "execution_count": null,
   "metadata": {
    "slideshow": {
     "slide_type": "skip"
    }
   },
   "outputs": [],
   "source": []
  },
  {
   "cell_type": "code",
   "execution_count": null,
   "metadata": {
    "slideshow": {
     "slide_type": "skip"
    }
   },
   "outputs": [],
   "source": []
  },
  {
   "cell_type": "code",
   "execution_count": null,
   "metadata": {
    "slideshow": {
     "slide_type": "skip"
    }
   },
   "outputs": [],
   "source": []
  },
  {
   "cell_type": "markdown",
   "metadata": {
    "slideshow": {
     "slide_type": "slide"
    }
   },
   "source": [
    "## 1. There are a few phenomena that got got my attention"
   ]
  },
  {
   "cell_type": "markdown",
   "metadata": {
    "slideshow": {
     "slide_type": "subslide"
    }
   },
   "source": [
    "### 1a. Radically diverging epistemologies"
   ]
  },
  {
   "cell_type": "markdown",
   "metadata": {},
   "source": [
    "https://www.forbes.com/sites/brighammccown/2018/06/04/what-ever-happened-to-the-dakota-access-pipeline/#9b4601b4055c\n",
    "\n",
    "(Paraphrasing)\n",
    "\n",
    "*Pipelines are safe. Spills don't happen, and even if they do, we have that under control.*"
   ]
  },
  {
   "cell_type": "markdown",
   "metadata": {},
   "source": [
    "---"
   ]
  },
  {
   "cell_type": "markdown",
   "metadata": {
    "slideshow": {
     "slide_type": "fragment"
    }
   },
   "source": [
    "**Vs.**\n",
    "\n",
    "https://www.businessinsider.com/north-dakota-access-pipeline-protest-drinking-water-2016-10\n",
    "\n",
    "(Paraphrasing)\n",
    "\n",
    "*Our water is pristine. We live in untouched nature, and drink the water from the source, no processing necessary. The pipeline can only diminish our water quality; over the long run, it will.*"
   ]
  },
  {
   "cell_type": "code",
   "execution_count": null,
   "metadata": {
    "slideshow": {
     "slide_type": "skip"
    }
   },
   "outputs": [],
   "source": []
  },
  {
   "cell_type": "markdown",
   "metadata": {
    "slideshow": {
     "slide_type": "subslide"
    }
   },
   "source": [
    "On a related note."
   ]
  },
  {
   "cell_type": "markdown",
   "metadata": {
    "slideshow": {
     "slide_type": "fragment"
    }
   },
   "source": [
    "#### The reality of living with a pipeline (or at least one of them)"
   ]
  },
  {
   "cell_type": "markdown",
   "metadata": {},
   "source": [
    "https://www.theguardian.com/us-news/2020/jan/27/pennsylvania-residents-mariner-east-pipelines-drinking-water-contamination\n",
    "\n",
    "Another project of Energy Transfer Partners. The project is plagued by problems, and undergoing a criminal investigation. The story illuminates the human dimension, from the perspective of a stakeholder that initially had a positive attitude toward pipelines.\n",
    "\n",
    "https://marinerpipelinefacts.com/safety/pipeline-safety/\n",
    "\n",
    "The website emphasizes that Energy Transfer Partners is adhering to all regulations. This is presented as something positive, even though it amounts to \"we are not doing anything illegal\" (and the lawsuits indicate that even that is not true), while avoiding to discuss the safety record in an empirical way. "
   ]
  },
  {
   "cell_type": "markdown",
   "metadata": {
    "slideshow": {
     "slide_type": "subslide"
    }
   },
   "source": [
    "### 1b. The contents of learning"
   ]
  },
  {
   "cell_type": "markdown",
   "metadata": {},
   "source": [
    "Learning literature: organizations/populations can choose to learn toward different technologies. For instance, short and long run payoff can differ based on the technology, a famous example from the literature is myopia causing organizations to exploit and learn toward an inferior technology (competency traps; Levinthal and March 1993)."
   ]
  },
  {
   "cell_type": "markdown",
   "metadata": {
    "slideshow": {
     "slide_type": "fragment"
    }
   },
   "source": [
    "#### Mitigation\n",
    "\n",
    "In the offshore subindustry, the learning objective is mitigation (or at least one goal is). There is no empirical evidence that indicates that this is the superior pathway (and maybe it would be impossible to empirically compare this technology to other options in an objective comparative cost-benefit analysis). In the scientific community this technology is controversiall; while researchers do not dare to make a definitve statement (even in a meta analysis) they recognize that it is possible that dispersants do more (additional) harm than good (Beyer et al. 2016)."
   ]
  },
  {
   "cell_type": "markdown",
   "metadata": {
    "slideshow": {
     "slide_type": "subslide"
    }
   },
   "source": [
    "#### Prevention\n",
    "\n",
    "In some cases, industries choose prevention rather than mitigation.\n",
    "\n",
    "1. Canadian Energy Pipeline Association (CEPA) Integrity First initiative\n",
    "* https://cepa.com/en/cepa-integrity-first/\n",
    "* Goal set as total prevention (zero incidents)."
   ]
  },
  {
   "cell_type": "markdown",
   "metadata": {
    "slideshow": {
     "slide_type": "fragment"
    }
   },
   "source": [
    "**Other industries**\n",
    "\n",
    "2. Shinkansen \"perfect\" safety record (no casualties)\n",
    "3. Many airlines with perfect safety record"
   ]
  },
  {
   "cell_type": "markdown",
   "metadata": {
    "slideshow": {
     "slide_type": "slide"
    }
   },
   "source": [
    "## 2. Assumptions/boundary conditions"
   ]
  },
  {
   "cell_type": "markdown",
   "metadata": {
    "slideshow": {
     "slide_type": "subslide"
    }
   },
   "source": [
    "1. Pipelines do not constitute complex systems.\n",
    "2. Oil spills to not represent failure (or at least they are not interpreted as such). They represent near-misses that are interpreted as success, when the oil spill is contained quickly."
   ]
  },
  {
   "cell_type": "code",
   "execution_count": null,
   "metadata": {
    "slideshow": {
     "slide_type": "skip"
    }
   },
   "outputs": [],
   "source": []
  },
  {
   "cell_type": "code",
   "execution_count": null,
   "metadata": {
    "slideshow": {
     "slide_type": "skip"
    }
   },
   "outputs": [],
   "source": []
  },
  {
   "cell_type": "code",
   "execution_count": null,
   "metadata": {
    "slideshow": {
     "slide_type": "skip"
    }
   },
   "outputs": [],
   "source": []
  },
  {
   "cell_type": "markdown",
   "metadata": {
    "slideshow": {
     "slide_type": "slide"
    }
   },
   "source": [
    "## 3. Section title - something with theory I guess?"
   ]
  },
  {
   "cell_type": "markdown",
   "metadata": {
    "slideshow": {
     "slide_type": "subslide"
    }
   },
   "source": [
    "(See also notes)\n",
    "\n",
    "1\\. Companies have environmental impacts"
   ]
  },
  {
   "cell_type": "markdown",
   "metadata": {
    "slideshow": {
     "slide_type": "fragment"
    }
   },
   "source": [
    "2\\. Why don't these companies eliminate their environmental impacts?"
   ]
  },
  {
   "cell_type": "markdown",
   "metadata": {
    "slideshow": {
     "slide_type": "subslide"
    }
   },
   "source": [
    "3\\. What would be their motivation to do so?"
   ]
  },
  {
   "cell_type": "markdown",
   "metadata": {
    "slideshow": {
     "slide_type": "fragment"
    }
   },
   "source": [
    "4\\. a. Environmental feedback\n",
    "\n",
    "    * Serious accidents (learning from failure literature applies)\n",
    "    * Minor failure - reinterpreted as near-misses and disregarded (literature applies)\n",
    "\n",
    "        Are these environmental feedback?"
   ]
  },
  {
   "cell_type": "markdown",
   "metadata": {
    "slideshow": {
     "slide_type": "fragment"
    }
   },
   "source": [
    "4\\. b. In the absense of meaningful environmental feedback, aspirations are the mechanisms. \n",
    "\n",
    "    Organizations are selected for their attribute to strive toward improvement/not get worse.\n",
    "    \n",
    "    Does this also apply if the metric is not crucial to survival? Probably, when decision making is arbitrary."
   ]
  },
  {
   "cell_type": "markdown",
   "metadata": {
    "slideshow": {
     "slide_type": "subslide"
    }
   },
   "source": [
    "5\\. How would companies respond to the feedack or to missing an aspirational goal?"
   ]
  },
  {
   "cell_type": "markdown",
   "metadata": {
    "slideshow": {
     "slide_type": "fragment"
    }
   },
   "source": [
    "6\\. a. (If goal is met) Exploitation\n",
    "6\\. b. (If goal is missed) Vicarious learning\n",
    "\n",
    "    How does population-level learning come into the picture? How is that triggered? If companies are in competition across populations, that would be one reason. If they do not, does population-level learning just not occur?"
   ]
  },
  {
   "cell_type": "markdown",
   "metadata": {
    "slideshow": {
     "slide_type": "fragment"
    }
   },
   "source": [
    "7\\. What has learning concentrated on? Qualitative dimension of learning\n",
    "    \n",
    "    a. Learning could concentrate on mitigation rather than avoidance\n",
    "    \n",
    "    b. We have strong indications of this, for instance in the debate about dispersants"
   ]
  },
  {
   "cell_type": "markdown",
   "metadata": {
    "slideshow": {
     "slide_type": "fragment"
    }
   },
   "source": [
    "8\\. Is there any relevance from this for reducing the number of incidents?\n",
    "\n",
    "    Maybe in the fact that organizations should choose certain technologies over others - avoid the competency trap.\n",
    "    \n",
    "    Or maybe in epistemology? Population-wide change based on epistemology changing? This point is close to other literatures though, not learning-specific."
   ]
  },
  {
   "cell_type": "code",
   "execution_count": null,
   "metadata": {
    "slideshow": {
     "slide_type": "skip"
    }
   },
   "outputs": [],
   "source": []
  },
  {
   "cell_type": "code",
   "execution_count": null,
   "metadata": {
    "slideshow": {
     "slide_type": "skip"
    }
   },
   "outputs": [],
   "source": []
  },
  {
   "cell_type": "code",
   "execution_count": null,
   "metadata": {
    "slideshow": {
     "slide_type": "skip"
    }
   },
   "outputs": [],
   "source": []
  },
  {
   "cell_type": "markdown",
   "metadata": {
    "slideshow": {
     "slide_type": "slide"
    }
   },
   "source": [
    "## 4. There is a fundamental issue to discuss"
   ]
  },
  {
   "cell_type": "markdown",
   "metadata": {},
   "source": [
    "\"Agenda\"\n",
    "\n",
    "* *Hey, look, there is an impact/performance* does not cut it anymore. \n",
    "* The academic audience is familiar with Superfund sites - they will not be impressed with the discovery of oil spills (\"so what\").\n",
    "* The extention *indigenous communities are suffering* is also not a box that I want to be put in either.\n",
    "* There is an expectation that papers offer a \"solution\", and I don't believe that I am neutral in the endeavor to \"find it\" (maybe neutral in testing it)."
   ]
  },
  {
   "cell_type": "markdown",
   "metadata": {
    "slideshow": {
     "slide_type": "fragment"
    }
   },
   "source": [
    "There are currently ideas in my head:\n",
    "\n",
    "1. Technology - population learning is progressing toward *mitigation*. Maybe the learning direction of *prevention* would be more promising, but path dependence/competence trap/myopia.\n",
    "    - Competency trap\n",
    "2. Aspirations - the idea of a perfect safety record could penetrate the industry. Why do this in learning though?"
   ]
  },
  {
   "cell_type": "markdown",
   "metadata": {
    "slideshow": {
     "slide_type": "slide"
    }
   },
   "source": [
    "## 5. There might be something that I am still missing the language to describe"
   ]
  },
  {
   "cell_type": "markdown",
   "metadata": {},
   "source": [
    "What is it we are trying to optimize? The number of failure events, or the outcomes thereof?\n",
    "\n",
    "There are two different learning philosophies out there:\n",
    "1. We try to prevent any failure events to occur at all\n",
    "2. We try to alleviate the outcomes of all failure events to effectively neutralize them (despite them still occuring)"
   ]
  },
  {
   "cell_type": "markdown",
   "metadata": {
    "slideshow": {
     "slide_type": "subslide"
    }
   },
   "source": [
    "* One could imagine an organization investing in responsiveness rather than upgrading existing infastructure."
   ]
  },
  {
   "cell_type": "markdown",
   "metadata": {
    "slideshow": {
     "slide_type": "fragment"
    }
   },
   "source": [
    "* An alternative approach to learning would be to use statistics to identify at-risk equipment."
   ]
  },
  {
   "cell_type": "markdown",
   "metadata": {
    "slideshow": {
     "slide_type": "fragment"
    }
   },
   "source": [
    "* An applied example would be oil firms research on dispersants."
   ]
  },
  {
   "cell_type": "markdown",
   "metadata": {
    "slideshow": {
     "slide_type": "subslide"
    }
   },
   "source": [
    "Dispersants are interesting, because they are of questionable usefulness. Resources are invested for one technology that is thought to be useful. At the detriment of more useful activities maybe. One technological path is chosen. Myopia?"
   ]
  },
  {
   "cell_type": "markdown",
   "metadata": {
    "slideshow": {
     "slide_type": "fragment"
    }
   },
   "source": [
    "The problem is (and this is raised quite often in the debate) that to design a safe system in the first place is claimed to be financially infeasible."
   ]
  },
  {
   "cell_type": "markdown",
   "metadata": {
    "slideshow": {
     "slide_type": "fragment"
    }
   },
   "source": [
    "An economically weak argument, because the argument can be made that the original profitibility studies also do not take into consideration the potential cost of the potential accidents that are rendered possible. The unsafe design might also be financially unfeasible, just over a different time frame."
   ]
  },
  {
   "cell_type": "markdown",
   "metadata": {
    "slideshow": {
     "slide_type": "subslide"
    }
   },
   "source": [
    "Related to the Levinthal and March (1993) idea I touched on earlier."
   ]
  }
 ],
 "metadata": {
  "jupytext": {
   "formats": "ipynb,Rmd"
  },
  "kernelspec": {
   "display_name": "R 3.6.1",
   "language": "R",
   "name": "ir361"
  },
  "language_info": {
   "codemirror_mode": "r",
   "file_extension": ".r",
   "mimetype": "text/x-r-source",
   "name": "R",
   "pygments_lexer": "r",
   "version": "3.6.2"
  }
 },
 "nbformat": 4,
 "nbformat_minor": 4
}
