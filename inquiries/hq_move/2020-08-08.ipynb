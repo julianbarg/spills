{
 "cells": [
  {
   "cell_type": "markdown",
   "metadata": {
    "slideshow": {
     "slide_type": "slide"
    }
   },
   "source": [
    "# Operator change of HQ"
   ]
  },
  {
   "cell_type": "markdown",
   "metadata": {
    "slideshow": {
     "slide_type": "subslide"
    }
   },
   "source": [
    "## Setup"
   ]
  },
  {
   "cell_type": "code",
   "execution_count": 1,
   "metadata": {},
   "outputs": [
    {
     "name": "stderr",
     "output_type": "stream",
     "text": [
      "── \u001b[1mAttaching packages\u001b[22m ─────────────────────────────────────── tidyverse 1.3.0 ──\n",
      "\n",
      "\u001b[32m✔\u001b[39m \u001b[34mggplot2\u001b[39m 3.3.2     \u001b[32m✔\u001b[39m \u001b[34mpurrr  \u001b[39m 0.3.4\n",
      "\u001b[32m✔\u001b[39m \u001b[34mtibble \u001b[39m 3.0.3     \u001b[32m✔\u001b[39m \u001b[34mdplyr  \u001b[39m 1.0.1\n",
      "\u001b[32m✔\u001b[39m \u001b[34mtidyr  \u001b[39m 1.1.1     \u001b[32m✔\u001b[39m \u001b[34mstringr\u001b[39m 1.4.0\n",
      "\u001b[32m✔\u001b[39m \u001b[34mreadr  \u001b[39m 1.3.1     \u001b[32m✔\u001b[39m \u001b[34mforcats\u001b[39m 0.5.0\n",
      "\n",
      "── \u001b[1mConflicts\u001b[22m ────────────────────────────────────────── tidyverse_conflicts() ──\n",
      "\u001b[31m✖\u001b[39m \u001b[34mdplyr\u001b[39m::\u001b[32mfilter()\u001b[39m masks \u001b[34mstats\u001b[39m::filter()\n",
      "\u001b[31m✖\u001b[39m \u001b[34mdplyr\u001b[39m::\u001b[32mlag()\u001b[39m    masks \u001b[34mstats\u001b[39m::lag()\n",
      "\n"
     ]
    }
   ],
   "source": [
    "library(tidyverse)\n",
    "library(oildata)"
   ]
  },
  {
   "cell_type": "code",
   "execution_count": 2,
   "metadata": {
    "slideshow": {
     "slide_type": "subslide"
    }
   },
   "outputs": [
    {
     "data": {
      "text/html": [
       "<table>\n",
       "<caption>A tibble: 6 × 30</caption>\n",
       "<thead>\n",
       "\t<tr><th scope=col>year</th><th scope=col>commodity</th><th scope=col>ID</th><th scope=col>name</th><th scope=col>state</th><th scope=col>offshore_share</th><th scope=col>on_offshore</th><th scope=col>hca</th><th scope=col>miles</th><th scope=col>volume_crude</th><th scope=col>⋯</th><th scope=col>estimate_volume_specific</th><th scope=col>incidents</th><th scope=col>significant_incidents</th><th scope=col>serious_incidents</th><th scope=col>incidents_volume</th><th scope=col>recovered</th><th scope=col>net_loss_volume</th><th scope=col>significant_incidents_volume</th><th scope=col>incidents_cost</th><th scope=col>significant_incidents_cost</th></tr>\n",
       "\t<tr><th scope=col>&lt;dbl&gt;</th><th scope=col>&lt;chr&gt;</th><th scope=col>&lt;chr&gt;</th><th scope=col>&lt;chr&gt;</th><th scope=col>&lt;chr&gt;</th><th scope=col>&lt;dbl&gt;</th><th scope=col>&lt;chr&gt;</th><th scope=col>&lt;dbl&gt;</th><th scope=col>&lt;dbl&gt;</th><th scope=col>&lt;dbl&gt;</th><th scope=col>⋯</th><th scope=col>&lt;dbl&gt;</th><th scope=col>&lt;int&gt;</th><th scope=col>&lt;int&gt;</th><th scope=col>&lt;int&gt;</th><th scope=col>&lt;dbl&gt;</th><th scope=col>&lt;dbl&gt;</th><th scope=col>&lt;dbl&gt;</th><th scope=col>&lt;dbl&gt;</th><th scope=col>&lt;dbl&gt;</th><th scope=col>&lt;dbl&gt;</th></tr>\n",
       "</thead>\n",
       "<tbody>\n",
       "\t<tr><td>2008</td><td>crude</td><td>31083        </td><td>Helco-Hawaii Electric Light Company           </td><td>NA</td><td>0</td><td>onshore</td><td>  0.00</td><td>   2.18</td><td>   1595583</td><td>⋯</td><td>    1595583</td><td>0</td><td>0</td><td>0</td><td>0</td><td>0</td><td>0</td><td>0</td><td>    0.00</td><td>    0.00</td></tr>\n",
       "\t<tr><td>2008</td><td>rpp  </td><td>26111        </td><td>United Refining                               </td><td>PA</td><td>0</td><td>onshore</td><td>  1.50</td><td>   1.50</td><td>         0</td><td>⋯</td><td>    1400091</td><td>0</td><td>0</td><td>0</td><td>0</td><td>0</td><td>0</td><td>0</td><td>    0.00</td><td>    0.00</td></tr>\n",
       "\t<tr><td>2008</td><td>crude</td><td><span style=white-space:pre-wrap>30658        </span></td><td><span style=white-space:pre-wrap>Kern Oil &amp; Refining                           </span></td><td>NA</td><td>0</td><td>onshore</td><td> 18.57</td><td><span style=white-space:pre-wrap>  18.57</span></td><td> 122000000</td><td>⋯</td><td><span style=white-space:pre-wrap>  122000000</span></td><td>0</td><td>0</td><td>0</td><td>0</td><td>0</td><td>0</td><td>0</td><td><span style=white-space:pre-wrap>    0.00</span></td><td><span style=white-space:pre-wrap>    0.00</span></td></tr>\n",
       "\t<tr><td>2006</td><td>rpp  </td><td>Amoco (Group)</td><td>Amoco Oil                                     </td><td>NA</td><td>0</td><td>onshore</td><td>728.00</td><td>1743.00</td><td>         0</td><td>⋯</td><td>16148390168</td><td>0</td><td>0</td><td>0</td><td>0</td><td>0</td><td>0</td><td>0</td><td>    0.00</td><td>    0.00</td></tr>\n",
       "\t<tr><td>2006</td><td>crude</td><td><span style=white-space:pre-wrap>31874        </span></td><td>Tesoro Refining &amp; Marketing Co., Golden Eagle </td><td>NA</td><td>0</td><td>onshore</td><td><span style=white-space:pre-wrap>  4.30</span></td><td><span style=white-space:pre-wrap>   4.30</span></td><td> 140259924</td><td>⋯</td><td><span style=white-space:pre-wrap>  140259924</span></td><td>0</td><td>0</td><td>0</td><td>0</td><td>0</td><td>0</td><td>0</td><td><span style=white-space:pre-wrap>    0.00</span></td><td><span style=white-space:pre-wrap>    0.00</span></td></tr>\n",
       "\t<tr><td>2006</td><td>crude</td><td>32103        </td><td>Crimson Pipeline                              </td><td>NA</td><td>0</td><td>onshore</td><td>307.27</td><td> 307.27</td><td>1148936999</td><td>⋯</td><td> 1148936999</td><td>1</td><td>1</td><td>0</td><td>2</td><td>1</td><td>1</td><td>2</td><td>58634.38</td><td>58634.38</td></tr>\n",
       "</tbody>\n",
       "</table>\n"
      ],
      "text/latex": [
       "A tibble: 6 × 30\n",
       "\\begin{tabular}{lllllllllllllllllllll}\n",
       " year & commodity & ID & name & state & offshore\\_share & on\\_offshore & hca & miles & volume\\_crude & ⋯ & estimate\\_volume\\_specific & incidents & significant\\_incidents & serious\\_incidents & incidents\\_volume & recovered & net\\_loss\\_volume & significant\\_incidents\\_volume & incidents\\_cost & significant\\_incidents\\_cost\\\\\n",
       " <dbl> & <chr> & <chr> & <chr> & <chr> & <dbl> & <chr> & <dbl> & <dbl> & <dbl> & ⋯ & <dbl> & <int> & <int> & <int> & <dbl> & <dbl> & <dbl> & <dbl> & <dbl> & <dbl>\\\\\n",
       "\\hline\n",
       "\t 2008 & crude & 31083         & Helco-Hawaii Electric Light Company            & NA & 0 & onshore &   0.00 &    2.18 &    1595583 & ⋯ &     1595583 & 0 & 0 & 0 & 0 & 0 & 0 & 0 &     0.00 &     0.00\\\\\n",
       "\t 2008 & rpp   & 26111         & United Refining                                & PA & 0 & onshore &   1.50 &    1.50 &          0 & ⋯ &     1400091 & 0 & 0 & 0 & 0 & 0 & 0 & 0 &     0.00 &     0.00\\\\\n",
       "\t 2008 & crude & 30658         & Kern Oil \\& Refining                            & NA & 0 & onshore &  18.57 &   18.57 &  122000000 & ⋯ &   122000000 & 0 & 0 & 0 & 0 & 0 & 0 & 0 &     0.00 &     0.00\\\\\n",
       "\t 2006 & rpp   & Amoco (Group) & Amoco Oil                                      & NA & 0 & onshore & 728.00 & 1743.00 &          0 & ⋯ & 16148390168 & 0 & 0 & 0 & 0 & 0 & 0 & 0 &     0.00 &     0.00\\\\\n",
       "\t 2006 & crude & 31874         & Tesoro Refining \\& Marketing Co., Golden Eagle  & NA & 0 & onshore &   4.30 &    4.30 &  140259924 & ⋯ &   140259924 & 0 & 0 & 0 & 0 & 0 & 0 & 0 &     0.00 &     0.00\\\\\n",
       "\t 2006 & crude & 32103         & Crimson Pipeline                               & NA & 0 & onshore & 307.27 &  307.27 & 1148936999 & ⋯ &  1148936999 & 1 & 1 & 0 & 2 & 1 & 1 & 2 & 58634.38 & 58634.38\\\\\n",
       "\\end{tabular}\n"
      ],
      "text/markdown": [
       "\n",
       "A tibble: 6 × 30\n",
       "\n",
       "| year &lt;dbl&gt; | commodity &lt;chr&gt; | ID &lt;chr&gt; | name &lt;chr&gt; | state &lt;chr&gt; | offshore_share &lt;dbl&gt; | on_offshore &lt;chr&gt; | hca &lt;dbl&gt; | miles &lt;dbl&gt; | volume_crude &lt;dbl&gt; | ⋯ ⋯ | estimate_volume_specific &lt;dbl&gt; | incidents &lt;int&gt; | significant_incidents &lt;int&gt; | serious_incidents &lt;int&gt; | incidents_volume &lt;dbl&gt; | recovered &lt;dbl&gt; | net_loss_volume &lt;dbl&gt; | significant_incidents_volume &lt;dbl&gt; | incidents_cost &lt;dbl&gt; | significant_incidents_cost &lt;dbl&gt; |\n",
       "|---|---|---|---|---|---|---|---|---|---|---|---|---|---|---|---|---|---|---|---|---|\n",
       "| 2008 | crude | 31083         | Helco-Hawaii Electric Light Company            | NA | 0 | onshore |   0.00 |    2.18 |    1595583 | ⋯ |     1595583 | 0 | 0 | 0 | 0 | 0 | 0 | 0 |     0.00 |     0.00 |\n",
       "| 2008 | rpp   | 26111         | United Refining                                | PA | 0 | onshore |   1.50 |    1.50 |          0 | ⋯ |     1400091 | 0 | 0 | 0 | 0 | 0 | 0 | 0 |     0.00 |     0.00 |\n",
       "| 2008 | crude | 30658         | Kern Oil &amp; Refining                            | NA | 0 | onshore |  18.57 |   18.57 |  122000000 | ⋯ |   122000000 | 0 | 0 | 0 | 0 | 0 | 0 | 0 |     0.00 |     0.00 |\n",
       "| 2006 | rpp   | Amoco (Group) | Amoco Oil                                      | NA | 0 | onshore | 728.00 | 1743.00 |          0 | ⋯ | 16148390168 | 0 | 0 | 0 | 0 | 0 | 0 | 0 |     0.00 |     0.00 |\n",
       "| 2006 | crude | 31874         | Tesoro Refining &amp; Marketing Co., Golden Eagle  | NA | 0 | onshore |   4.30 |    4.30 |  140259924 | ⋯ |   140259924 | 0 | 0 | 0 | 0 | 0 | 0 | 0 |     0.00 |     0.00 |\n",
       "| 2006 | crude | 32103         | Crimson Pipeline                               | NA | 0 | onshore | 307.27 |  307.27 | 1148936999 | ⋯ |  1148936999 | 1 | 1 | 0 | 2 | 1 | 1 | 2 | 58634.38 | 58634.38 |\n",
       "\n"
      ],
      "text/plain": [
       "  year commodity ID            name                                          \n",
       "1 2008 crude     31083         Helco-Hawaii Electric Light Company           \n",
       "2 2008 rpp       26111         United Refining                               \n",
       "3 2008 crude     30658         Kern Oil & Refining                           \n",
       "4 2006 rpp       Amoco (Group) Amoco Oil                                     \n",
       "5 2006 crude     31874         Tesoro Refining & Marketing Co., Golden Eagle \n",
       "6 2006 crude     32103         Crimson Pipeline                              \n",
       "  state offshore_share on_offshore hca    miles   volume_crude ⋯\n",
       "1 NA    0              onshore       0.00    2.18    1595583   ⋯\n",
       "2 PA    0              onshore       1.50    1.50          0   ⋯\n",
       "3 NA    0              onshore      18.57   18.57  122000000   ⋯\n",
       "4 NA    0              onshore     728.00 1743.00          0   ⋯\n",
       "5 NA    0              onshore       4.30    4.30  140259924   ⋯\n",
       "6 NA    0              onshore     307.27  307.27 1148936999   ⋯\n",
       "  estimate_volume_specific incidents significant_incidents serious_incidents\n",
       "1     1595583              0         0                     0                \n",
       "2     1400091              0         0                     0                \n",
       "3   122000000              0         0                     0                \n",
       "4 16148390168              0         0                     0                \n",
       "5   140259924              0         0                     0                \n",
       "6  1148936999              1         1                     0                \n",
       "  incidents_volume recovered net_loss_volume significant_incidents_volume\n",
       "1 0                0         0               0                           \n",
       "2 0                0         0               0                           \n",
       "3 0                0         0               0                           \n",
       "4 0                0         0               0                           \n",
       "5 0                0         0               0                           \n",
       "6 2                1         1               2                           \n",
       "  incidents_cost significant_incidents_cost\n",
       "1     0.00           0.00                  \n",
       "2     0.00           0.00                  \n",
       "3     0.00           0.00                  \n",
       "4     0.00           0.00                  \n",
       "5     0.00           0.00                  \n",
       "6 58634.38       58634.38                  "
      ]
     },
     "metadata": {},
     "output_type": "display_data"
    }
   ],
   "source": [
    "pipelines <- filter(pipelines, on_offshore == \"onshore\" & commodity %in% c(\"crude\", \"rpp\"))\n",
    "head(pipelines)"
   ]
  },
  {
   "cell_type": "markdown",
   "metadata": {
    "slideshow": {
     "slide_type": "slide"
    }
   },
   "source": [
    "## Change of HQ"
   ]
  },
  {
   "cell_type": "markdown",
   "metadata": {
    "slideshow": {
     "slide_type": "subslide"
    }
   },
   "source": [
    "We track change of HQ from one year to another. Particularly of interest are companies moving to Texas or Louisiana, which have particularly lax regulations."
   ]
  },
  {
   "cell_type": "code",
   "execution_count": 3,
   "metadata": {
    "slideshow": {
     "slide_type": "subslide"
    }
   },
   "outputs": [],
   "source": [
    "change_state <- function(df) {\n",
    "    brown_states <- c(\"TX\", \"LA\")\n",
    "    df %>%\n",
    "        group_by(ID, commodity) %>%\n",
    "        arrange(desc(year)) %>%\n",
    "        mutate(move = state != lag(state)) %>%\n",
    "        mutate(move_tx_la = case_when(is.na(move) ~ NA, \n",
    "                                      move & !(lag(state) %in% brown_states) & state %in% brown_states ~ TRUE, \n",
    "                                      TRUE ~ FALSE)) %>%\n",
    "        mutate(moved_tx_la = move_tx_la | lag(move_tx_la) | lag(move_tx_la, 2))\n",
    "}\n",
    "\n",
    "pipelines <- change_state(pipelines)\n",
    "pipelines_ungrouped <- change_state(pipelines_ungrouped)"
   ]
  },
  {
   "cell_type": "code",
   "execution_count": 4,
   "metadata": {
    "slideshow": {
     "slide_type": "subslide"
    }
   },
   "outputs": [
    {
     "data": {
      "text/html": [
       "<table>\n",
       "<caption>A grouped_df: 6 × 33</caption>\n",
       "<thead>\n",
       "\t<tr><th scope=col>move</th><th scope=col>move_tx_la</th><th scope=col>year</th><th scope=col>commodity</th><th scope=col>ID</th><th scope=col>name</th><th scope=col>state</th><th scope=col>offshore_share</th><th scope=col>on_offshore</th><th scope=col>hca</th><th scope=col>⋯</th><th scope=col>incidents</th><th scope=col>significant_incidents</th><th scope=col>serious_incidents</th><th scope=col>incidents_volume</th><th scope=col>recovered</th><th scope=col>net_loss_volume</th><th scope=col>significant_incidents_volume</th><th scope=col>incidents_cost</th><th scope=col>significant_incidents_cost</th><th scope=col>moved_tx_la</th></tr>\n",
       "\t<tr><th scope=col>&lt;lgl&gt;</th><th scope=col>&lt;lgl&gt;</th><th scope=col>&lt;dbl&gt;</th><th scope=col>&lt;chr&gt;</th><th scope=col>&lt;dbl&gt;</th><th scope=col>&lt;chr&gt;</th><th scope=col>&lt;chr&gt;</th><th scope=col>&lt;dbl&gt;</th><th scope=col>&lt;chr&gt;</th><th scope=col>&lt;dbl&gt;</th><th scope=col>⋯</th><th scope=col>&lt;int&gt;</th><th scope=col>&lt;int&gt;</th><th scope=col>&lt;int&gt;</th><th scope=col>&lt;dbl&gt;</th><th scope=col>&lt;dbl&gt;</th><th scope=col>&lt;dbl&gt;</th><th scope=col>&lt;dbl&gt;</th><th scope=col>&lt;dbl&gt;</th><th scope=col>&lt;dbl&gt;</th><th scope=col>&lt;lgl&gt;</th></tr>\n",
       "</thead>\n",
       "<tbody>\n",
       "\t<tr><td><span style=white-space:pre-wrap>   NA</span></td><td><span style=white-space:pre-wrap>   NA</span></td><td>2019</td><td><span style=white-space:pre-wrap>CO2  </span></td><td>117</td><td>Air Products &amp; Chemicals</td><td>PA</td><td>0</td><td><span style=white-space:pre-wrap>total   </span></td><td><span style=white-space:pre-wrap>  11.72</span></td><td>⋯</td><td> 0</td><td>0</td><td>0</td><td><span style=white-space:pre-wrap>   0.00</span></td><td><span style=white-space:pre-wrap>  0.0</span></td><td> 0.00</td><td><span style=white-space:pre-wrap>  0</span></td><td><span style=white-space:pre-wrap>     0.0</span></td><td><span style=white-space:pre-wrap>     0.0</span></td><td>NA</td></tr>\n",
       "\t<tr><td>FALSE</td><td>FALSE</td><td>2019</td><td><span style=white-space:pre-wrap>CO2  </span></td><td>117</td><td>Air Products &amp; Chemicals</td><td>PA</td><td>0</td><td>offshore</td><td><span style=white-space:pre-wrap>   0.00</span></td><td>⋯</td><td> 0</td><td>0</td><td>0</td><td><span style=white-space:pre-wrap>   0.00</span></td><td><span style=white-space:pre-wrap>  0.0</span></td><td> 0.00</td><td><span style=white-space:pre-wrap>  0</span></td><td><span style=white-space:pre-wrap>     0.0</span></td><td><span style=white-space:pre-wrap>     0.0</span></td><td>NA</td></tr>\n",
       "\t<tr><td>FALSE</td><td>FALSE</td><td>2019</td><td><span style=white-space:pre-wrap>CO2  </span></td><td>117</td><td>Air Products &amp; Chemicals</td><td>PA</td><td>0</td><td>onshore </td><td><span style=white-space:pre-wrap>  11.72</span></td><td>⋯</td><td> 0</td><td>0</td><td>0</td><td><span style=white-space:pre-wrap>   0.00</span></td><td><span style=white-space:pre-wrap>  0.0</span></td><td> 0.00</td><td><span style=white-space:pre-wrap>  0</span></td><td><span style=white-space:pre-wrap>     0.0</span></td><td><span style=white-space:pre-wrap>     0.0</span></td><td>NA</td></tr>\n",
       "\t<tr><td>   NA</td><td>   NA</td><td>2019</td><td>crude</td><td>300</td><td>Plains Pipeline         </td><td>TX</td><td>0</td><td>total   </td><td>2022.67</td><td>⋯</td><td>19</td><td>7</td><td>0</td><td>1038.12</td><td>956.5</td><td>81.62</td><td>907</td><td>536838.3</td><td>377120.1</td><td>NA</td></tr>\n",
       "\t<tr><td>FALSE</td><td>FALSE</td><td>2019</td><td>crude</td><td>300</td><td>Plains Pipeline         </td><td>TX</td><td>0</td><td>offshore</td><td>   0.00</td><td>⋯</td><td> 0</td><td>0</td><td>0</td><td>   0.00</td><td>  0.0</td><td> 0.00</td><td>  0</td><td>     0.0</td><td>     0.0</td><td>NA</td></tr>\n",
       "\t<tr><td>FALSE</td><td>FALSE</td><td>2019</td><td>crude</td><td>300</td><td>Plains Pipeline         </td><td>TX</td><td>0</td><td>onshore </td><td>2022.67</td><td>⋯</td><td>19</td><td>7</td><td>0</td><td>1038.12</td><td>956.5</td><td>81.62</td><td>907</td><td>536838.3</td><td>377120.1</td><td>NA</td></tr>\n",
       "</tbody>\n",
       "</table>\n"
      ],
      "text/latex": [
       "A grouped\\_df: 6 × 33\n",
       "\\begin{tabular}{lllllllllllllllllllll}\n",
       " move & move\\_tx\\_la & year & commodity & ID & name & state & offshore\\_share & on\\_offshore & hca & ⋯ & incidents & significant\\_incidents & serious\\_incidents & incidents\\_volume & recovered & net\\_loss\\_volume & significant\\_incidents\\_volume & incidents\\_cost & significant\\_incidents\\_cost & moved\\_tx\\_la\\\\\n",
       " <lgl> & <lgl> & <dbl> & <chr> & <dbl> & <chr> & <chr> & <dbl> & <chr> & <dbl> & ⋯ & <int> & <int> & <int> & <dbl> & <dbl> & <dbl> & <dbl> & <dbl> & <dbl> & <lgl>\\\\\n",
       "\\hline\n",
       "\t    NA &    NA & 2019 & CO2   & 117 & Air Products \\& Chemicals & PA & 0 & total    &   11.72 & ⋯ &  0 & 0 & 0 &    0.00 &   0.0 &  0.00 &   0 &      0.0 &      0.0 & NA\\\\\n",
       "\t FALSE & FALSE & 2019 & CO2   & 117 & Air Products \\& Chemicals & PA & 0 & offshore &    0.00 & ⋯ &  0 & 0 & 0 &    0.00 &   0.0 &  0.00 &   0 &      0.0 &      0.0 & NA\\\\\n",
       "\t FALSE & FALSE & 2019 & CO2   & 117 & Air Products \\& Chemicals & PA & 0 & onshore  &   11.72 & ⋯ &  0 & 0 & 0 &    0.00 &   0.0 &  0.00 &   0 &      0.0 &      0.0 & NA\\\\\n",
       "\t    NA &    NA & 2019 & crude & 300 & Plains Pipeline          & TX & 0 & total    & 2022.67 & ⋯ & 19 & 7 & 0 & 1038.12 & 956.5 & 81.62 & 907 & 536838.3 & 377120.1 & NA\\\\\n",
       "\t FALSE & FALSE & 2019 & crude & 300 & Plains Pipeline          & TX & 0 & offshore &    0.00 & ⋯ &  0 & 0 & 0 &    0.00 &   0.0 &  0.00 &   0 &      0.0 &      0.0 & NA\\\\\n",
       "\t FALSE & FALSE & 2019 & crude & 300 & Plains Pipeline          & TX & 0 & onshore  & 2022.67 & ⋯ & 19 & 7 & 0 & 1038.12 & 956.5 & 81.62 & 907 & 536838.3 & 377120.1 & NA\\\\\n",
       "\\end{tabular}\n"
      ],
      "text/markdown": [
       "\n",
       "A grouped_df: 6 × 33\n",
       "\n",
       "| move &lt;lgl&gt; | move_tx_la &lt;lgl&gt; | year &lt;dbl&gt; | commodity &lt;chr&gt; | ID &lt;dbl&gt; | name &lt;chr&gt; | state &lt;chr&gt; | offshore_share &lt;dbl&gt; | on_offshore &lt;chr&gt; | hca &lt;dbl&gt; | ⋯ ⋯ | incidents &lt;int&gt; | significant_incidents &lt;int&gt; | serious_incidents &lt;int&gt; | incidents_volume &lt;dbl&gt; | recovered &lt;dbl&gt; | net_loss_volume &lt;dbl&gt; | significant_incidents_volume &lt;dbl&gt; | incidents_cost &lt;dbl&gt; | significant_incidents_cost &lt;dbl&gt; | moved_tx_la &lt;lgl&gt; |\n",
       "|---|---|---|---|---|---|---|---|---|---|---|---|---|---|---|---|---|---|---|---|---|\n",
       "|    NA |    NA | 2019 | CO2   | 117 | Air Products &amp; Chemicals | PA | 0 | total    |   11.72 | ⋯ |  0 | 0 | 0 |    0.00 |   0.0 |  0.00 |   0 |      0.0 |      0.0 | NA |\n",
       "| FALSE | FALSE | 2019 | CO2   | 117 | Air Products &amp; Chemicals | PA | 0 | offshore |    0.00 | ⋯ |  0 | 0 | 0 |    0.00 |   0.0 |  0.00 |   0 |      0.0 |      0.0 | NA |\n",
       "| FALSE | FALSE | 2019 | CO2   | 117 | Air Products &amp; Chemicals | PA | 0 | onshore  |   11.72 | ⋯ |  0 | 0 | 0 |    0.00 |   0.0 |  0.00 |   0 |      0.0 |      0.0 | NA |\n",
       "|    NA |    NA | 2019 | crude | 300 | Plains Pipeline          | TX | 0 | total    | 2022.67 | ⋯ | 19 | 7 | 0 | 1038.12 | 956.5 | 81.62 | 907 | 536838.3 | 377120.1 | NA |\n",
       "| FALSE | FALSE | 2019 | crude | 300 | Plains Pipeline          | TX | 0 | offshore |    0.00 | ⋯ |  0 | 0 | 0 |    0.00 |   0.0 |  0.00 |   0 |      0.0 |      0.0 | NA |\n",
       "| FALSE | FALSE | 2019 | crude | 300 | Plains Pipeline          | TX | 0 | onshore  | 2022.67 | ⋯ | 19 | 7 | 0 | 1038.12 | 956.5 | 81.62 | 907 | 536838.3 | 377120.1 | NA |\n",
       "\n"
      ],
      "text/plain": [
       "  move  move_tx_la year commodity ID  name                     state\n",
       "1    NA    NA      2019 CO2       117 Air Products & Chemicals PA   \n",
       "2 FALSE FALSE      2019 CO2       117 Air Products & Chemicals PA   \n",
       "3 FALSE FALSE      2019 CO2       117 Air Products & Chemicals PA   \n",
       "4    NA    NA      2019 crude     300 Plains Pipeline          TX   \n",
       "5 FALSE FALSE      2019 crude     300 Plains Pipeline          TX   \n",
       "6 FALSE FALSE      2019 crude     300 Plains Pipeline          TX   \n",
       "  offshore_share on_offshore hca     ⋯ incidents significant_incidents\n",
       "1 0              total         11.72 ⋯  0        0                    \n",
       "2 0              offshore       0.00 ⋯  0        0                    \n",
       "3 0              onshore       11.72 ⋯  0        0                    \n",
       "4 0              total       2022.67 ⋯ 19        7                    \n",
       "5 0              offshore       0.00 ⋯  0        0                    \n",
       "6 0              onshore     2022.67 ⋯ 19        7                    \n",
       "  serious_incidents incidents_volume recovered net_loss_volume\n",
       "1 0                    0.00            0.0      0.00          \n",
       "2 0                    0.00            0.0      0.00          \n",
       "3 0                    0.00            0.0      0.00          \n",
       "4 0                 1038.12          956.5     81.62          \n",
       "5 0                    0.00            0.0      0.00          \n",
       "6 0                 1038.12          956.5     81.62          \n",
       "  significant_incidents_volume incidents_cost significant_incidents_cost\n",
       "1   0                               0.0            0.0                  \n",
       "2   0                               0.0            0.0                  \n",
       "3   0                               0.0            0.0                  \n",
       "4 907                          536838.3       377120.1                  \n",
       "5   0                               0.0            0.0                  \n",
       "6 907                          536838.3       377120.1                  \n",
       "  moved_tx_la\n",
       "1 NA         \n",
       "2 NA         \n",
       "3 NA         \n",
       "4 NA         \n",
       "5 NA         \n",
       "6 NA         "
      ]
     },
     "metadata": {},
     "output_type": "display_data"
    }
   ],
   "source": [
    "head(select(pipelines_ungrouped, move, move_tx_la, everything()))"
   ]
  },
  {
   "cell_type": "code",
   "execution_count": 5,
   "metadata": {
    "slideshow": {
     "slide_type": "subslide"
    }
   },
   "outputs": [
    {
     "data": {
      "text/plain": [
       "\n",
       "FALSE  TRUE \n",
       "20088  4218 "
      ]
     },
     "metadata": {},
     "output_type": "display_data"
    }
   ],
   "source": [
    "table(is.na(pipelines_ungrouped$move))"
   ]
  },
  {
   "cell_type": "code",
   "execution_count": 6,
   "metadata": {},
   "outputs": [
    {
     "data": {
      "text/plain": [
       "\n",
       "FALSE  TRUE \n",
       "20015    73 "
      ]
     },
     "metadata": {},
     "output_type": "display_data"
    }
   ],
   "source": [
    "table(pipelines_ungrouped$move_tx_la)"
   ]
  },
  {
   "cell_type": "code",
   "execution_count": 7,
   "metadata": {
    "slideshow": {
     "slide_type": "subslide"
    }
   },
   "outputs": [
    {
     "data": {
      "text/html": [
       "292287.011428571"
      ],
      "text/latex": [
       "292287.011428571"
      ],
      "text/markdown": [
       "292287.011428571"
      ],
      "text/plain": [
       "[1] 292287"
      ]
     },
     "metadata": {},
     "output_type": "display_data"
    },
    {
     "data": {
      "text/html": [
       "288166.308253968"
      ],
      "text/latex": [
       "288166.308253968"
      ],
      "text/markdown": [
       "288166.308253968"
      ],
      "text/plain": [
       "[1] 288166.3"
      ]
     },
     "metadata": {},
     "output_type": "display_data"
    }
   ],
   "source": [
    "get_volume <- pipelines_ungrouped %>%\n",
    "    group_by(ID, commodity) %>%\n",
    "    filter(TRUE %in% move_tx_la) %>%\n",
    "    arrange(year) %>%\n",
    "    mutate(prev_spill = sum(lag(incidents_volume), lag(incidents_volume, 2), lag(incidents_volume, 3), na.rm = T), \n",
    "           future_spill = sum(incidents_volume, lead(incidents_volume), lead(incidents_volume, 2), na.rm = T)) %>%\n",
    "    filter(move_tx_la)\n",
    "sum(get_volume$prev_spill)\n",
    "sum(get_volume$future_spill)"
   ]
  }
 ],
 "metadata": {
  "jupytext": {
   "formats": "ipynb,Rmd"
  },
  "kernelspec": {
   "display_name": "R 3.6.1",
   "language": "R",
   "name": "ir361"
  },
  "language_info": {
   "codemirror_mode": "r",
   "file_extension": ".r",
   "mimetype": "text/x-r-source",
   "name": "R",
   "pygments_lexer": "r",
   "version": "3.6.3"
  }
 },
 "nbformat": 4,
 "nbformat_minor": 4
}
